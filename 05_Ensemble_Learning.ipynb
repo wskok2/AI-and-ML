{
  "nbformat": 4,
  "nbformat_minor": 0,
  "metadata": {
    "colab": {
      "name": "05_Ensemble_Learning.ipynb",
      "version": "0.3.2",
      "provenance": []
    },
    "kernelspec": {
      "display_name": "Python 3",
      "language": "python",
      "name": "python3"
    }
  },
  "cells": [
    {
      "metadata": {
        "id": "AXcofv0qXtWF",
        "colab_type": "text"
      },
      "cell_type": "markdown",
      "source": [
        "# TensorFlow Tutorial #05\n",
        "# Ensemble Learning\n",
        "\n",
        "by [Magnus Erik Hvass Pedersen](http://www.hvass-labs.org/)\n",
        "/ [GitHub](https://github.com/Hvass-Labs/TensorFlow-Tutorials) / [Videos on YouTube](https://www.youtube.com/playlist?list=PL9Hr9sNUjfsmEu1ZniY0XpHSzl5uihcXZ)"
      ]
    },
    {
      "metadata": {
        "id": "M2_zMM9uXtWH",
        "colab_type": "text"
      },
      "cell_type": "markdown",
      "source": [
        "## WARNING!\n",
        "\n",
        "**This tutorial does not work with TensorFlow v. 1.9 due to the PrettyTensor builder API apparently no longer being updated and supported by the Google Developers. It is recommended that you use the _Keras API_ instead, which also makes it much easier to train or load multiple models to create an ensemble, see e.g. Tutorial #10 for inspiration on how to load and use pre-trained models using Keras.**"
      ]
    },
    {
      "metadata": {
        "id": "pRgkxXMeXtWH",
        "colab_type": "text"
      },
      "cell_type": "markdown",
      "source": [
        "## Introduction\n",
        "\n",
        "This tutorial shows how to use a so-called ensemble of convolutional neural networks. Instead of using a single neural network, we use several neural networks and average their outputs.\n",
        "\n",
        "This is used on the MNIST data-set for recognizing hand-written digits. The ensemble improves the classification accuracy slightly on the test-set, but the difference is so small that it is possibly random. Furthermore, the ensemble mis-classifies some images that are correctly classified by some of the individual networks.\n",
        "\n",
        "This tutorial builds on the previous tutorials, so you should have a basic understanding of TensorFlow and the add-on package Pretty Tensor. A lot of the source-code and text here is similar to the previous tutorials and may be read quickly if you have recently read the previous tutorials."
      ]
    },
    {
      "metadata": {
        "id": "W-JR_RjrXtWI",
        "colab_type": "text"
      },
      "cell_type": "markdown",
      "source": [
        "## Flowchart"
      ]
    },
    {
      "metadata": {
        "id": "6LXoaBAhXtWK",
        "colab_type": "text"
      },
      "cell_type": "markdown",
      "source": [
        "The following chart shows roughly how the data flows in a single Convolutional Neural Network that is implemented below. The network has two convolutional layers and two fully-connected layers, with the last layer being used for the final classification of the input images. See Tutorial #02 for a more detailed description of this network and convolution in general.\n",
        "\n",
        "This tutorial implements an ensemble of 5 such neural networks, where the network structure is the same but the weights and other variables are different for each network."
      ]
    },
    {
      "metadata": {
        "id": "T46Wy_DJXtWK",
        "colab_type": "code",
        "colab": {
          "base_uri": "https://localhost:8080/",
          "height": 34
        },
        "outputId": "a5806180-e387-4ee0-ca1b-de3bb5ce361c"
      },
      "cell_type": "code",
      "source": [
        "from IPython.display import Image\n",
        "Image('images/02_network_flowchart.png')"
      ],
      "execution_count": 3,
      "outputs": [
        {
          "output_type": "execute_result",
          "data": {
            "image/png": "images/02_network_flowchart.png",
            "text/plain": [
              "<IPython.core.display.Image object>"
            ]
          },
          "metadata": {
            "tags": []
          },
          "execution_count": 3
        }
      ]
    },
    {
      "metadata": {
        "id": "N8S1tiZnXtWQ",
        "colab_type": "text"
      },
      "cell_type": "markdown",
      "source": [
        "## Imports"
      ]
    },
    {
      "metadata": {
        "id": "HiAcUumIXtWR",
        "colab_type": "code",
        "colab": {}
      },
      "cell_type": "code",
      "source": [
        "%matplotlib inline\n",
        "import matplotlib.pyplot as plt\n",
        "import tensorflow as tf\n",
        "import numpy as np\n",
        "from sklearn.metrics import confusion_matrix\n",
        "import time\n",
        "from datetime import timedelta\n",
        "import math\n",
        "import os\n",
        "\n",
        "\n",
        "# from tf.keras.models import Sequential  # This does not work!\n",
        "from tensorflow.python.keras.models import Sequential,Model\n",
        "from tensorflow.python.keras.layers import InputLayer, Input\n",
        "from tensorflow.python.keras.layers import Reshape, MaxPooling2D\n",
        "from tensorflow.python.keras.layers import Conv2D, Dense, Flatten\n"
      ],
      "execution_count": 0,
      "outputs": []
    },
    {
      "metadata": {
        "id": "1vXGxilAXtWT",
        "colab_type": "text"
      },
      "cell_type": "markdown",
      "source": [
        "This was developed using Python 3.5.2 (Anaconda) and TensorFlow version:"
      ]
    },
    {
      "metadata": {
        "id": "GnhoBjWJXtWV",
        "colab_type": "code",
        "colab": {
          "base_uri": "https://localhost:8080/",
          "height": 34
        },
        "outputId": "f9bb5364-e4e3-4874-d178-cdca796ae474"
      },
      "cell_type": "code",
      "source": [
        "tf.__version__"
      ],
      "execution_count": 3,
      "outputs": [
        {
          "output_type": "execute_result",
          "data": {
            "text/plain": [
              "'1.10.0'"
            ]
          },
          "metadata": {
            "tags": []
          },
          "execution_count": 3
        }
      ]
    },
    {
      "metadata": {
        "id": "oZBfnvG3XtWc",
        "colab_type": "text"
      },
      "cell_type": "markdown",
      "source": [
        "## Load Data"
      ]
    },
    {
      "metadata": {
        "id": "8QyRULLBXtWc",
        "colab_type": "text"
      },
      "cell_type": "markdown",
      "source": [
        "The MNIST data-set is about 12 MB and will be downloaded automatically if it is not located in the given path."
      ]
    },
    {
      "metadata": {
        "id": "wQJy4zJYXtWd",
        "colab_type": "code",
        "colab": {
          "base_uri": "https://localhost:8080/",
          "height": 530
        },
        "outputId": "15b4e55d-1ff6-416a-c385-37e821bc069a"
      },
      "cell_type": "code",
      "source": [
        "from tensorflow.examples.tutorials.mnist import input_data\n",
        "data = input_data.read_data_sets('data/MNIST/', one_hot=True)"
      ],
      "execution_count": 5,
      "outputs": [
        {
          "output_type": "stream",
          "text": [
            "WARNING:tensorflow:From <ipython-input-5-37adf088ce13>:2: read_data_sets (from tensorflow.contrib.learn.python.learn.datasets.mnist) is deprecated and will be removed in a future version.\n",
            "Instructions for updating:\n",
            "Please use alternatives such as official/mnist/dataset.py from tensorflow/models.\n",
            "WARNING:tensorflow:From /usr/local/lib/python3.6/dist-packages/tensorflow/contrib/learn/python/learn/datasets/mnist.py:260: maybe_download (from tensorflow.contrib.learn.python.learn.datasets.base) is deprecated and will be removed in a future version.\n",
            "Instructions for updating:\n",
            "Please write your own downloading logic.\n",
            "WARNING:tensorflow:From /usr/local/lib/python3.6/dist-packages/tensorflow/contrib/learn/python/learn/datasets/base.py:252: _internal_retry.<locals>.wrap.<locals>.wrapped_fn (from tensorflow.contrib.learn.python.learn.datasets.base) is deprecated and will be removed in a future version.\n",
            "Instructions for updating:\n",
            "Please use urllib or similar directly.\n",
            "Successfully downloaded train-images-idx3-ubyte.gz 9912422 bytes.\n",
            "WARNING:tensorflow:From /usr/local/lib/python3.6/dist-packages/tensorflow/contrib/learn/python/learn/datasets/mnist.py:262: extract_images (from tensorflow.contrib.learn.python.learn.datasets.mnist) is deprecated and will be removed in a future version.\n",
            "Instructions for updating:\n",
            "Please use tf.data to implement this functionality.\n",
            "Extracting data/MNIST/train-images-idx3-ubyte.gz\n",
            "Successfully downloaded train-labels-idx1-ubyte.gz 28881 bytes.\n",
            "WARNING:tensorflow:From /usr/local/lib/python3.6/dist-packages/tensorflow/contrib/learn/python/learn/datasets/mnist.py:267: extract_labels (from tensorflow.contrib.learn.python.learn.datasets.mnist) is deprecated and will be removed in a future version.\n",
            "Instructions for updating:\n",
            "Please use tf.data to implement this functionality.\n",
            "Extracting data/MNIST/train-labels-idx1-ubyte.gz\n",
            "WARNING:tensorflow:From /usr/local/lib/python3.6/dist-packages/tensorflow/contrib/learn/python/learn/datasets/mnist.py:110: dense_to_one_hot (from tensorflow.contrib.learn.python.learn.datasets.mnist) is deprecated and will be removed in a future version.\n",
            "Instructions for updating:\n",
            "Please use tf.one_hot on tensors.\n",
            "Successfully downloaded t10k-images-idx3-ubyte.gz 1648877 bytes.\n",
            "Extracting data/MNIST/t10k-images-idx3-ubyte.gz\n",
            "Successfully downloaded t10k-labels-idx1-ubyte.gz 4542 bytes.\n",
            "Extracting data/MNIST/t10k-labels-idx1-ubyte.gz\n",
            "WARNING:tensorflow:From /usr/local/lib/python3.6/dist-packages/tensorflow/contrib/learn/python/learn/datasets/mnist.py:290: DataSet.__init__ (from tensorflow.contrib.learn.python.learn.datasets.mnist) is deprecated and will be removed in a future version.\n",
            "Instructions for updating:\n",
            "Please use alternatives such as official/mnist/dataset.py from tensorflow/models.\n"
          ],
          "name": "stdout"
        }
      ]
    },
    {
      "metadata": {
        "id": "j3eNPItNXtWg",
        "colab_type": "text"
      },
      "cell_type": "markdown",
      "source": [
        "The MNIST data-set has now been loaded and consists of 70,000 images and associated labels (i.e. classifications of the images). The data-set is split into 3 mutually exclusive sub-sets, but we will make random training-sets further below."
      ]
    },
    {
      "metadata": {
        "id": "W1oQOAPtXtWi",
        "colab_type": "code",
        "colab": {
          "base_uri": "https://localhost:8080/",
          "height": 85
        },
        "outputId": "2a66009e-fbdd-40f9-e27e-78e530b4cbf3"
      },
      "cell_type": "code",
      "source": [
        "print(\"Size of:\")\n",
        "print(\"- Training-set:\\t\\t{}\".format(len(data.train.labels)))\n",
        "print(\"- Test-set:\\t\\t{}\".format(len(data.test.labels)))\n",
        "print(\"- Validation-set:\\t{}\".format(len(data.validation.labels)))"
      ],
      "execution_count": 6,
      "outputs": [
        {
          "output_type": "stream",
          "text": [
            "Size of:\n",
            "- Training-set:\t\t55000\n",
            "- Test-set:\t\t10000\n",
            "- Validation-set:\t5000\n"
          ],
          "name": "stdout"
        }
      ]
    },
    {
      "metadata": {
        "id": "zgkhbJnBXtWm",
        "colab_type": "text"
      },
      "cell_type": "markdown",
      "source": [
        "### Class numbers\n",
        "\n",
        "The class-labels are One-Hot encoded, which means that each label is a vector with 10 elements, all of which are zero except for one element. The index of this one element is the class-number, that is, the digit shown in the associated image. We also need the class-numbers as integers for the test- and validation-sets, so we calculate them now."
      ]
    },
    {
      "metadata": {
        "id": "mKY40E3NXtWn",
        "colab_type": "code",
        "colab": {}
      },
      "cell_type": "code",
      "source": [
        "data.test.cls = np.argmax(data.test.labels, axis=1)\n",
        "data.validation.cls = np.argmax(data.validation.labels, axis=1)"
      ],
      "execution_count": 0,
      "outputs": []
    },
    {
      "metadata": {
        "id": "Lg_5xXHqXtWq",
        "colab_type": "text"
      },
      "cell_type": "markdown",
      "source": [
        "### Helper-function for creating random training-sets\n",
        "\n",
        "We will train 5 neural networks on different training-sets that are selected at random. First we combine the original training- and validation-sets into one big set. This is done for both the images and the labels."
      ]
    },
    {
      "metadata": {
        "id": "fp5mZ7uYXtWr",
        "colab_type": "code",
        "colab": {}
      },
      "cell_type": "code",
      "source": [
        "combined_images = np.concatenate([data.train.images, data.validation.images], axis=0)\n",
        "combined_labels = np.concatenate([data.train.labels, data.validation.labels], axis=0)"
      ],
      "execution_count": 0,
      "outputs": []
    },
    {
      "metadata": {
        "id": "2_xgPKxCXtWu",
        "colab_type": "text"
      },
      "cell_type": "markdown",
      "source": [
        "Check that the shape of the combined arrays is correct."
      ]
    },
    {
      "metadata": {
        "id": "OdP3Bz9-XtWu",
        "colab_type": "code",
        "colab": {
          "base_uri": "https://localhost:8080/",
          "height": 51
        },
        "outputId": "437853d1-45bd-4626-b22f-ffd30f02ed59"
      },
      "cell_type": "code",
      "source": [
        "print(combined_images.shape)\n",
        "print(combined_labels.shape)"
      ],
      "execution_count": 9,
      "outputs": [
        {
          "output_type": "stream",
          "text": [
            "(60000, 784)\n",
            "(60000, 10)\n"
          ],
          "name": "stdout"
        }
      ]
    },
    {
      "metadata": {
        "id": "WdVammEdXtWz",
        "colab_type": "text"
      },
      "cell_type": "markdown",
      "source": [
        "Size of the combined data-set."
      ]
    },
    {
      "metadata": {
        "id": "3g599KcBXtWz",
        "colab_type": "code",
        "colab": {
          "base_uri": "https://localhost:8080/",
          "height": 34
        },
        "outputId": "d282fcd5-65e5-444d-9a67-045697b4bb5f"
      },
      "cell_type": "code",
      "source": [
        "combined_size = len(combined_images)\n",
        "combined_size"
      ],
      "execution_count": 10,
      "outputs": [
        {
          "output_type": "execute_result",
          "data": {
            "text/plain": [
              "60000"
            ]
          },
          "metadata": {
            "tags": []
          },
          "execution_count": 10
        }
      ]
    },
    {
      "metadata": {
        "id": "0SiPTAa7XtW4",
        "colab_type": "text"
      },
      "cell_type": "markdown",
      "source": [
        "Define the size of the training-set used for each neural network. You can try and change this."
      ]
    },
    {
      "metadata": {
        "id": "XiT2UqmHXtW5",
        "colab_type": "code",
        "colab": {
          "base_uri": "https://localhost:8080/",
          "height": 34
        },
        "outputId": "0f3ddaf4-85bb-4c41-b13d-73abb6a8b88f"
      },
      "cell_type": "code",
      "source": [
        "train_size = int(0.9 * combined_size)\n",
        "train_size"
      ],
      "execution_count": 11,
      "outputs": [
        {
          "output_type": "execute_result",
          "data": {
            "text/plain": [
              "54000"
            ]
          },
          "metadata": {
            "tags": []
          },
          "execution_count": 11
        }
      ]
    },
    {
      "metadata": {
        "id": "TJmDPtcfXtW-",
        "colab_type": "text"
      },
      "cell_type": "markdown",
      "source": [
        "We do not use a validation-set during training, but this would be the size."
      ]
    },
    {
      "metadata": {
        "id": "epq1bWZnXtW_",
        "colab_type": "code",
        "colab": {
          "base_uri": "https://localhost:8080/",
          "height": 34
        },
        "outputId": "63e4c6f9-d405-467b-aed5-5b5778da601d"
      },
      "cell_type": "code",
      "source": [
        "validation_size = combined_size - train_size\n",
        "validation_size"
      ],
      "execution_count": 12,
      "outputs": [
        {
          "output_type": "execute_result",
          "data": {
            "text/plain": [
              "6000"
            ]
          },
          "metadata": {
            "tags": []
          },
          "execution_count": 12
        }
      ]
    },
    {
      "metadata": {
        "id": "6iU1cG0OXtXE",
        "colab_type": "text"
      },
      "cell_type": "markdown",
      "source": [
        "Helper-function for splitting the combined data-set into a random training- and validation-set."
      ]
    },
    {
      "metadata": {
        "id": "5b90zH4ZXtXF",
        "colab_type": "code",
        "colab": {}
      },
      "cell_type": "code",
      "source": [
        "def random_training_set():\n",
        "    # Create a randomized index into the full / combined training-set.\n",
        "    idx = np.random.permutation(combined_size)\n",
        "\n",
        "    # Split the random index into training- and validation-sets.\n",
        "    idx_train = idx[0:train_size]\n",
        "    idx_validation = idx[train_size:]\n",
        "\n",
        "    # Select the images and labels for the new training-set.\n",
        "    x_train = combined_images[idx_train, :]\n",
        "    y_train = combined_labels[idx_train, :]\n",
        "\n",
        "    # Select the images and labels for the new validation-set.\n",
        "    x_validation = combined_images[idx_validation, :]\n",
        "    y_validation = combined_labels[idx_validation, :]\n",
        "\n",
        "    # Return the new training- and validation-sets.\n",
        "    return x_train, y_train, x_validation, y_validation"
      ],
      "execution_count": 0,
      "outputs": []
    },
    {
      "metadata": {
        "id": "sV3c5wWKXtXJ",
        "colab_type": "text"
      },
      "cell_type": "markdown",
      "source": [
        "## Data Dimensions"
      ]
    },
    {
      "metadata": {
        "id": "rBkOt_dMXtXJ",
        "colab_type": "text"
      },
      "cell_type": "markdown",
      "source": [
        "The data dimensions are used in several places in the source-code below. They are defined once so we can use these variables instead of numbers throughout the source-code below."
      ]
    },
    {
      "metadata": {
        "id": "D0C1J1ovXtXL",
        "colab_type": "code",
        "colab": {}
      },
      "cell_type": "code",
      "source": [
        "# We know that MNIST images are 28 pixels in each dimension.\n",
        "img_size = 28\n",
        "\n",
        "# Images are stored in one-dimensional arrays of this length.\n",
        "img_size_flat = img_size * img_size\n",
        "\n",
        "# Tuple with height and width of images used to reshape arrays.\n",
        "img_shape = (img_size, img_size)\n",
        "\n",
        "img_shape_full = (img_size, img_size,1 )\n",
        "\n",
        "# Number of colour channels for the images: 1 channel for gray-scale.\n",
        "num_channels = 1\n",
        "\n",
        "# Number of classes, one class for each of 10 digits.\n",
        "num_classes = 10"
      ],
      "execution_count": 0,
      "outputs": []
    },
    {
      "metadata": {
        "id": "hOHg3gXWXtXO",
        "colab_type": "text"
      },
      "cell_type": "markdown",
      "source": [
        "### Helper-function for plotting images"
      ]
    },
    {
      "metadata": {
        "id": "iw3fZnQ-XtXP",
        "colab_type": "text"
      },
      "cell_type": "markdown",
      "source": [
        "Function used to plot 9 images in a 3x3 grid, and writing the true and predicted classes below each image."
      ]
    },
    {
      "metadata": {
        "id": "3grW1Ha-XtXR",
        "colab_type": "code",
        "colab": {}
      },
      "cell_type": "code",
      "source": [
        "def plot_images(images,                  # Images to plot, 2-d array.\n",
        "                cls_true,                # True class-no for images.\n",
        "                ensemble_cls_pred=None,  # Ensemble predicted class-no.\n",
        "                best_cls_pred=None):     # Best-net predicted class-no.\n",
        "\n",
        "    assert len(images) == len(cls_true)\n",
        "    \n",
        "    # Create figure with 3x3 sub-plots.\n",
        "    fig, axes = plt.subplots(3, 3)\n",
        "\n",
        "    # Adjust vertical spacing if we need to print ensemble and best-net.\n",
        "    if ensemble_cls_pred is None:\n",
        "        hspace = 0.3\n",
        "    else:\n",
        "        hspace = 1.0\n",
        "    fig.subplots_adjust(hspace=hspace, wspace=0.3)\n",
        "\n",
        "    # For each of the sub-plots.\n",
        "    for i, ax in enumerate(axes.flat):\n",
        "\n",
        "        # There may not be enough images for all sub-plots.\n",
        "        if i < len(images):\n",
        "            # Plot image.\n",
        "            ax.imshow(images[i].reshape(img_shape), cmap='binary')\n",
        "\n",
        "            # Show true and predicted classes.\n",
        "            if ensemble_cls_pred is None:\n",
        "                xlabel = \"True: {0}\".format(cls_true[i])\n",
        "            else:\n",
        "                msg = \"True: {0}\\nEnsemble: {1}\\nBest Net: {2}\"\n",
        "                xlabel = msg.format(cls_true[i],\n",
        "                                    ensemble_cls_pred[i],\n",
        "                                    best_cls_pred[i])\n",
        "\n",
        "            # Show the classes as the label on the x-axis.\n",
        "            ax.set_xlabel(xlabel)\n",
        "        \n",
        "        # Remove ticks from the plot.\n",
        "        ax.set_xticks([])\n",
        "        ax.set_yticks([])\n",
        "    \n",
        "    # Ensure the plot is shown correctly with multiple plots\n",
        "    # in a single Notebook cell.\n",
        "    plt.show()"
      ],
      "execution_count": 0,
      "outputs": []
    },
    {
      "metadata": {
        "id": "JHokA-H8XtXT",
        "colab_type": "text"
      },
      "cell_type": "markdown",
      "source": [
        "### Plot a few images to see if data is correct"
      ]
    },
    {
      "metadata": {
        "id": "ZGrAS_V0XtXU",
        "colab_type": "code",
        "colab": {
          "base_uri": "https://localhost:8080/",
          "height": 262
        },
        "outputId": "65a8a231-0955-4f8e-9a01-5ef5db30c862"
      },
      "cell_type": "code",
      "source": [
        "# Get the first images from the test-set.\n",
        "images = data.test.images[0:9]\n",
        "\n",
        "# Get the true classes for those images.\n",
        "cls_true = data.test.cls[0:9]\n",
        "\n",
        "# Plot the images and labels using our helper-function above.\n",
        "plot_images(images=images, cls_true=cls_true)"
      ],
      "execution_count": 18,
      "outputs": [
        {
          "output_type": "display_data",
          "data": {
            "image/png": "[encoded data removed]",
            "text/plain": [
              "<matplotlib.figure.Figure at 0x7fb46b3f9518>"
            ]
          },
          "metadata": {
            "tags": []
          }
        }
      ]
    },
    {
      "metadata": {
        "id": "7Cje09pHLkGN",
        "colab_type": "text"
      },
      "cell_type": "markdown",
      "source": [
        "###Helper function for ploting error images\n",
        "\n"
      ]
    },
    {
      "metadata": {
        "id": "JaPIjb5nLrZM",
        "colab_type": "code",
        "colab": {}
      },
      "cell_type": "code",
      "source": [
        "def plot_example_errors(cls_pred):\n",
        "    # cls_pred is an array of the predicted class-number for\n",
        "    # all images in the test-set.\n",
        "\n",
        "    # Boolean array whether the predicted class is incorrect.\n",
        "    incorrect = (cls_pred != data.test.cls)\n",
        "\n",
        "    # Get the images from the test-set that have been\n",
        "    # incorrectly classified.\n",
        "    images = data.test.images[incorrect]\n",
        "    \n",
        "    # Get the predicted classes for those images.\n",
        "    cls_pred = cls_pred[incorrect]\n",
        "\n",
        "    # Get the true classes for those images.\n",
        "    cls_true = data.test.cls[incorrect]\n",
        "    \n",
        "    # Plot the first 9 images.\n",
        "    plot_images(images=images[0:9],\n",
        "                cls_true=cls_pred[0:9])"
      ],
      "execution_count": 0,
      "outputs": []
    },
    {
      "metadata": {
        "id": "4LWie0bUZ9ml",
        "colab_type": "text"
      },
      "cell_type": "markdown",
      "source": [
        "##Functional Model of Keras"
      ]
    },
    {
      "metadata": {
        "id": "gIHXOHsZZ9mp",
        "colab_type": "text"
      },
      "cell_type": "markdown",
      "source": [
        "Pretty tensor no longer support after tensorflow 0.9. Rewrite author's CNN using Keras"
      ]
    },
    {
      "metadata": {
        "id": "WKwAxCQXZ9m1",
        "colab_type": "code",
        "colab": {}
      },
      "cell_type": "code",
      "source": [
        "# Create an input layer which is similar to a feed_dict in TensorFlow.\n",
        "# Note that the input-shape must be a tuple containing the image-size.\n",
        "inputs = Input(shape=(img_size_flat,))\n",
        "\n",
        "# Variable used for building the Neural Network.\n",
        "net = inputs\n",
        "\n",
        "# The input is an image as a flattened array with 784 elements.\n",
        "# But the convolutional layers expect images with shape (28, 28, 1)\n",
        "net = Reshape(img_shape_full)(net)\n",
        "\n",
        "# First convolutional layer with ReLU-activation and max-pooling.\n",
        "net = Conv2D(kernel_size=5, strides=1, filters=16, padding='same',\n",
        "             activation='relu', name='layer_conv1')(net)\n",
        "net = MaxPooling2D(pool_size=2, strides=2)(net)\n",
        "\n",
        "# Second convolutional layer with ReLU-activation and max-pooling.\n",
        "net = Conv2D(kernel_size=5, strides=1, filters=36, padding='same',\n",
        "             activation='relu', name='layer_conv2')(net)\n",
        "net = MaxPooling2D(pool_size=2, strides=2)(net)\n",
        "\n",
        "# Flatten the output of the conv-layer from 4-dim to 2-dim.\n",
        "net = Flatten()(net)\n",
        "\n",
        "# First fully-connected / dense layer with ReLU-activation.\n",
        "net = Dense(128, activation='relu')(net)\n",
        "\n",
        "# Last fully-connected / dense layer with softmax-activation\n",
        "# so it can be used for classification.\n",
        "net = Dense(num_classes, activation='softmax')(net)\n",
        "\n",
        "# Output of the Neural Network.\n",
        "outputs = net"
      ],
      "execution_count": 0,
      "outputs": []
    },
    {
      "metadata": {
        "id": "IE_LTvH9llbM",
        "colab_type": "text"
      },
      "cell_type": "markdown",
      "source": [
        "###Model for Optimizer\n",
        "\n",
        "We have now defined the architecture of the model with its input and output. We now have to create a Keras model and compile it with a loss-function and optimizer, so it is ready for training.\n",
        "\n"
      ]
    },
    {
      "metadata": {
        "id": "9udPhqitlkya",
        "colab_type": "code",
        "colab": {}
      },
      "cell_type": "code",
      "source": [
        "from tensorflow.python.keras.optimizers import Adam\n",
        "\n",
        "model = Model(inputs=inputs, outputs=outputs)\n",
        "\n",
        "optimizer = Adam(lr=1e-3)\n",
        "model.compile(optimizer=optimizer,\n",
        "               loss='categorical_crossentropy',\n",
        "               metrics=['accuracy'])"
      ],
      "execution_count": 0,
      "outputs": []
    },
    {
      "metadata": {
        "id": "tZK4wFMyI8VD",
        "colab_type": "text"
      },
      "cell_type": "markdown",
      "source": [
        "###Train Keras Model\n",
        "\n",
        "Fit into Keras model by a batch size of 128"
      ]
    },
    {
      "metadata": {
        "id": "As0JC8siJNBR",
        "colab_type": "code",
        "colab": {
          "base_uri": "https://localhost:8080/",
          "height": 68
        },
        "outputId": "dfc522a7-8b74-41ec-f4c7-219664273df9"
      },
      "cell_type": "code",
      "source": [
        "model.fit(x = data.train.images,\n",
        "          y = data.train.labels, \n",
        "          epochs = 1, batch_size = 128)"
      ],
      "execution_count": 22,
      "outputs": [
        {
          "output_type": "stream",
          "text": [
            "Epoch 1/1\n",
            "55000/55000 [==============================] - 75s 1ms/step - loss: 0.2151 - acc: 0.9343\n"
          ],
          "name": "stdout"
        },
        {
          "output_type": "execute_result",
          "data": {
            "text/plain": [
              "<tensorflow.python.keras.callbacks.History at 0x7fb46aa4eba8>"
            ]
          },
          "metadata": {
            "tags": []
          },
          "execution_count": 22
        }
      ]
    },
    {
      "metadata": {
        "id": "mQDt8Gf6Jhe2",
        "colab_type": "text"
      },
      "cell_type": "markdown",
      "source": [
        "### Evaluate Model\n",
        "\n",
        "Once model has been trained, we can evaluate the result against test set."
      ]
    },
    {
      "metadata": {
        "id": "FfqU9SvJJxFH",
        "colab_type": "code",
        "colab": {
          "base_uri": "https://localhost:8080/",
          "height": 85
        },
        "outputId": "de89165f-9f24-4883-cdaa-1852375bef87"
      },
      "cell_type": "code",
      "source": [
        "result = model.evaluate(x = data.test.images, \n",
        "                        y = data.test.labels)\n",
        "\n",
        "for name, value in zip(model.metrics_names, result):\n",
        "  print(name,value)\n",
        "\n",
        "print(\"{0}: {1:.2%}\".format(model.metrics_names[1], result[1]))"
      ],
      "execution_count": 23,
      "outputs": [
        {
          "output_type": "stream",
          "text": [
            "10000/10000 [==============================] - 6s 603us/step\n",
            "loss 0.0533438194507733\n",
            "acc 0.9816\n",
            "acc: 98.16%\n"
          ],
          "name": "stdout"
        }
      ]
    },
    {
      "metadata": {
        "id": "QCWYO2z9XtX1",
        "colab_type": "text"
      },
      "cell_type": "markdown",
      "source": [
        "### Optimization Method"
      ]
    },
    {
      "metadata": {
        "id": "12ErvydQXtX1",
        "colab_type": "text"
      },
      "cell_type": "markdown",
      "source": [
        "Pretty Tensor gave us the predicted class-label (`y_pred`) as well as a loss-measure that must be minimized, so as to improve the ability of the neural network to classify the input images.\n",
        "\n",
        "It is unclear from the documentation for Pretty Tensor whether the loss-measure is cross-entropy or something else. But we now use the `AdamOptimizer` to minimize the loss.\n",
        "\n",
        "Note that optimization is not performed at this point. In fact, nothing is calculated at all, we just add the optimizer-object to the TensorFlow graph for later execution."
      ]
    },
    {
      "metadata": {
        "id": "Xpw4la_iXtX2",
        "colab_type": "code",
        "colab": {
          "base_uri": "https://localhost:8080/",
          "height": 180
        },
        "outputId": "12017e8a-1ec3-4847-ea44-cf6eb86a2d19"
      },
      "cell_type": "code",
      "source": [
        "optimizer = tf.train.AdamOptimizer(learning_rate=1e-4).minimize(loss)\n",
        "\n"
      ],
      "execution_count": 24,
      "outputs": [
        {
          "output_type": "error",
          "ename": "NameError",
          "evalue": "ignored",
          "traceback": [
            "\u001b[0;31m---------------------------------------------------------------------------\u001b[0m",
            "\u001b[0;31mNameError\u001b[0m                                 Traceback (most recent call last)",
            "\u001b[0;32m<ipython-input-24-f104b9e45e46>\u001b[0m in \u001b[0;36m<module>\u001b[0;34m()\u001b[0m\n\u001b[0;32m----> 1\u001b[0;31m \u001b[0moptimizer\u001b[0m \u001b[0;34m=\u001b[0m \u001b[0mtf\u001b[0m\u001b[0;34m.\u001b[0m\u001b[0mtrain\u001b[0m\u001b[0;34m.\u001b[0m\u001b[0mAdamOptimizer\u001b[0m\u001b[0;34m(\u001b[0m\u001b[0mlearning_rate\u001b[0m\u001b[0;34m=\u001b[0m\u001b[0;36m1e-4\u001b[0m\u001b[0;34m)\u001b[0m\u001b[0;34m.\u001b[0m\u001b[0mminimize\u001b[0m\u001b[0;34m(\u001b[0m\u001b[0mloss\u001b[0m\u001b[0;34m)\u001b[0m\u001b[0;34m\u001b[0m\u001b[0m\n\u001b[0m\u001b[1;32m      2\u001b[0m \u001b[0;34m\u001b[0m\u001b[0m\n",
            "\u001b[0;31mNameError\u001b[0m: name 'loss' is not defined"
          ]
        }
      ]
    },
    {
      "metadata": {
        "id": "miATAQKTXtX4",
        "colab_type": "text"
      },
      "cell_type": "markdown",
      "source": [
        "### Performance Measures\n",
        "\n",
        "We need a few more performance measures to display the progress to the user.\n",
        "\n",
        "First we calculate the predicted class number from the output of the neural network `y_pred`, which is a vector with 10 elements. The class number is the index of the largest element."
      ]
    },
    {
      "metadata": {
        "id": "rJ35cPtlXtX7",
        "colab_type": "code",
        "colab": {
          "base_uri": "https://localhost:8080/",
          "height": 163
        },
        "outputId": "a4490077-caa7-4c72-c00f-fd3188f9109f"
      },
      "cell_type": "code",
      "source": [
        "y_pred_cls = tf.argmax(y_pred, dimension=1)"
      ],
      "execution_count": 25,
      "outputs": [
        {
          "output_type": "error",
          "ename": "NameError",
          "evalue": "ignored",
          "traceback": [
            "\u001b[0;31m---------------------------------------------------------------------------\u001b[0m",
            "\u001b[0;31mNameError\u001b[0m                                 Traceback (most recent call last)",
            "\u001b[0;32m<ipython-input-25-1b869074280b>\u001b[0m in \u001b[0;36m<module>\u001b[0;34m()\u001b[0m\n\u001b[0;32m----> 1\u001b[0;31m \u001b[0my_pred_cls\u001b[0m \u001b[0;34m=\u001b[0m \u001b[0mtf\u001b[0m\u001b[0;34m.\u001b[0m\u001b[0margmax\u001b[0m\u001b[0;34m(\u001b[0m\u001b[0my_pred\u001b[0m\u001b[0;34m,\u001b[0m \u001b[0mdimension\u001b[0m\u001b[0;34m=\u001b[0m\u001b[0;36m1\u001b[0m\u001b[0;34m)\u001b[0m\u001b[0;34m\u001b[0m\u001b[0m\n\u001b[0m",
            "\u001b[0;31mNameError\u001b[0m: name 'y_pred' is not defined"
          ]
        }
      ]
    },
    {
      "metadata": {
        "id": "j3-sRzdpXtX9",
        "colab_type": "text"
      },
      "cell_type": "markdown",
      "source": [
        "Then we create a vector of booleans telling us whether the predicted class equals the true class of each image."
      ]
    },
    {
      "metadata": {
        "id": "_71Tr8DeXtX-",
        "colab_type": "code",
        "colab": {}
      },
      "cell_type": "code",
      "source": [
        "correct_prediction = tf.equal(y_pred_cls, y_true_cls)"
      ],
      "execution_count": 0,
      "outputs": []
    },
    {
      "metadata": {
        "id": "UdHZqG1KXtYG",
        "colab_type": "text"
      },
      "cell_type": "markdown",
      "source": [
        "The classification accuracy is calculated by first type-casting the vector of booleans to floats, so that False becomes 0 and True becomes 1, and then taking the average of these numbers."
      ]
    },
    {
      "metadata": {
        "id": "9gHhykUHXtYG",
        "colab_type": "code",
        "colab": {}
      },
      "cell_type": "code",
      "source": [
        "accuracy = tf.reduce_mean(tf.cast(correct_prediction, tf.float32))"
      ],
      "execution_count": 0,
      "outputs": []
    },
    {
      "metadata": {
        "id": "hlmMf7brKftS",
        "colab_type": "text"
      },
      "cell_type": "markdown",
      "source": [
        "###Plot mis-classificied images\n",
        "\n",
        "Plot mis-classified images from the test set"
      ]
    },
    {
      "metadata": {
        "id": "Ox12Sw5gK6b_",
        "colab_type": "code",
        "colab": {
          "base_uri": "https://localhost:8080/",
          "height": 262
        },
        "outputId": "72cca270-da36-43d1-af08-6c850a8ee25b"
      },
      "cell_type": "code",
      "source": [
        "#Predict the whole test set\n",
        "y_pred = model.predict(x=data.test.images)\n",
        "\n",
        "#Change the predict class's labels into cls.\n",
        "cls_pred = np.argmax(y_pred, axis=1)\n",
        "\n",
        "plot_example_errors(cls_pred)"
      ],
      "execution_count": 29,
      "outputs": [
        {
          "output_type": "display_data",
          "data": {
            "image/png": "[encoded data removed]",
            "text/plain": [
              "<matplotlib.figure.Figure at 0x7fb465b70cc0>"
            ]
          },
          "metadata": {
            "tags": []
          }
        }
      ]
    },
    {
      "metadata": {
        "id": "eVV6Y_6tWu-e",
        "colab_type": "code",
        "colab": {
          "base_uri": "https://localhost:8080/",
          "height": 68
        },
        "outputId": "aa3f3831-78b5-4d22-ed1b-bef0e0ccb9ac"
      },
      "cell_type": "code",
      "source": [
        "y_pred[1]"
      ],
      "execution_count": 33,
      "outputs": [
        {
          "output_type": "execute_result",
          "data": {
            "text/plain": [
              "array([7.8310231e-06, 2.3140956e-04, 9.9972278e-01, 2.0636307e-05,\n",
              "       9.2568581e-10, 7.6404563e-09, 4.9811604e-07, 3.1774254e-09,\n",
              "       1.6809341e-05, 3.1635378e-11], dtype=float32)"
            ]
          },
          "metadata": {
            "tags": []
          },
          "execution_count": 33
        }
      ]
    },
    {
      "metadata": {
        "id": "DhDDd0N-L6hj",
        "colab_type": "text"
      },
      "cell_type": "markdown",
      "source": [
        "###Save the Keras Model\n"
      ]
    },
    {
      "metadata": {
        "id": "slvUtp4uL91x",
        "colab_type": "code",
        "colab": {}
      },
      "cell_type": "code",
      "source": [
        "path_model = 'model.keras'\n",
        "\n",
        "\n",
        "model.save(path_model)"
      ],
      "execution_count": 0,
      "outputs": []
    },
    {
      "metadata": {
        "id": "2BqlYY5GXtYK",
        "colab_type": "text"
      },
      "cell_type": "markdown",
      "source": [
        "### Saver\n",
        "\n",
        "In order to save the variables of the neural network, we now create a Saver-object which is used for storing and retrieving all the variables of the TensorFlow graph. Nothing is actually saved at this point, which will be done further below.\n",
        "\n",
        "Note that if you have more than 100 neural networks in the ensemble then you must increase `max_to_keep` accordingly."
      ]
    },
    {
      "metadata": {
        "id": "OuinXjslXtYK",
        "colab_type": "code",
        "colab": {}
      },
      "cell_type": "code",
      "source": [
        "saver = tf.train.Saver(max_to_keep=100)"
      ],
      "execution_count": 0,
      "outputs": []
    },
    {
      "metadata": {
        "id": "nCZ77DvKXtYM",
        "colab_type": "text"
      },
      "cell_type": "markdown",
      "source": [
        "This is the directory used for saving and retrieving the data."
      ]
    },
    {
      "metadata": {
        "id": "VFkcgth4XtYN",
        "colab_type": "code",
        "colab": {}
      },
      "cell_type": "code",
      "source": [
        "save_dir = 'checkpoints/'"
      ],
      "execution_count": 0,
      "outputs": []
    },
    {
      "metadata": {
        "id": "r_YWABbKXtYW",
        "colab_type": "text"
      },
      "cell_type": "markdown",
      "source": [
        "Create the directory if it does not exist."
      ]
    },
    {
      "metadata": {
        "id": "FzDyFq5lXtYX",
        "colab_type": "code",
        "colab": {}
      },
      "cell_type": "code",
      "source": [
        "if not os.path.exists(save_dir):\n",
        "    os.makedirs(save_dir)"
      ],
      "execution_count": 0,
      "outputs": []
    },
    {
      "metadata": {
        "id": "Y34tM6soXtYb",
        "colab_type": "text"
      },
      "cell_type": "markdown",
      "source": [
        "This function returns the save-path for the data-file with the given network number."
      ]
    },
    {
      "metadata": {
        "id": "U7je9DAaXtYc",
        "colab_type": "code",
        "colab": {}
      },
      "cell_type": "code",
      "source": [
        "def get_save_path(net_number):\n",
        "    return save_dir + 'network' + str(net_number)"
      ],
      "execution_count": 0,
      "outputs": []
    },
    {
      "metadata": {
        "id": "5lfrqL5JXtYf",
        "colab_type": "text"
      },
      "cell_type": "markdown",
      "source": [
        "## TensorFlow Run"
      ]
    },
    {
      "metadata": {
        "id": "zpfDjY5iXtYg",
        "colab_type": "text"
      },
      "cell_type": "markdown",
      "source": [
        "### Create TensorFlow session\n",
        "\n",
        "Once the TensorFlow graph has been created, we have to create a TensorFlow session which is used to execute the graph."
      ]
    },
    {
      "metadata": {
        "id": "M7FBENJ9XtYh",
        "colab_type": "code",
        "colab": {}
      },
      "cell_type": "code",
      "source": [
        "session = tf.Session()"
      ],
      "execution_count": 0,
      "outputs": []
    },
    {
      "metadata": {
        "id": "ejXd4ICOXtYm",
        "colab_type": "text"
      },
      "cell_type": "markdown",
      "source": [
        "### Initialize variables\n",
        "\n",
        "The variables for `weights` and `biases` must be initialized before we start optimizing them. We make a simple wrapper-function for this, because we will call it several times below."
      ]
    },
    {
      "metadata": {
        "id": "oUzsdzx1XtYm",
        "colab_type": "code",
        "colab": {}
      },
      "cell_type": "code",
      "source": [
        "def init_variables():\n",
        "    session.run(tf.initialize_all_variables())"
      ],
      "execution_count": 0,
      "outputs": []
    },
    {
      "metadata": {
        "id": "dwrlBrvqXtYp",
        "colab_type": "text"
      },
      "cell_type": "markdown",
      "source": [
        "### Helper-function to create a random training batch."
      ]
    },
    {
      "metadata": {
        "id": "HHibxjeRXtYq",
        "colab_type": "text"
      },
      "cell_type": "markdown",
      "source": [
        "There are thousands of images in the training-set. It takes a long time to calculate the gradient of the model using all these images. We therefore only use a small batch of images in each iteration of the optimizer.\n",
        "\n",
        "If your computer crashes or becomes very slow because you run out of RAM, then you may try and lower this number, but you may then need to perform more optimization iterations."
      ]
    },
    {
      "metadata": {
        "id": "olj0ir2GXtYr",
        "colab_type": "code",
        "colab": {}
      },
      "cell_type": "code",
      "source": [
        "train_batch_size = 64"
      ],
      "execution_count": 0,
      "outputs": []
    },
    {
      "metadata": {
        "id": "d-65DR1dXtYt",
        "colab_type": "text"
      },
      "cell_type": "markdown",
      "source": [
        "Function for selecting a random training-batch of the given size."
      ]
    },
    {
      "metadata": {
        "id": "nCDCTIJsXtYu",
        "colab_type": "code",
        "colab": {}
      },
      "cell_type": "code",
      "source": [
        "def random_batch(x_train, y_train):\n",
        "    # Total number of images in the training-set.\n",
        "    num_images = len(x_train)\n",
        "\n",
        "    # Create a random index into the training-set.\n",
        "    idx = np.random.choice(num_images,\n",
        "                           size=train_batch_size,\n",
        "                           replace=False)\n",
        "\n",
        "    # Use the random index to select random images and labels.\n",
        "    x_batch = x_train[idx, :]  # Images.\n",
        "    y_batch = y_train[idx, :]  # Labels.\n",
        "\n",
        "    # Return the batch.\n",
        "    return x_batch, y_batch"
      ],
      "execution_count": 0,
      "outputs": []
    },
    {
      "metadata": {
        "id": "qBkjWMTYXtYy",
        "colab_type": "text"
      },
      "cell_type": "markdown",
      "source": [
        "### Helper-function to perform optimization iterations"
      ]
    },
    {
      "metadata": {
        "id": "n7HHu2DGXtYz",
        "colab_type": "text"
      },
      "cell_type": "markdown",
      "source": [
        "Function for performing a number of optimization iterations so as to gradually improve the variables of the network layers. In each iteration, a new batch of data is selected from the training-set and then TensorFlow executes the optimizer using those training samples.  The progress is printed every 100 iterations."
      ]
    },
    {
      "metadata": {
        "id": "8eEi7wx4XtY1",
        "colab_type": "code",
        "colab": {}
      },
      "cell_type": "code",
      "source": [
        "def optimize(num_iterations, x_train, y_train):\n",
        "    # Start-time used for printing time-usage below.\n",
        "    start_time = time.time()\n",
        "\n",
        "    for i in range(num_iterations):\n",
        "\n",
        "        # Get a batch of training examples.\n",
        "        # x_batch now holds a batch of images and\n",
        "        # y_true_batch are the true labels for those images.\n",
        "        x_batch, y_true_batch = random_batch(x_train, y_train)\n",
        "\n",
        "        # Put the batch into a dict with the proper names\n",
        "        # for placeholder variables in the TensorFlow graph.\n",
        "        feed_dict_train = {x: x_batch,\n",
        "                           y_true: y_true_batch}\n",
        "\n",
        "        # Run the optimizer using this batch of training data.\n",
        "        # TensorFlow assigns the variables in feed_dict_train\n",
        "        # to the placeholder variables and then runs the optimizer.\n",
        "        session.run(optimizer, feed_dict=feed_dict_train)\n",
        "\n",
        "        # Print status every 100 iterations and after last iteration.\n",
        "        if i % 100 == 0:\n",
        "\n",
        "            # Calculate the accuracy on the training-batch.\n",
        "            acc = session.run(accuracy, feed_dict=feed_dict_train)\n",
        "            \n",
        "            # Status-message for printing.\n",
        "            msg = \"Optimization Iteration: {0:>6}, Training Batch Accuracy: {1:>6.1%}\"\n",
        "\n",
        "            # Print it.\n",
        "            print(msg.format(i + 1, acc))\n",
        "\n",
        "    # Ending time.\n",
        "    end_time = time.time()\n",
        "\n",
        "    # Difference between start and end-times.\n",
        "    time_dif = end_time - start_time\n",
        "\n",
        "    # Print the time-usage.\n",
        "    print(\"Time usage: \" + str(timedelta(seconds=int(round(time_dif)))))"
      ],
      "execution_count": 0,
      "outputs": []
    },
    {
      "metadata": {
        "id": "h4aQpLfAXtY3",
        "colab_type": "text"
      },
      "cell_type": "markdown",
      "source": [
        "### Create ensemble of neural networks"
      ]
    },
    {
      "metadata": {
        "id": "qhyzzedkXtY3",
        "colab_type": "text"
      },
      "cell_type": "markdown",
      "source": [
        "Number of neural networks in the ensemble."
      ]
    },
    {
      "metadata": {
        "id": "GQ3jwfHfXtY4",
        "colab_type": "code",
        "colab": {}
      },
      "cell_type": "code",
      "source": [
        "num_networks = 5"
      ],
      "execution_count": 0,
      "outputs": []
    },
    {
      "metadata": {
        "id": "p5zKWr-vXtY6",
        "colab_type": "text"
      },
      "cell_type": "markdown",
      "source": [
        "Number of optimization iterations for each neural network."
      ]
    },
    {
      "metadata": {
        "id": "oSwIQSlFXtY6",
        "colab_type": "code",
        "colab": {}
      },
      "cell_type": "code",
      "source": [
        "num_iterations = 10000"
      ],
      "execution_count": 0,
      "outputs": []
    },
    {
      "metadata": {
        "id": "oriolGIWXtY8",
        "colab_type": "text"
      },
      "cell_type": "markdown",
      "source": [
        "Create the ensemble of neural networks. All networks use the same TensorFlow graph that was defined above. For each neural network the TensorFlow weights and variables are initialized to random values and then optimized. The variables are then saved to disk so they can be reloaded later.\n",
        "\n",
        "You may want to skip this computation if you just want to re-run the Notebook with different analysis of the results."
      ]
    },
    {
      "metadata": {
        "id": "94jMyaKgXtY9",
        "colab_type": "code",
        "colab": {},
        "outputId": "d6dfa112-9e29-4dea-82eb-5d64d45ffc72"
      },
      "cell_type": "code",
      "source": [
        "if True:\n",
        "    # For each of the neural networks.\n",
        "    for i in range(num_networks):\n",
        "        print(\"Neural network: {0}\".format(i))\n",
        "\n",
        "        # Create a random training-set. Ignore the validation-set.\n",
        "        x_train, y_train, _, _ = random_training_set()\n",
        "\n",
        "        # Initialize the variables of the TensorFlow graph.\n",
        "        session.run(tf.global_variables_initializer())\n",
        "\n",
        "        # Optimize the variables using this training-set.\n",
        "        optimize(num_iterations=num_iterations,\n",
        "                 x_train=x_train,\n",
        "                 y_train=y_train)\n",
        "\n",
        "        # Save the optimized variables to disk.\n",
        "        saver.save(sess=session, save_path=get_save_path(i))\n",
        "\n",
        "        # Print newline.\n",
        "        print()"
      ],
      "execution_count": 0,
      "outputs": [
        {
          "output_type": "stream",
          "text": [
            "Neural network: 0\n",
            "Optimization Iteration:      1, Training Batch Accuracy:   6.2%\n",
            "Optimization Iteration:    101, Training Batch Accuracy:  87.5%\n",
            "Optimization Iteration:    201, Training Batch Accuracy:  92.2%\n",
            "Optimization Iteration:    301, Training Batch Accuracy:  92.2%\n",
            "Optimization Iteration:    401, Training Batch Accuracy:  98.4%\n",
            "Optimization Iteration:    501, Training Batch Accuracy:  95.3%\n",
            "Optimization Iteration:    601, Training Batch Accuracy:  95.3%\n",
            "Optimization Iteration:    701, Training Batch Accuracy:  96.9%\n",
            "Optimization Iteration:    801, Training Batch Accuracy:  96.9%\n",
            "Optimization Iteration:    901, Training Batch Accuracy:  98.4%\n",
            "Optimization Iteration:   1001, Training Batch Accuracy:  95.3%\n",
            "Optimization Iteration:   1101, Training Batch Accuracy:  96.9%\n",
            "Optimization Iteration:   1201, Training Batch Accuracy:  95.3%\n",
            "Optimization Iteration:   1301, Training Batch Accuracy: 100.0%\n",
            "Optimization Iteration:   1401, Training Batch Accuracy:  98.4%\n",
            "Optimization Iteration:   1501, Training Batch Accuracy: 100.0%\n",
            "Optimization Iteration:   1601, Training Batch Accuracy:  98.4%\n",
            "Optimization Iteration:   1701, Training Batch Accuracy:  96.9%\n",
            "Optimization Iteration:   1801, Training Batch Accuracy: 100.0%\n",
            "Optimization Iteration:   1901, Training Batch Accuracy:  98.4%\n",
            "Optimization Iteration:   2001, Training Batch Accuracy:  95.3%\n",
            "Optimization Iteration:   2101, Training Batch Accuracy:  98.4%\n",
            "Optimization Iteration:   2201, Training Batch Accuracy:  96.9%\n",
            "Optimization Iteration:   2301, Training Batch Accuracy:  96.9%\n",
            "Optimization Iteration:   2401, Training Batch Accuracy: 100.0%\n",
            "Optimization Iteration:   2501, Training Batch Accuracy:  96.9%\n",
            "Optimization Iteration:   2601, Training Batch Accuracy: 100.0%\n",
            "Optimization Iteration:   2701, Training Batch Accuracy:  98.4%\n",
            "Optimization Iteration:   2801, Training Batch Accuracy:  98.4%\n",
            "Optimization Iteration:   2901, Training Batch Accuracy:  98.4%\n",
            "Optimization Iteration:   3001, Training Batch Accuracy:  95.3%\n",
            "Optimization Iteration:   3101, Training Batch Accuracy: 100.0%\n",
            "Optimization Iteration:   3201, Training Batch Accuracy:  98.4%\n",
            "Optimization Iteration:   3301, Training Batch Accuracy:  98.4%\n",
            "Optimization Iteration:   3401, Training Batch Accuracy:  96.9%\n",
            "Optimization Iteration:   3501, Training Batch Accuracy:  98.4%\n",
            "Optimization Iteration:   3601, Training Batch Accuracy: 100.0%\n",
            "Optimization Iteration:   3701, Training Batch Accuracy:  98.4%\n",
            "Optimization Iteration:   3801, Training Batch Accuracy: 100.0%\n",
            "Optimization Iteration:   3901, Training Batch Accuracy: 100.0%\n",
            "Optimization Iteration:   4001, Training Batch Accuracy: 100.0%\n",
            "Optimization Iteration:   4101, Training Batch Accuracy: 100.0%\n",
            "Optimization Iteration:   4201, Training Batch Accuracy:  96.9%\n",
            "Optimization Iteration:   4301, Training Batch Accuracy:  98.4%\n",
            "Optimization Iteration:   4401, Training Batch Accuracy: 100.0%\n",
            "Optimization Iteration:   4501, Training Batch Accuracy:  96.9%\n",
            "Optimization Iteration:   4601, Training Batch Accuracy: 100.0%\n",
            "Optimization Iteration:   4701, Training Batch Accuracy:  96.9%\n",
            "Optimization Iteration:   4801, Training Batch Accuracy:  96.9%\n",
            "Optimization Iteration:   4901, Training Batch Accuracy: 100.0%\n",
            "Optimization Iteration:   5001, Training Batch Accuracy:  95.3%\n",
            "Optimization Iteration:   5101, Training Batch Accuracy: 100.0%\n",
            "Optimization Iteration:   5201, Training Batch Accuracy:  98.4%\n",
            "Optimization Iteration:   5301, Training Batch Accuracy: 100.0%\n",
            "Optimization Iteration:   5401, Training Batch Accuracy: 100.0%\n",
            "Optimization Iteration:   5501, Training Batch Accuracy: 100.0%\n",
            "Optimization Iteration:   5601, Training Batch Accuracy: 100.0%\n",
            "Optimization Iteration:   5701, Training Batch Accuracy: 100.0%\n",
            "Optimization Iteration:   5801, Training Batch Accuracy: 100.0%\n",
            "Optimization Iteration:   5901, Training Batch Accuracy: 100.0%\n",
            "Optimization Iteration:   6001, Training Batch Accuracy: 100.0%\n",
            "Optimization Iteration:   6101, Training Batch Accuracy: 100.0%\n",
            "Optimization Iteration:   6201, Training Batch Accuracy: 100.0%\n",
            "Optimization Iteration:   6301, Training Batch Accuracy:  98.4%\n",
            "Optimization Iteration:   6401, Training Batch Accuracy:  98.4%\n",
            "Optimization Iteration:   6501, Training Batch Accuracy: 100.0%\n",
            "Optimization Iteration:   6601, Training Batch Accuracy: 100.0%\n",
            "Optimization Iteration:   6701, Training Batch Accuracy: 100.0%\n",
            "Optimization Iteration:   6801, Training Batch Accuracy: 100.0%\n",
            "Optimization Iteration:   6901, Training Batch Accuracy:  98.4%\n",
            "Optimization Iteration:   7001, Training Batch Accuracy:  98.4%\n",
            "Optimization Iteration:   7101, Training Batch Accuracy: 100.0%\n",
            "Optimization Iteration:   7201, Training Batch Accuracy:  98.4%\n",
            "Optimization Iteration:   7301, Training Batch Accuracy: 100.0%\n",
            "Optimization Iteration:   7401, Training Batch Accuracy: 100.0%\n",
            "Optimization Iteration:   7501, Training Batch Accuracy: 100.0%\n",
            "Optimization Iteration:   7601, Training Batch Accuracy: 100.0%\n",
            "Optimization Iteration:   7701, Training Batch Accuracy:  98.4%\n",
            "Optimization Iteration:   7801, Training Batch Accuracy:  96.9%\n",
            "Optimization Iteration:   7901, Training Batch Accuracy: 100.0%\n",
            "Optimization Iteration:   8001, Training Batch Accuracy:  98.4%\n",
            "Optimization Iteration:   8101, Training Batch Accuracy:  98.4%\n",
            "Optimization Iteration:   8201, Training Batch Accuracy: 100.0%\n",
            "Optimization Iteration:   8301, Training Batch Accuracy: 100.0%\n",
            "Optimization Iteration:   8401, Training Batch Accuracy: 100.0%\n",
            "Optimization Iteration:   8501, Training Batch Accuracy: 100.0%\n",
            "Optimization Iteration:   8601, Training Batch Accuracy: 100.0%\n",
            "Optimization Iteration:   8701, Training Batch Accuracy: 100.0%\n",
            "Optimization Iteration:   8801, Training Batch Accuracy:  96.9%\n",
            "Optimization Iteration:   8901, Training Batch Accuracy: 100.0%\n",
            "Optimization Iteration:   9001, Training Batch Accuracy: 100.0%\n",
            "Optimization Iteration:   9101, Training Batch Accuracy:  98.4%\n",
            "Optimization Iteration:   9201, Training Batch Accuracy: 100.0%\n",
            "Optimization Iteration:   9301, Training Batch Accuracy: 100.0%\n",
            "Optimization Iteration:   9401, Training Batch Accuracy: 100.0%\n",
            "Optimization Iteration:   9501, Training Batch Accuracy:  98.4%\n",
            "Optimization Iteration:   9601, Training Batch Accuracy: 100.0%\n",
            "Optimization Iteration:   9701, Training Batch Accuracy: 100.0%\n",
            "Optimization Iteration:   9801, Training Batch Accuracy: 100.0%\n",
            "Optimization Iteration:   9901, Training Batch Accuracy: 100.0%\n",
            "Time usage: 0:00:40\n",
            "\n",
            "Neural network: 1\n",
            "Optimization Iteration:      1, Training Batch Accuracy:   7.8%\n",
            "Optimization Iteration:    101, Training Batch Accuracy:  85.9%\n",
            "Optimization Iteration:    201, Training Batch Accuracy:  95.3%\n",
            "Optimization Iteration:    301, Training Batch Accuracy:  90.6%\n",
            "Optimization Iteration:    401, Training Batch Accuracy:  92.2%\n",
            "Optimization Iteration:    501, Training Batch Accuracy:  95.3%\n",
            "Optimization Iteration:    601, Training Batch Accuracy:  95.3%\n",
            "Optimization Iteration:    701, Training Batch Accuracy:  93.8%\n",
            "Optimization Iteration:    801, Training Batch Accuracy:  96.9%\n",
            "Optimization Iteration:    901, Training Batch Accuracy:  95.3%\n",
            "Optimization Iteration:   1001, Training Batch Accuracy:  95.3%\n",
            "Optimization Iteration:   1101, Training Batch Accuracy:  96.9%\n",
            "Optimization Iteration:   1201, Training Batch Accuracy:  96.9%\n",
            "Optimization Iteration:   1301, Training Batch Accuracy:  98.4%\n",
            "Optimization Iteration:   1401, Training Batch Accuracy: 100.0%\n",
            "Optimization Iteration:   1501, Training Batch Accuracy: 100.0%\n",
            "Optimization Iteration:   1601, Training Batch Accuracy:  96.9%\n",
            "Optimization Iteration:   1701, Training Batch Accuracy:  95.3%\n",
            "Optimization Iteration:   1801, Training Batch Accuracy:  98.4%\n",
            "Optimization Iteration:   1901, Training Batch Accuracy:  98.4%\n",
            "Optimization Iteration:   2001, Training Batch Accuracy:  98.4%\n",
            "Optimization Iteration:   2101, Training Batch Accuracy:  98.4%\n",
            "Optimization Iteration:   2201, Training Batch Accuracy: 100.0%\n",
            "Optimization Iteration:   2301, Training Batch Accuracy:  98.4%\n",
            "Optimization Iteration:   2401, Training Batch Accuracy:  96.9%\n",
            "Optimization Iteration:   2501, Training Batch Accuracy: 100.0%\n",
            "Optimization Iteration:   2601, Training Batch Accuracy:  98.4%\n",
            "Optimization Iteration:   2701, Training Batch Accuracy:  95.3%\n",
            "Optimization Iteration:   2801, Training Batch Accuracy:  96.9%\n",
            "Optimization Iteration:   2901, Training Batch Accuracy:  96.9%\n",
            "Optimization Iteration:   3001, Training Batch Accuracy:  98.4%\n",
            "Optimization Iteration:   3101, Training Batch Accuracy: 100.0%\n",
            "Optimization Iteration:   3201, Training Batch Accuracy: 100.0%\n",
            "Optimization Iteration:   3301, Training Batch Accuracy:  96.9%\n",
            "Optimization Iteration:   3401, Training Batch Accuracy:  96.9%\n",
            "Optimization Iteration:   3501, Training Batch Accuracy:  98.4%\n",
            "Optimization Iteration:   3601, Training Batch Accuracy:  98.4%\n",
            "Optimization Iteration:   3701, Training Batch Accuracy: 100.0%\n",
            "Optimization Iteration:   3801, Training Batch Accuracy:  96.9%\n",
            "Optimization Iteration:   3901, Training Batch Accuracy: 100.0%\n",
            "Optimization Iteration:   4001, Training Batch Accuracy: 100.0%\n",
            "Optimization Iteration:   4101, Training Batch Accuracy: 100.0%\n",
            "Optimization Iteration:   4201, Training Batch Accuracy: 100.0%\n",
            "Optimization Iteration:   4301, Training Batch Accuracy:  98.4%\n",
            "Optimization Iteration:   4401, Training Batch Accuracy: 100.0%\n",
            "Optimization Iteration:   4501, Training Batch Accuracy:  98.4%\n",
            "Optimization Iteration:   4601, Training Batch Accuracy:  98.4%\n",
            "Optimization Iteration:   4701, Training Batch Accuracy:  98.4%\n",
            "Optimization Iteration:   4801, Training Batch Accuracy:  96.9%\n",
            "Optimization Iteration:   4901, Training Batch Accuracy:  98.4%\n",
            "Optimization Iteration:   5001, Training Batch Accuracy:  98.4%\n",
            "Optimization Iteration:   5101, Training Batch Accuracy: 100.0%\n",
            "Optimization Iteration:   5201, Training Batch Accuracy: 100.0%\n",
            "Optimization Iteration:   5301, Training Batch Accuracy: 100.0%\n",
            "Optimization Iteration:   5401, Training Batch Accuracy: 100.0%\n",
            "Optimization Iteration:   5501, Training Batch Accuracy:  98.4%\n",
            "Optimization Iteration:   5601, Training Batch Accuracy: 100.0%\n",
            "Optimization Iteration:   5701, Training Batch Accuracy:  96.9%\n",
            "Optimization Iteration:   5801, Training Batch Accuracy:  98.4%\n",
            "Optimization Iteration:   5901, Training Batch Accuracy:  96.9%\n",
            "Optimization Iteration:   6001, Training Batch Accuracy: 100.0%\n",
            "Optimization Iteration:   6101, Training Batch Accuracy: 100.0%\n",
            "Optimization Iteration:   6201, Training Batch Accuracy: 100.0%\n",
            "Optimization Iteration:   6301, Training Batch Accuracy:  98.4%\n",
            "Optimization Iteration:   6401, Training Batch Accuracy:  98.4%\n",
            "Optimization Iteration:   6501, Training Batch Accuracy: 100.0%\n",
            "Optimization Iteration:   6601, Training Batch Accuracy: 100.0%\n",
            "Optimization Iteration:   6701, Training Batch Accuracy:  98.4%\n",
            "Optimization Iteration:   6801, Training Batch Accuracy: 100.0%\n",
            "Optimization Iteration:   6901, Training Batch Accuracy: 100.0%\n",
            "Optimization Iteration:   7001, Training Batch Accuracy: 100.0%\n",
            "Optimization Iteration:   7101, Training Batch Accuracy: 100.0%\n",
            "Optimization Iteration:   7201, Training Batch Accuracy:  96.9%\n",
            "Optimization Iteration:   7301, Training Batch Accuracy: 100.0%\n",
            "Optimization Iteration:   7401, Training Batch Accuracy: 100.0%\n",
            "Optimization Iteration:   7501, Training Batch Accuracy: 100.0%\n",
            "Optimization Iteration:   7601, Training Batch Accuracy: 100.0%\n",
            "Optimization Iteration:   7701, Training Batch Accuracy:  98.4%\n",
            "Optimization Iteration:   7801, Training Batch Accuracy: 100.0%\n",
            "Optimization Iteration:   7901, Training Batch Accuracy: 100.0%\n",
            "Optimization Iteration:   8001, Training Batch Accuracy:  98.4%\n",
            "Optimization Iteration:   8101, Training Batch Accuracy: 100.0%\n",
            "Optimization Iteration:   8201, Training Batch Accuracy: 100.0%\n",
            "Optimization Iteration:   8301, Training Batch Accuracy: 100.0%\n",
            "Optimization Iteration:   8401, Training Batch Accuracy:  98.4%\n",
            "Optimization Iteration:   8501, Training Batch Accuracy:  98.4%\n",
            "Optimization Iteration:   8601, Training Batch Accuracy: 100.0%\n",
            "Optimization Iteration:   8701, Training Batch Accuracy:  98.4%\n",
            "Optimization Iteration:   8801, Training Batch Accuracy: 100.0%\n",
            "Optimization Iteration:   8901, Training Batch Accuracy: 100.0%\n",
            "Optimization Iteration:   9001, Training Batch Accuracy: 100.0%\n",
            "Optimization Iteration:   9101, Training Batch Accuracy: 100.0%\n",
            "Optimization Iteration:   9201, Training Batch Accuracy: 100.0%\n",
            "Optimization Iteration:   9301, Training Batch Accuracy: 100.0%\n",
            "Optimization Iteration:   9401, Training Batch Accuracy: 100.0%\n",
            "Optimization Iteration:   9501, Training Batch Accuracy: 100.0%\n",
            "Optimization Iteration:   9601, Training Batch Accuracy: 100.0%\n",
            "Optimization Iteration:   9701, Training Batch Accuracy: 100.0%\n",
            "Optimization Iteration:   9801, Training Batch Accuracy:  98.4%\n",
            "Optimization Iteration:   9901, Training Batch Accuracy:  98.4%\n",
            "Time usage: 0:00:40\n",
            "\n",
            "Neural network: 2\n",
            "Optimization Iteration:      1, Training Batch Accuracy:   3.1%\n",
            "Optimization Iteration:    101, Training Batch Accuracy:  84.4%\n",
            "Optimization Iteration:    201, Training Batch Accuracy:  87.5%\n",
            "Optimization Iteration:    301, Training Batch Accuracy:  87.5%\n",
            "Optimization Iteration:    401, Training Batch Accuracy:  98.4%\n",
            "Optimization Iteration:    501, Training Batch Accuracy:  93.8%\n",
            "Optimization Iteration:    601, Training Batch Accuracy:  98.4%\n",
            "Optimization Iteration:    701, Training Batch Accuracy:  93.8%\n",
            "Optimization Iteration:    801, Training Batch Accuracy: 100.0%\n",
            "Optimization Iteration:    901, Training Batch Accuracy: 100.0%\n",
            "Optimization Iteration:   1001, Training Batch Accuracy:  96.9%\n",
            "Optimization Iteration:   1101, Training Batch Accuracy:  93.8%\n",
            "Optimization Iteration:   1201, Training Batch Accuracy:  96.9%\n",
            "Optimization Iteration:   1301, Training Batch Accuracy:  96.9%\n",
            "Optimization Iteration:   1401, Training Batch Accuracy:  95.3%\n",
            "Optimization Iteration:   1501, Training Batch Accuracy:  98.4%\n",
            "Optimization Iteration:   1601, Training Batch Accuracy:  96.9%\n",
            "Optimization Iteration:   1701, Training Batch Accuracy:  95.3%\n",
            "Optimization Iteration:   1801, Training Batch Accuracy:  98.4%\n",
            "Optimization Iteration:   1901, Training Batch Accuracy: 100.0%\n",
            "Optimization Iteration:   2001, Training Batch Accuracy:  98.4%\n",
            "Optimization Iteration:   2101, Training Batch Accuracy:  98.4%\n",
            "Optimization Iteration:   2201, Training Batch Accuracy:  98.4%\n",
            "Optimization Iteration:   2301, Training Batch Accuracy:  96.9%\n",
            "Optimization Iteration:   2401, Training Batch Accuracy:  95.3%\n",
            "Optimization Iteration:   2501, Training Batch Accuracy:  92.2%\n",
            "Optimization Iteration:   2601, Training Batch Accuracy: 100.0%\n",
            "Optimization Iteration:   2701, Training Batch Accuracy: 100.0%\n",
            "Optimization Iteration:   2801, Training Batch Accuracy:  95.3%\n",
            "Optimization Iteration:   2901, Training Batch Accuracy: 100.0%\n",
            "Optimization Iteration:   3001, Training Batch Accuracy:  98.4%\n",
            "Optimization Iteration:   3101, Training Batch Accuracy:  93.8%\n",
            "Optimization Iteration:   3201, Training Batch Accuracy:  98.4%\n",
            "Optimization Iteration:   3301, Training Batch Accuracy:  96.9%\n",
            "Optimization Iteration:   3401, Training Batch Accuracy: 100.0%\n",
            "Optimization Iteration:   3501, Training Batch Accuracy:  95.3%\n",
            "Optimization Iteration:   3601, Training Batch Accuracy:  98.4%\n",
            "Optimization Iteration:   3701, Training Batch Accuracy:  98.4%\n",
            "Optimization Iteration:   3801, Training Batch Accuracy: 100.0%\n",
            "Optimization Iteration:   3901, Training Batch Accuracy:  95.3%\n",
            "Optimization Iteration:   4001, Training Batch Accuracy: 100.0%\n",
            "Optimization Iteration:   4101, Training Batch Accuracy: 100.0%\n",
            "Optimization Iteration:   4201, Training Batch Accuracy: 100.0%\n",
            "Optimization Iteration:   4301, Training Batch Accuracy:  98.4%\n",
            "Optimization Iteration:   4401, Training Batch Accuracy:  98.4%\n",
            "Optimization Iteration:   4501, Training Batch Accuracy: 100.0%\n",
            "Optimization Iteration:   4601, Training Batch Accuracy: 100.0%\n",
            "Optimization Iteration:   4701, Training Batch Accuracy:  98.4%\n",
            "Optimization Iteration:   4801, Training Batch Accuracy: 100.0%\n",
            "Optimization Iteration:   4901, Training Batch Accuracy: 100.0%\n",
            "Optimization Iteration:   5001, Training Batch Accuracy:  98.4%\n",
            "Optimization Iteration:   5101, Training Batch Accuracy:  96.9%\n",
            "Optimization Iteration:   5201, Training Batch Accuracy: 100.0%\n",
            "Optimization Iteration:   5301, Training Batch Accuracy: 100.0%\n",
            "Optimization Iteration:   5401, Training Batch Accuracy:  98.4%\n",
            "Optimization Iteration:   5501, Training Batch Accuracy:  98.4%\n",
            "Optimization Iteration:   5601, Training Batch Accuracy:  98.4%\n",
            "Optimization Iteration:   5701, Training Batch Accuracy: 100.0%\n",
            "Optimization Iteration:   5801, Training Batch Accuracy: 100.0%\n",
            "Optimization Iteration:   5901, Training Batch Accuracy:  98.4%\n",
            "Optimization Iteration:   6001, Training Batch Accuracy: 100.0%\n",
            "Optimization Iteration:   6101, Training Batch Accuracy: 100.0%\n",
            "Optimization Iteration:   6201, Training Batch Accuracy: 100.0%\n",
            "Optimization Iteration:   6301, Training Batch Accuracy:  98.4%\n",
            "Optimization Iteration:   6401, Training Batch Accuracy: 100.0%\n",
            "Optimization Iteration:   6501, Training Batch Accuracy:  98.4%\n",
            "Optimization Iteration:   6601, Training Batch Accuracy: 100.0%\n",
            "Optimization Iteration:   6701, Training Batch Accuracy: 100.0%\n",
            "Optimization Iteration:   6801, Training Batch Accuracy:  98.4%\n",
            "Optimization Iteration:   6901, Training Batch Accuracy: 100.0%\n",
            "Optimization Iteration:   7001, Training Batch Accuracy:  98.4%\n",
            "Optimization Iteration:   7101, Training Batch Accuracy: 100.0%\n",
            "Optimization Iteration:   7201, Training Batch Accuracy: 100.0%\n",
            "Optimization Iteration:   7301, Training Batch Accuracy:  98.4%\n",
            "Optimization Iteration:   7401, Training Batch Accuracy:  96.9%\n",
            "Optimization Iteration:   7501, Training Batch Accuracy: 100.0%\n",
            "Optimization Iteration:   7601, Training Batch Accuracy:  98.4%\n",
            "Optimization Iteration:   7701, Training Batch Accuracy:  98.4%\n",
            "Optimization Iteration:   7801, Training Batch Accuracy: 100.0%\n",
            "Optimization Iteration:   7901, Training Batch Accuracy:  98.4%\n",
            "Optimization Iteration:   8001, Training Batch Accuracy:  98.4%\n",
            "Optimization Iteration:   8101, Training Batch Accuracy:  96.9%\n",
            "Optimization Iteration:   8201, Training Batch Accuracy: 100.0%\n",
            "Optimization Iteration:   8301, Training Batch Accuracy:  98.4%\n",
            "Optimization Iteration:   8401, Training Batch Accuracy: 100.0%\n",
            "Optimization Iteration:   8501, Training Batch Accuracy: 100.0%\n",
            "Optimization Iteration:   8601, Training Batch Accuracy:  98.4%\n",
            "Optimization Iteration:   8701, Training Batch Accuracy: 100.0%\n",
            "Optimization Iteration:   8801, Training Batch Accuracy: 100.0%\n",
            "Optimization Iteration:   8901, Training Batch Accuracy: 100.0%\n",
            "Optimization Iteration:   9001, Training Batch Accuracy: 100.0%\n",
            "Optimization Iteration:   9101, Training Batch Accuracy:  98.4%\n",
            "Optimization Iteration:   9201, Training Batch Accuracy:  98.4%\n",
            "Optimization Iteration:   9301, Training Batch Accuracy: 100.0%\n",
            "Optimization Iteration:   9401, Training Batch Accuracy: 100.0%\n",
            "Optimization Iteration:   9501, Training Batch Accuracy: 100.0%\n",
            "Optimization Iteration:   9601, Training Batch Accuracy:  98.4%\n",
            "Optimization Iteration:   9701, Training Batch Accuracy:  95.3%\n",
            "Optimization Iteration:   9801, Training Batch Accuracy:  96.9%\n",
            "Optimization Iteration:   9901, Training Batch Accuracy: 100.0%\n",
            "Time usage: 0:00:39\n",
            "\n",
            "Neural network: 3\n",
            "Optimization Iteration:      1, Training Batch Accuracy:   9.4%\n",
            "Optimization Iteration:    101, Training Batch Accuracy:  89.1%\n",
            "Optimization Iteration:    201, Training Batch Accuracy:  89.1%\n",
            "Optimization Iteration:    301, Training Batch Accuracy:  90.6%\n",
            "Optimization Iteration:    401, Training Batch Accuracy:  93.8%\n",
            "Optimization Iteration:    501, Training Batch Accuracy:  93.8%\n",
            "Optimization Iteration:    601, Training Batch Accuracy:  90.6%\n",
            "Optimization Iteration:    701, Training Batch Accuracy:  96.9%\n",
            "Optimization Iteration:    801, Training Batch Accuracy:  93.8%\n",
            "Optimization Iteration:    901, Training Batch Accuracy:  96.9%\n",
            "Optimization Iteration:   1001, Training Batch Accuracy:  98.4%\n",
            "Optimization Iteration:   1101, Training Batch Accuracy: 100.0%\n",
            "Optimization Iteration:   1201, Training Batch Accuracy: 100.0%\n",
            "Optimization Iteration:   1301, Training Batch Accuracy:  98.4%\n",
            "Optimization Iteration:   1401, Training Batch Accuracy:  96.9%\n",
            "Optimization Iteration:   1501, Training Batch Accuracy:  96.9%\n",
            "Optimization Iteration:   1601, Training Batch Accuracy:  98.4%\n",
            "Optimization Iteration:   1701, Training Batch Accuracy:  92.2%\n",
            "Optimization Iteration:   1801, Training Batch Accuracy:  96.9%\n",
            "Optimization Iteration:   1901, Training Batch Accuracy:  98.4%\n",
            "Optimization Iteration:   2001, Training Batch Accuracy:  93.8%\n",
            "Optimization Iteration:   2101, Training Batch Accuracy:  98.4%\n",
            "Optimization Iteration:   2201, Training Batch Accuracy: 100.0%\n",
            "Optimization Iteration:   2301, Training Batch Accuracy: 100.0%\n",
            "Optimization Iteration:   2401, Training Batch Accuracy: 100.0%\n",
            "Optimization Iteration:   2501, Training Batch Accuracy: 100.0%\n",
            "Optimization Iteration:   2601, Training Batch Accuracy: 100.0%\n",
            "Optimization Iteration:   2701, Training Batch Accuracy:  96.9%\n",
            "Optimization Iteration:   2801, Training Batch Accuracy: 100.0%\n",
            "Optimization Iteration:   2901, Training Batch Accuracy:  95.3%\n",
            "Optimization Iteration:   3001, Training Batch Accuracy: 100.0%\n",
            "Optimization Iteration:   3101, Training Batch Accuracy: 100.0%\n",
            "Optimization Iteration:   3201, Training Batch Accuracy: 100.0%\n",
            "Optimization Iteration:   3301, Training Batch Accuracy:  98.4%\n",
            "Optimization Iteration:   3401, Training Batch Accuracy:  98.4%\n",
            "Optimization Iteration:   3501, Training Batch Accuracy:  98.4%\n",
            "Optimization Iteration:   3601, Training Batch Accuracy: 100.0%\n",
            "Optimization Iteration:   3701, Training Batch Accuracy: 100.0%\n",
            "Optimization Iteration:   3801, Training Batch Accuracy:  95.3%\n",
            "Optimization Iteration:   3901, Training Batch Accuracy:  98.4%\n",
            "Optimization Iteration:   4001, Training Batch Accuracy: 100.0%\n",
            "Optimization Iteration:   4101, Training Batch Accuracy:  98.4%\n",
            "Optimization Iteration:   4201, Training Batch Accuracy: 100.0%\n",
            "Optimization Iteration:   4301, Training Batch Accuracy:  95.3%\n",
            "Optimization Iteration:   4401, Training Batch Accuracy: 100.0%\n",
            "Optimization Iteration:   4501, Training Batch Accuracy: 100.0%\n",
            "Optimization Iteration:   4601, Training Batch Accuracy: 100.0%\n",
            "Optimization Iteration:   4701, Training Batch Accuracy:  95.3%\n",
            "Optimization Iteration:   4801, Training Batch Accuracy:  98.4%\n",
            "Optimization Iteration:   4901, Training Batch Accuracy:  98.4%\n",
            "Optimization Iteration:   5001, Training Batch Accuracy:  98.4%\n",
            "Optimization Iteration:   5101, Training Batch Accuracy:  98.4%\n",
            "Optimization Iteration:   5201, Training Batch Accuracy: 100.0%\n",
            "Optimization Iteration:   5301, Training Batch Accuracy: 100.0%\n",
            "Optimization Iteration:   5401, Training Batch Accuracy: 100.0%\n",
            "Optimization Iteration:   5501, Training Batch Accuracy: 100.0%\n",
            "Optimization Iteration:   5601, Training Batch Accuracy: 100.0%\n",
            "Optimization Iteration:   5701, Training Batch Accuracy: 100.0%\n",
            "Optimization Iteration:   5801, Training Batch Accuracy: 100.0%\n",
            "Optimization Iteration:   5901, Training Batch Accuracy: 100.0%\n",
            "Optimization Iteration:   6001, Training Batch Accuracy: 100.0%\n",
            "Optimization Iteration:   6101, Training Batch Accuracy: 100.0%\n",
            "Optimization Iteration:   6201, Training Batch Accuracy:  95.3%\n",
            "Optimization Iteration:   6301, Training Batch Accuracy: 100.0%\n",
            "Optimization Iteration:   6401, Training Batch Accuracy:  98.4%\n",
            "Optimization Iteration:   6501, Training Batch Accuracy: 100.0%\n",
            "Optimization Iteration:   6601, Training Batch Accuracy:  98.4%\n",
            "Optimization Iteration:   6701, Training Batch Accuracy: 100.0%\n",
            "Optimization Iteration:   6801, Training Batch Accuracy: 100.0%\n",
            "Optimization Iteration:   6901, Training Batch Accuracy: 100.0%\n",
            "Optimization Iteration:   7001, Training Batch Accuracy: 100.0%\n",
            "Optimization Iteration:   7101, Training Batch Accuracy: 100.0%\n",
            "Optimization Iteration:   7201, Training Batch Accuracy: 100.0%\n",
            "Optimization Iteration:   7301, Training Batch Accuracy: 100.0%\n",
            "Optimization Iteration:   7401, Training Batch Accuracy: 100.0%\n",
            "Optimization Iteration:   7501, Training Batch Accuracy: 100.0%\n",
            "Optimization Iteration:   7601, Training Batch Accuracy: 100.0%\n",
            "Optimization Iteration:   7701, Training Batch Accuracy: 100.0%\n",
            "Optimization Iteration:   7801, Training Batch Accuracy:  98.4%\n",
            "Optimization Iteration:   7901, Training Batch Accuracy: 100.0%\n",
            "Optimization Iteration:   8001, Training Batch Accuracy:  98.4%\n",
            "Optimization Iteration:   8101, Training Batch Accuracy: 100.0%\n",
            "Optimization Iteration:   8201, Training Batch Accuracy: 100.0%\n",
            "Optimization Iteration:   8301, Training Batch Accuracy: 100.0%\n",
            "Optimization Iteration:   8401, Training Batch Accuracy: 100.0%\n",
            "Optimization Iteration:   8501, Training Batch Accuracy: 100.0%\n",
            "Optimization Iteration:   8601, Training Batch Accuracy: 100.0%\n",
            "Optimization Iteration:   8701, Training Batch Accuracy: 100.0%\n",
            "Optimization Iteration:   8801, Training Batch Accuracy: 100.0%\n",
            "Optimization Iteration:   8901, Training Batch Accuracy: 100.0%\n",
            "Optimization Iteration:   9001, Training Batch Accuracy: 100.0%\n",
            "Optimization Iteration:   9101, Training Batch Accuracy:  98.4%\n",
            "Optimization Iteration:   9201, Training Batch Accuracy: 100.0%\n",
            "Optimization Iteration:   9301, Training Batch Accuracy: 100.0%\n",
            "Optimization Iteration:   9401, Training Batch Accuracy: 100.0%\n",
            "Optimization Iteration:   9501, Training Batch Accuracy:  96.9%\n",
            "Optimization Iteration:   9601, Training Batch Accuracy:  98.4%\n",
            "Optimization Iteration:   9701, Training Batch Accuracy:  98.4%\n",
            "Optimization Iteration:   9801, Training Batch Accuracy:  98.4%\n",
            "Optimization Iteration:   9901, Training Batch Accuracy: 100.0%\n",
            "Time usage: 0:00:39\n",
            "\n",
            "Neural network: 4\n",
            "Optimization Iteration:      1, Training Batch Accuracy:   9.4%\n",
            "Optimization Iteration:    101, Training Batch Accuracy:  82.8%\n",
            "Optimization Iteration:    201, Training Batch Accuracy:  89.1%\n",
            "Optimization Iteration:    301, Training Batch Accuracy:  89.1%\n",
            "Optimization Iteration:    401, Training Batch Accuracy:  96.9%\n",
            "Optimization Iteration:    501, Training Batch Accuracy:  96.9%\n",
            "Optimization Iteration:    601, Training Batch Accuracy:  98.4%\n",
            "Optimization Iteration:    701, Training Batch Accuracy:  96.9%\n",
            "Optimization Iteration:    801, Training Batch Accuracy:  93.8%\n",
            "Optimization Iteration:    901, Training Batch Accuracy:  96.9%\n",
            "Optimization Iteration:   1001, Training Batch Accuracy:  98.4%\n",
            "Optimization Iteration:   1101, Training Batch Accuracy:  96.9%\n",
            "Optimization Iteration:   1201, Training Batch Accuracy:  93.8%\n",
            "Optimization Iteration:   1301, Training Batch Accuracy:  96.9%\n",
            "Optimization Iteration:   1401, Training Batch Accuracy:  98.4%\n",
            "Optimization Iteration:   1501, Training Batch Accuracy:  95.3%\n",
            "Optimization Iteration:   1601, Training Batch Accuracy:  96.9%\n",
            "Optimization Iteration:   1701, Training Batch Accuracy:  98.4%\n",
            "Optimization Iteration:   1801, Training Batch Accuracy:  93.8%\n",
            "Optimization Iteration:   1901, Training Batch Accuracy:  96.9%\n",
            "Optimization Iteration:   2001, Training Batch Accuracy: 100.0%\n",
            "Optimization Iteration:   2101, Training Batch Accuracy:  95.3%\n",
            "Optimization Iteration:   2201, Training Batch Accuracy:  96.9%\n",
            "Optimization Iteration:   2301, Training Batch Accuracy:  96.9%\n",
            "Optimization Iteration:   2401, Training Batch Accuracy:  93.8%\n",
            "Optimization Iteration:   2501, Training Batch Accuracy:  98.4%\n",
            "Optimization Iteration:   2601, Training Batch Accuracy:  96.9%\n",
            "Optimization Iteration:   2701, Training Batch Accuracy:  98.4%\n",
            "Optimization Iteration:   2801, Training Batch Accuracy:  98.4%\n",
            "Optimization Iteration:   2901, Training Batch Accuracy:  98.4%\n",
            "Optimization Iteration:   3001, Training Batch Accuracy:  96.9%\n",
            "Optimization Iteration:   3101, Training Batch Accuracy:  98.4%\n",
            "Optimization Iteration:   3201, Training Batch Accuracy:  98.4%\n",
            "Optimization Iteration:   3301, Training Batch Accuracy: 100.0%\n",
            "Optimization Iteration:   3401, Training Batch Accuracy:  98.4%\n",
            "Optimization Iteration:   3501, Training Batch Accuracy:  96.9%\n",
            "Optimization Iteration:   3601, Training Batch Accuracy:  98.4%\n",
            "Optimization Iteration:   3701, Training Batch Accuracy:  98.4%\n",
            "Optimization Iteration:   3801, Training Batch Accuracy:  98.4%\n",
            "Optimization Iteration:   3901, Training Batch Accuracy: 100.0%\n",
            "Optimization Iteration:   4001, Training Batch Accuracy:  98.4%\n",
            "Optimization Iteration:   4101, Training Batch Accuracy: 100.0%\n",
            "Optimization Iteration:   4201, Training Batch Accuracy: 100.0%\n",
            "Optimization Iteration:   4301, Training Batch Accuracy: 100.0%\n",
            "Optimization Iteration:   4401, Training Batch Accuracy:  98.4%\n",
            "Optimization Iteration:   4501, Training Batch Accuracy:  98.4%\n",
            "Optimization Iteration:   4601, Training Batch Accuracy:  98.4%\n",
            "Optimization Iteration:   4701, Training Batch Accuracy: 100.0%\n",
            "Optimization Iteration:   4801, Training Batch Accuracy: 100.0%\n",
            "Optimization Iteration:   4901, Training Batch Accuracy:  96.9%\n",
            "Optimization Iteration:   5001, Training Batch Accuracy: 100.0%\n",
            "Optimization Iteration:   5101, Training Batch Accuracy:  98.4%\n",
            "Optimization Iteration:   5201, Training Batch Accuracy: 100.0%\n",
            "Optimization Iteration:   5301, Training Batch Accuracy: 100.0%\n",
            "Optimization Iteration:   5401, Training Batch Accuracy:  98.4%\n",
            "Optimization Iteration:   5501, Training Batch Accuracy: 100.0%\n",
            "Optimization Iteration:   5601, Training Batch Accuracy:  98.4%\n",
            "Optimization Iteration:   5701, Training Batch Accuracy:  95.3%\n",
            "Optimization Iteration:   5801, Training Batch Accuracy: 100.0%\n",
            "Optimization Iteration:   5901, Training Batch Accuracy: 100.0%\n",
            "Optimization Iteration:   6001, Training Batch Accuracy:  98.4%\n",
            "Optimization Iteration:   6101, Training Batch Accuracy: 100.0%\n",
            "Optimization Iteration:   6201, Training Batch Accuracy:  96.9%\n",
            "Optimization Iteration:   6301, Training Batch Accuracy:  98.4%\n",
            "Optimization Iteration:   6401, Training Batch Accuracy: 100.0%\n",
            "Optimization Iteration:   6501, Training Batch Accuracy: 100.0%\n",
            "Optimization Iteration:   6601, Training Batch Accuracy: 100.0%\n",
            "Optimization Iteration:   6701, Training Batch Accuracy: 100.0%\n",
            "Optimization Iteration:   6801, Training Batch Accuracy:  96.9%\n",
            "Optimization Iteration:   6901, Training Batch Accuracy:  96.9%\n",
            "Optimization Iteration:   7001, Training Batch Accuracy: 100.0%\n",
            "Optimization Iteration:   7101, Training Batch Accuracy: 100.0%\n",
            "Optimization Iteration:   7201, Training Batch Accuracy:  96.9%\n",
            "Optimization Iteration:   7301, Training Batch Accuracy: 100.0%\n",
            "Optimization Iteration:   7401, Training Batch Accuracy: 100.0%\n",
            "Optimization Iteration:   7501, Training Batch Accuracy: 100.0%\n",
            "Optimization Iteration:   7601, Training Batch Accuracy: 100.0%\n",
            "Optimization Iteration:   7701, Training Batch Accuracy: 100.0%\n",
            "Optimization Iteration:   7801, Training Batch Accuracy: 100.0%\n",
            "Optimization Iteration:   7901, Training Batch Accuracy:  93.8%\n",
            "Optimization Iteration:   8001, Training Batch Accuracy: 100.0%\n",
            "Optimization Iteration:   8101, Training Batch Accuracy:  98.4%\n",
            "Optimization Iteration:   8201, Training Batch Accuracy: 100.0%\n",
            "Optimization Iteration:   8301, Training Batch Accuracy: 100.0%\n",
            "Optimization Iteration:   8401, Training Batch Accuracy: 100.0%\n",
            "Optimization Iteration:   8501, Training Batch Accuracy:  98.4%\n",
            "Optimization Iteration:   8601, Training Batch Accuracy: 100.0%\n",
            "Optimization Iteration:   8701, Training Batch Accuracy:  98.4%\n",
            "Optimization Iteration:   8801, Training Batch Accuracy: 100.0%\n",
            "Optimization Iteration:   8901, Training Batch Accuracy:  98.4%\n",
            "Optimization Iteration:   9001, Training Batch Accuracy: 100.0%\n",
            "Optimization Iteration:   9101, Training Batch Accuracy: 100.0%\n",
            "Optimization Iteration:   9201, Training Batch Accuracy: 100.0%\n",
            "Optimization Iteration:   9301, Training Batch Accuracy: 100.0%\n",
            "Optimization Iteration:   9401, Training Batch Accuracy: 100.0%\n",
            "Optimization Iteration:   9501, Training Batch Accuracy: 100.0%\n",
            "Optimization Iteration:   9601, Training Batch Accuracy: 100.0%\n",
            "Optimization Iteration:   9701, Training Batch Accuracy: 100.0%\n",
            "Optimization Iteration:   9801, Training Batch Accuracy: 100.0%\n",
            "Optimization Iteration:   9901, Training Batch Accuracy:  98.4%\n",
            "Time usage: 0:00:39\n",
            "\n"
          ],
          "name": "stdout"
        }
      ]
    },
    {
      "metadata": {
        "id": "KC9IcMaGXtZB",
        "colab_type": "text"
      },
      "cell_type": "markdown",
      "source": [
        "### Helper-functions for calculating and predicting classifications\n",
        "\n",
        "This function calculates the predicted labels of images, that is, for each image it calculates a vector of length 10 indicating which of the 10 classes the image is.\n",
        "\n",
        "The calculation is done in batches because it might use too much RAM otherwise. If your computer crashes then you can try and lower the batch-size."
      ]
    },
    {
      "metadata": {
        "id": "Ydu9l_LGXtZC",
        "colab_type": "code",
        "colab": {}
      },
      "cell_type": "code",
      "source": [
        "# Split the data-set in batches of this size to limit RAM usage.\n",
        "batch_size = 256\n",
        "\n",
        "def predict_labels(images):\n",
        "    # Number of images.\n",
        "    num_images = len(images)\n",
        "\n",
        "    # Allocate an array for the predicted labels which\n",
        "    # will be calculated in batches and filled into this array.\n",
        "    pred_labels = np.zeros(shape=(num_images, num_classes),\n",
        "                           dtype=np.float)\n",
        "\n",
        "    # Now calculate the predicted labels for the batches.\n",
        "    # We will just iterate through all the batches.\n",
        "    # There might be a more clever and Pythonic way of doing this.\n",
        "\n",
        "    # The starting index for the next batch is denoted i.\n",
        "    i = 0\n",
        "\n",
        "    while i < num_images:\n",
        "        # The ending index for the next batch is denoted j.\n",
        "        j = min(i + batch_size, num_images)\n",
        "\n",
        "        # Create a feed-dict with the images between index i and j.\n",
        "        feed_dict = {x: images[i:j, :]}\n",
        "\n",
        "        # Calculate the predicted labels using TensorFlow.\n",
        "        pred_labels[i:j] = session.run(y_pred, feed_dict=feed_dict)\n",
        "\n",
        "        # Set the start-index for the next batch to the\n",
        "        # end-index of the current batch.\n",
        "        i = j\n",
        "\n",
        "    return pred_labels"
      ],
      "execution_count": 0,
      "outputs": []
    },
    {
      "metadata": {
        "id": "5ZdcGOqmXtZE",
        "colab_type": "text"
      },
      "cell_type": "markdown",
      "source": [
        "Calculate a boolean array whether the predicted classes for the images are correct."
      ]
    },
    {
      "metadata": {
        "id": "9QqYNMS9XtZE",
        "colab_type": "code",
        "colab": {}
      },
      "cell_type": "code",
      "source": [
        "def correct_prediction(images, labels, cls_true):\n",
        "    # Calculate the predicted labels.\n",
        "    pred_labels = predict_labels(images=images)\n",
        "\n",
        "    # Calculate the predicted class-number for each image.\n",
        "    cls_pred = np.argmax(pred_labels, axis=1)\n",
        "\n",
        "    # Create a boolean array whether each image is correctly classified.\n",
        "    correct = (cls_true == cls_pred)\n",
        "\n",
        "    return correct"
      ],
      "execution_count": 0,
      "outputs": []
    },
    {
      "metadata": {
        "id": "wh5zYHryXtZI",
        "colab_type": "text"
      },
      "cell_type": "markdown",
      "source": [
        "Calculate a boolean array whether the images in the test-set are classified correctly."
      ]
    },
    {
      "metadata": {
        "id": "MMfy_Rw4XtZJ",
        "colab_type": "code",
        "colab": {}
      },
      "cell_type": "code",
      "source": [
        "def test_correct():\n",
        "    return correct_prediction(images = data.test.images,\n",
        "                              labels = data.test.labels,\n",
        "                              cls_true = data.test.cls)"
      ],
      "execution_count": 0,
      "outputs": []
    },
    {
      "metadata": {
        "id": "lyYsk08xXtZL",
        "colab_type": "text"
      },
      "cell_type": "markdown",
      "source": [
        "Calculate a boolean array whether the images in the validation-set are classified correctly."
      ]
    },
    {
      "metadata": {
        "id": "pkQxvt_rXtZM",
        "colab_type": "code",
        "colab": {}
      },
      "cell_type": "code",
      "source": [
        "def validation_correct():\n",
        "    return correct_prediction(images = data.validation.images,\n",
        "                              labels = data.validation.labels,\n",
        "                              cls_true = data.validation.cls)"
      ],
      "execution_count": 0,
      "outputs": []
    },
    {
      "metadata": {
        "id": "eXdLgCZXXtZR",
        "colab_type": "text"
      },
      "cell_type": "markdown",
      "source": [
        "### Helper-functions for calculating the classification accuracy\n",
        "\n",
        "This function calculates the classification accuracy given a boolean array whether each image was correctly classified. E.g. `classification_accuracy([True, True, False, False, False]) = 2/5 = 0.4`"
      ]
    },
    {
      "metadata": {
        "id": "3f_tJGlqXtZS",
        "colab_type": "code",
        "colab": {}
      },
      "cell_type": "code",
      "source": [
        "def classification_accuracy(correct):\n",
        "    # When averaging a boolean array, False means 0 and True means 1.\n",
        "    # So we are calculating: number of True / len(correct) which is\n",
        "    # the same as the classification accuracy.\n",
        "    return correct.mean()"
      ],
      "execution_count": 0,
      "outputs": []
    },
    {
      "metadata": {
        "id": "1ENeUyhrXtZW",
        "colab_type": "text"
      },
      "cell_type": "markdown",
      "source": [
        "Calculate the classification accuracy on the test-set."
      ]
    },
    {
      "metadata": {
        "id": "AyZFMjLCXtZX",
        "colab_type": "code",
        "colab": {}
      },
      "cell_type": "code",
      "source": [
        "def test_accuracy():\n",
        "    # Get the array of booleans whether the classifications are correct\n",
        "    # for the test-set.\n",
        "    correct = test_correct()\n",
        "    \n",
        "    # Calculate the classification accuracy and return it.\n",
        "    return classification_accuracy(correct)"
      ],
      "execution_count": 0,
      "outputs": []
    },
    {
      "metadata": {
        "id": "3caNrwVjXtZZ",
        "colab_type": "text"
      },
      "cell_type": "markdown",
      "source": [
        "Calculate the classification accuracy on the original validation-set."
      ]
    },
    {
      "metadata": {
        "id": "Ucs_4-MwXtZb",
        "colab_type": "code",
        "colab": {}
      },
      "cell_type": "code",
      "source": [
        "def validation_accuracy():\n",
        "    # Get the array of booleans whether the classifications are correct\n",
        "    # for the validation-set.\n",
        "    correct = validation_correct()\n",
        "    \n",
        "    # Calculate the classification accuracy and return it.\n",
        "    return classification_accuracy(correct)"
      ],
      "execution_count": 0,
      "outputs": []
    },
    {
      "metadata": {
        "id": "YCny1k9wXtZd",
        "colab_type": "text"
      },
      "cell_type": "markdown",
      "source": [
        "## Results and analysis"
      ]
    },
    {
      "metadata": {
        "id": "r5XMe-ICXtZe",
        "colab_type": "text"
      },
      "cell_type": "markdown",
      "source": [
        "Function for calculating the predicted labels for all the neural networks in the ensemble. The labels are combined further below."
      ]
    },
    {
      "metadata": {
        "id": "QxldbG89XtZe",
        "colab_type": "code",
        "colab": {}
      },
      "cell_type": "code",
      "source": [
        "def ensemble_predictions():\n",
        "    # Empty list of predicted labels for each of the neural networks.\n",
        "    pred_labels = []\n",
        "\n",
        "    # Classification accuracy on the test-set for each network.\n",
        "    test_accuracies = []\n",
        "\n",
        "    # Classification accuracy on the validation-set for each network.\n",
        "    val_accuracies = []\n",
        "\n",
        "    # For each neural network in the ensemble.\n",
        "    for i in range(num_networks):\n",
        "        # Reload the variables into the TensorFlow graph.\n",
        "        saver.restore(sess=session, save_path=get_save_path(i))\n",
        "\n",
        "        # Calculate the classification accuracy on the test-set.\n",
        "        test_acc = test_accuracy()\n",
        "\n",
        "        # Append the classification accuracy to the list.\n",
        "        test_accuracies.append(test_acc)\n",
        "\n",
        "        # Calculate the classification accuracy on the validation-set.\n",
        "        val_acc = validation_accuracy()\n",
        "\n",
        "        # Append the classification accuracy to the list.\n",
        "        val_accuracies.append(val_acc)\n",
        "\n",
        "        # Print status message.\n",
        "        msg = \"Network: {0}, Accuracy on Validation-Set: {1:.4f}, Test-Set: {2:.4f}\"\n",
        "        print(msg.format(i, val_acc, test_acc))\n",
        "\n",
        "        # Calculate the predicted labels for the images in the test-set.\n",
        "        # This is already calculated in test_accuracy() above but\n",
        "        # it is re-calculated here to keep the code a bit simpler.\n",
        "        pred = predict_labels(images=data.test.images)\n",
        "\n",
        "        # Append the predicted labels to the list.\n",
        "        pred_labels.append(pred)\n",
        "    \n",
        "    return np.array(pred_labels), \\\n",
        "           np.array(test_accuracies), \\\n",
        "           np.array(val_accuracies)"
      ],
      "execution_count": 0,
      "outputs": []
    },
    {
      "metadata": {
        "id": "K95nu0WDXtZh",
        "colab_type": "code",
        "colab": {},
        "outputId": "36c42f17-67c0-4b4f-8f2c-49606297c22f"
      },
      "cell_type": "code",
      "source": [
        "pred_labels, test_accuracies, val_accuracies = ensemble_predictions()"
      ],
      "execution_count": 0,
      "outputs": [
        {
          "output_type": "stream",
          "text": [
            "Network: 0, Accuracy on Validation-Set: 0.9948, Test-Set: 0.9893\n",
            "Network: 1, Accuracy on Validation-Set: 0.9936, Test-Set: 0.9880\n",
            "Network: 2, Accuracy on Validation-Set: 0.9958, Test-Set: 0.9893\n",
            "Network: 3, Accuracy on Validation-Set: 0.9938, Test-Set: 0.9889\n",
            "Network: 4, Accuracy on Validation-Set: 0.9938, Test-Set: 0.9892\n"
          ],
          "name": "stdout"
        }
      ]
    },
    {
      "metadata": {
        "id": "7StGjiQJXtZj",
        "colab_type": "text"
      },
      "cell_type": "markdown",
      "source": [
        "Summarize the classification accuracies on the test-set for the neural networks in the ensemble."
      ]
    },
    {
      "metadata": {
        "id": "ND4DjyCPXtZj",
        "colab_type": "code",
        "colab": {},
        "outputId": "93843323-3c66-411a-ca52-2d9e8f42c7a0"
      },
      "cell_type": "code",
      "source": [
        "print(\"Mean test-set accuracy: {0:.4f}\".format(np.mean(test_accuracies)))\n",
        "print(\"Min test-set accuracy:  {0:.4f}\".format(np.min(test_accuracies)))\n",
        "print(\"Max test-set accuracy:  {0:.4f}\".format(np.max(test_accuracies)))"
      ],
      "execution_count": 0,
      "outputs": [
        {
          "output_type": "stream",
          "text": [
            "Mean test-set accuracy: 0.9889\n",
            "Min test-set accuracy:  0.9880\n",
            "Max test-set accuracy:  0.9893\n"
          ],
          "name": "stdout"
        }
      ]
    },
    {
      "metadata": {
        "id": "0M-KHl7TXtZm",
        "colab_type": "text"
      },
      "cell_type": "markdown",
      "source": [
        "The predicted labels of the ensemble is a 3-dim array, the first dim is the network-number, the second dim is the image-number, the third dim is the classification vector."
      ]
    },
    {
      "metadata": {
        "id": "itlPe4c8XtZm",
        "colab_type": "code",
        "colab": {},
        "outputId": "61962b28-4569-4984-a7dc-dce4fc53b794"
      },
      "cell_type": "code",
      "source": [
        "pred_labels.shape"
      ],
      "execution_count": 0,
      "outputs": [
        {
          "output_type": "execute_result",
          "data": {
            "text/plain": [
              "(5, 10000, 10)"
            ]
          },
          "metadata": {
            "tags": []
          },
          "execution_count": 49
        }
      ]
    },
    {
      "metadata": {
        "id": "8C3WXD7cXtZo",
        "colab_type": "text"
      },
      "cell_type": "markdown",
      "source": [
        "### Ensemble predictions"
      ]
    },
    {
      "metadata": {
        "id": "zcHLY2s1XtZp",
        "colab_type": "text"
      },
      "cell_type": "markdown",
      "source": [
        "There are different ways to calculate the predicted labels for the ensemble. One way is to calculate the predicted class-number for each neural network, and then select the class-number with most votes. But this requires a large number of neural networks relative to the number of classes.\n",
        "\n",
        "The method used here is instead to take the average of the predicted labels for all the networks in the ensemble. This is simple to calculate and does not require a large number of networks in the ensemble."
      ]
    },
    {
      "metadata": {
        "id": "R6DruxzLXtZp",
        "colab_type": "code",
        "colab": {},
        "outputId": "7e2df15f-9ade-4daf-f836-0703f2bcbb03"
      },
      "cell_type": "code",
      "source": [
        "ensemble_pred_labels = np.mean(pred_labels, axis=0)\n",
        "ensemble_pred_labels.shape"
      ],
      "execution_count": 0,
      "outputs": [
        {
          "output_type": "execute_result",
          "data": {
            "text/plain": [
              "(10000, 10)"
            ]
          },
          "metadata": {
            "tags": []
          },
          "execution_count": 50
        }
      ]
    },
    {
      "metadata": {
        "id": "kOp2Cl8XXtZr",
        "colab_type": "text"
      },
      "cell_type": "markdown",
      "source": [
        "The ensemble's predicted class number is then the index of the highest number in the label, which is calculated using argmax as usual."
      ]
    },
    {
      "metadata": {
        "id": "ECi2dFvDXtZr",
        "colab_type": "code",
        "colab": {},
        "outputId": "bf712c29-4fd1-42b1-cd52-350cd5271a9f"
      },
      "cell_type": "code",
      "source": [
        "ensemble_cls_pred = np.argmax(ensemble_pred_labels, axis=1)\n",
        "ensemble_cls_pred.shape"
      ],
      "execution_count": 0,
      "outputs": [
        {
          "output_type": "execute_result",
          "data": {
            "text/plain": [
              "(10000,)"
            ]
          },
          "metadata": {
            "tags": []
          },
          "execution_count": 51
        }
      ]
    },
    {
      "metadata": {
        "id": "jfdktYRMXtZu",
        "colab_type": "text"
      },
      "cell_type": "markdown",
      "source": [
        "Boolean array whether each of the images in the test-set was correctly classified by the ensemble of neural networks."
      ]
    },
    {
      "metadata": {
        "id": "ZEFEHxuqXtZu",
        "colab_type": "code",
        "colab": {}
      },
      "cell_type": "code",
      "source": [
        "ensemble_correct = (ensemble_cls_pred == data.test.cls)"
      ],
      "execution_count": 0,
      "outputs": []
    },
    {
      "metadata": {
        "id": "tjKqFvBtXtZw",
        "colab_type": "text"
      },
      "cell_type": "markdown",
      "source": [
        "Negate the boolean array so we can use it to lookup incorrectly classified images."
      ]
    },
    {
      "metadata": {
        "id": "Gtwoxj9wXtZx",
        "colab_type": "code",
        "colab": {}
      },
      "cell_type": "code",
      "source": [
        "ensemble_incorrect = np.logical_not(ensemble_correct)"
      ],
      "execution_count": 0,
      "outputs": []
    },
    {
      "metadata": {
        "id": "TLpwtN7VXtZy",
        "colab_type": "text"
      },
      "cell_type": "markdown",
      "source": [
        "### Best neural network\n",
        "\n",
        "Now we find the single neural network that performed best on the test-set.\n",
        "\n",
        "First list the classification accuracies on the test-set for all the neural networks in the ensemble."
      ]
    },
    {
      "metadata": {
        "id": "IBCxgiFEXtZy",
        "colab_type": "code",
        "colab": {},
        "outputId": "45c7a259-e872-403f-ef10-2d581f9c9f64"
      },
      "cell_type": "code",
      "source": [
        "test_accuracies"
      ],
      "execution_count": 0,
      "outputs": [
        {
          "output_type": "execute_result",
          "data": {
            "text/plain": [
              "array([ 0.9893,  0.988 ,  0.9893,  0.9889,  0.9892])"
            ]
          },
          "metadata": {
            "tags": []
          },
          "execution_count": 54
        }
      ]
    },
    {
      "metadata": {
        "id": "RW-GC5VNXtZ0",
        "colab_type": "text"
      },
      "cell_type": "markdown",
      "source": [
        "The index of the neural network with the highest classification accuracy."
      ]
    },
    {
      "metadata": {
        "id": "PENrA81vXtZ0",
        "colab_type": "code",
        "colab": {},
        "outputId": "a2c32054-798e-45c5-a44d-5352adfc5c14"
      },
      "cell_type": "code",
      "source": [
        "best_net = np.argmax(test_accuracies)\n",
        "best_net"
      ],
      "execution_count": 0,
      "outputs": [
        {
          "output_type": "execute_result",
          "data": {
            "text/plain": [
              "0"
            ]
          },
          "metadata": {
            "tags": []
          },
          "execution_count": 55
        }
      ]
    },
    {
      "metadata": {
        "id": "rnD2aJd8XtZ2",
        "colab_type": "text"
      },
      "cell_type": "markdown",
      "source": [
        "The best neural network's classification accuracy on the test-set."
      ]
    },
    {
      "metadata": {
        "id": "Ox0h87JpXtZ2",
        "colab_type": "code",
        "colab": {},
        "outputId": "efef4a1b-616a-44c6-cbbf-646f86ea1609"
      },
      "cell_type": "code",
      "source": [
        "test_accuracies[best_net]"
      ],
      "execution_count": 0,
      "outputs": [
        {
          "output_type": "execute_result",
          "data": {
            "text/plain": [
              "0.98929999999999996"
            ]
          },
          "metadata": {
            "tags": []
          },
          "execution_count": 56
        }
      ]
    },
    {
      "metadata": {
        "id": "Wq8oWZ4pXtZ3",
        "colab_type": "text"
      },
      "cell_type": "markdown",
      "source": [
        "Predicted labels of the best neural network."
      ]
    },
    {
      "metadata": {
        "id": "HEOzWLdhXtZ3",
        "colab_type": "code",
        "colab": {}
      },
      "cell_type": "code",
      "source": [
        "best_net_pred_labels = pred_labels[best_net, :, :]"
      ],
      "execution_count": 0,
      "outputs": []
    },
    {
      "metadata": {
        "id": "Fw7dKSj6XtZ4",
        "colab_type": "text"
      },
      "cell_type": "markdown",
      "source": [
        "The predicted class-number."
      ]
    },
    {
      "metadata": {
        "id": "helbayK6XtZ4",
        "colab_type": "code",
        "colab": {}
      },
      "cell_type": "code",
      "source": [
        "best_net_cls_pred = np.argmax(best_net_pred_labels, axis=1)"
      ],
      "execution_count": 0,
      "outputs": []
    },
    {
      "metadata": {
        "id": "sgDLB3anXtZ5",
        "colab_type": "text"
      },
      "cell_type": "markdown",
      "source": [
        "Boolean array whether the best neural network classified each image in the test-set correctly."
      ]
    },
    {
      "metadata": {
        "id": "OZMKi19zXtZ7",
        "colab_type": "code",
        "colab": {}
      },
      "cell_type": "code",
      "source": [
        "best_net_correct = (best_net_cls_pred == data.test.cls)"
      ],
      "execution_count": 0,
      "outputs": []
    },
    {
      "metadata": {
        "id": "_MwbqBeaXtZ8",
        "colab_type": "text"
      },
      "cell_type": "markdown",
      "source": [
        "Boolean array whether each image is incorrectly classified."
      ]
    },
    {
      "metadata": {
        "id": "1YavIC4hXtZ9",
        "colab_type": "code",
        "colab": {}
      },
      "cell_type": "code",
      "source": [
        "best_net_incorrect = np.logical_not(best_net_correct)"
      ],
      "execution_count": 0,
      "outputs": []
    },
    {
      "metadata": {
        "id": "6RB4xPP1XtZ-",
        "colab_type": "text"
      },
      "cell_type": "markdown",
      "source": [
        "### Comparison of ensemble vs. the best single network"
      ]
    },
    {
      "metadata": {
        "id": "lgiVZ8mvXtZ-",
        "colab_type": "text"
      },
      "cell_type": "markdown",
      "source": [
        "The number of images in the test-set that were correctly classified by the ensemble."
      ]
    },
    {
      "metadata": {
        "id": "oluSfx57XtZ_",
        "colab_type": "code",
        "colab": {},
        "outputId": "5aab3a89-435b-4cfd-842f-80bf2c7fee44"
      },
      "cell_type": "code",
      "source": [
        "np.sum(ensemble_correct)"
      ],
      "execution_count": 0,
      "outputs": [
        {
          "output_type": "execute_result",
          "data": {
            "text/plain": [
              "9916"
            ]
          },
          "metadata": {
            "tags": []
          },
          "execution_count": 61
        }
      ]
    },
    {
      "metadata": {
        "id": "kuniJ5R_XtZ_",
        "colab_type": "text"
      },
      "cell_type": "markdown",
      "source": [
        "The number of images in the test-set that were correctly classified by the best neural network."
      ]
    },
    {
      "metadata": {
        "id": "7N1Et9_wXtaA",
        "colab_type": "code",
        "colab": {},
        "outputId": "ee5490e5-d76d-48f6-e669-66d7710f2477"
      },
      "cell_type": "code",
      "source": [
        "np.sum(best_net_correct)"
      ],
      "execution_count": 0,
      "outputs": [
        {
          "output_type": "execute_result",
          "data": {
            "text/plain": [
              "9893"
            ]
          },
          "metadata": {
            "tags": []
          },
          "execution_count": 62
        }
      ]
    },
    {
      "metadata": {
        "id": "6UsES428XtaB",
        "colab_type": "text"
      },
      "cell_type": "markdown",
      "source": [
        "Boolean array whether each image in the test-set was correctly classified by the ensemble and incorrectly classified by the best neural network."
      ]
    },
    {
      "metadata": {
        "id": "v-bwDkymXtaB",
        "colab_type": "code",
        "colab": {}
      },
      "cell_type": "code",
      "source": [
        "ensemble_better = np.logical_and(best_net_incorrect,\n",
        "                                 ensemble_correct)"
      ],
      "execution_count": 0,
      "outputs": []
    },
    {
      "metadata": {
        "id": "NWme75V2XtaC",
        "colab_type": "text"
      },
      "cell_type": "markdown",
      "source": [
        "Number of images in the test-set where the ensemble was better than the best single network:"
      ]
    },
    {
      "metadata": {
        "id": "7akD2YP4XtaD",
        "colab_type": "code",
        "colab": {},
        "outputId": "030987a7-22f2-4157-b997-c2ce5a5317e4"
      },
      "cell_type": "code",
      "source": [
        "ensemble_better.sum()"
      ],
      "execution_count": 0,
      "outputs": [
        {
          "output_type": "execute_result",
          "data": {
            "text/plain": [
              "39"
            ]
          },
          "metadata": {
            "tags": []
          },
          "execution_count": 64
        }
      ]
    },
    {
      "metadata": {
        "id": "vpnLrxWrXtaD",
        "colab_type": "text"
      },
      "cell_type": "markdown",
      "source": [
        "Boolean array whether each image in the test-set was correctly classified by the best single network and incorrectly classified by the ensemble."
      ]
    },
    {
      "metadata": {
        "id": "NjHu5mwdXtaE",
        "colab_type": "code",
        "colab": {}
      },
      "cell_type": "code",
      "source": [
        "best_net_better = np.logical_and(best_net_correct,\n",
        "                                 ensemble_incorrect)"
      ],
      "execution_count": 0,
      "outputs": []
    },
    {
      "metadata": {
        "id": "_TLpFQcQXtaF",
        "colab_type": "text"
      },
      "cell_type": "markdown",
      "source": [
        "Number of images in the test-set where the best single network was better than the ensemble."
      ]
    },
    {
      "metadata": {
        "id": "g0IleOVfXtaF",
        "colab_type": "code",
        "colab": {},
        "outputId": "0154551e-74f0-4fbf-f07c-3de30268c7c1"
      },
      "cell_type": "code",
      "source": [
        "best_net_better.sum()"
      ],
      "execution_count": 0,
      "outputs": [
        {
          "output_type": "execute_result",
          "data": {
            "text/plain": [
              "16"
            ]
          },
          "metadata": {
            "tags": []
          },
          "execution_count": 66
        }
      ]
    },
    {
      "metadata": {
        "id": "K_fb-XDOXtaG",
        "colab_type": "text"
      },
      "cell_type": "markdown",
      "source": [
        "### Helper-functions for plotting and printing comparisons"
      ]
    },
    {
      "metadata": {
        "id": "4Eq8vFu8XtaG",
        "colab_type": "text"
      },
      "cell_type": "markdown",
      "source": [
        "Function for plotting images from the test-set and their true and predicted class-numbers."
      ]
    },
    {
      "metadata": {
        "id": "iyGUfyQ-XtaH",
        "colab_type": "code",
        "colab": {}
      },
      "cell_type": "code",
      "source": [
        "def plot_images_comparison(idx):\n",
        "    plot_images(images=data.test.images[idx, :],\n",
        "                cls_true=data.test.cls[idx],\n",
        "                ensemble_cls_pred=ensemble_cls_pred[idx],\n",
        "                best_cls_pred=best_net_cls_pred[idx])"
      ],
      "execution_count": 0,
      "outputs": []
    },
    {
      "metadata": {
        "id": "j685FrE7XtaK",
        "colab_type": "text"
      },
      "cell_type": "markdown",
      "source": [
        "Function for printing the predicted labels."
      ]
    },
    {
      "metadata": {
        "id": "ROD3khoQXtaL",
        "colab_type": "code",
        "colab": {}
      },
      "cell_type": "code",
      "source": [
        "def print_labels(labels, idx, num=1):\n",
        "    # Select the relevant labels based on idx.\n",
        "    labels = labels[idx, :]\n",
        "\n",
        "    # Select the first num labels.\n",
        "    labels = labels[0:num, :]\n",
        "    \n",
        "    # Round numbers to 2 decimal points so they are easier to read.\n",
        "    labels_rounded = np.round(labels, 2)\n",
        "\n",
        "    # Print the rounded labels.\n",
        "    print(labels_rounded)"
      ],
      "execution_count": 0,
      "outputs": []
    },
    {
      "metadata": {
        "id": "d0780Dv4XtaM",
        "colab_type": "text"
      },
      "cell_type": "markdown",
      "source": [
        "Function for printing the predicted labels for the ensemble of neural networks."
      ]
    },
    {
      "metadata": {
        "id": "VIV0-YvMXtaM",
        "colab_type": "code",
        "colab": {}
      },
      "cell_type": "code",
      "source": [
        "def print_labels_ensemble(idx, **kwargs):\n",
        "    print_labels(labels=ensemble_pred_labels, idx=idx, **kwargs)"
      ],
      "execution_count": 0,
      "outputs": []
    },
    {
      "metadata": {
        "id": "NDRkNl0yXtaO",
        "colab_type": "text"
      },
      "cell_type": "markdown",
      "source": [
        "Function for printing the predicted labels for the best single network."
      ]
    },
    {
      "metadata": {
        "id": "nKeetWWNXtaP",
        "colab_type": "code",
        "colab": {}
      },
      "cell_type": "code",
      "source": [
        "def print_labels_best_net(idx, **kwargs):\n",
        "    print_labels(labels=best_net_pred_labels, idx=idx, **kwargs)"
      ],
      "execution_count": 0,
      "outputs": []
    },
    {
      "metadata": {
        "id": "Pys37UOAXtaQ",
        "colab_type": "text"
      },
      "cell_type": "markdown",
      "source": [
        "Function for printing the predicted labels of all the neural networks in the ensemble. This only prints the labels for the first image."
      ]
    },
    {
      "metadata": {
        "id": "RieH1kYvXtaQ",
        "colab_type": "code",
        "colab": {}
      },
      "cell_type": "code",
      "source": [
        "def print_labels_all_nets(idx):\n",
        "    for i in range(num_networks):\n",
        "        print_labels(labels=pred_labels[i, :, :], idx=idx, num=1)"
      ],
      "execution_count": 0,
      "outputs": []
    },
    {
      "metadata": {
        "id": "dKpndGleXtaR",
        "colab_type": "text"
      },
      "cell_type": "markdown",
      "source": [
        "## Examples: Ensemble is better than the best network\n",
        "\n",
        "Plot examples of images that were correctly classified by the ensemble and incorrectly classified by the best single network."
      ]
    },
    {
      "metadata": {
        "id": "69NsFq5NXtaR",
        "colab_type": "code",
        "colab": {},
        "outputId": "ec5850b3-691d-4f18-c8c2-335403ccf24e"
      },
      "cell_type": "code",
      "source": [
        "plot_images_comparison(idx=ensemble_better)"
      ],
      "execution_count": 0,
      "outputs": [
        {
          "output_type": "display_data",
          "data": {
            "image/png": "[encoded data removed]",
            "text/plain": [
              "<matplotlib.figure.Figure at 0x7fdddcb177b8>"
            ]
          },
          "metadata": {
            "tags": []
          }
        }
      ]
    },
    {
      "metadata": {
        "id": "MtzygYhoXtaT",
        "colab_type": "text"
      },
      "cell_type": "markdown",
      "source": [
        "The ensemble's predicted labels for the first of these images (top left image):"
      ]
    },
    {
      "metadata": {
        "id": "6d1RTlkGXtaU",
        "colab_type": "code",
        "colab": {},
        "outputId": "4182c0cb-c94d-4b6f-a113-0e5bfe8040c1"
      },
      "cell_type": "code",
      "source": [
        "print_labels_ensemble(idx=ensemble_better, num=1)"
      ],
      "execution_count": 0,
      "outputs": [
        {
          "output_type": "stream",
          "text": [
            "[[ 0.    0.    0.    0.76  0.    0.    0.    0.    0.23  0.  ]]\n"
          ],
          "name": "stdout"
        }
      ]
    },
    {
      "metadata": {
        "id": "QQkdifswXtaV",
        "colab_type": "text"
      },
      "cell_type": "markdown",
      "source": [
        "The best network's predicted labels for the first of these images:"
      ]
    },
    {
      "metadata": {
        "id": "X6y9fbXqXtaV",
        "colab_type": "code",
        "colab": {},
        "outputId": "5deb026f-efbb-4f78-8ba6-015cb540598d"
      },
      "cell_type": "code",
      "source": [
        "print_labels_best_net(idx=ensemble_better, num=1)"
      ],
      "execution_count": 0,
      "outputs": [
        {
          "output_type": "stream",
          "text": [
            "[[ 0.    0.    0.    0.21  0.    0.    0.    0.    0.79  0.  ]]\n"
          ],
          "name": "stdout"
        }
      ]
    },
    {
      "metadata": {
        "id": "QykHlulWXtaY",
        "colab_type": "text"
      },
      "cell_type": "markdown",
      "source": [
        "The predicted labels of all the networks in the ensemble, for the first of these images:"
      ]
    },
    {
      "metadata": {
        "id": "jewFoO7YXtaZ",
        "colab_type": "code",
        "colab": {},
        "outputId": "d2014879-6fba-489a-a6ea-e3fc29304b36"
      },
      "cell_type": "code",
      "source": [
        "print_labels_all_nets(idx=ensemble_better)"
      ],
      "execution_count": 0,
      "outputs": [
        {
          "output_type": "stream",
          "text": [
            "[[ 0.    0.    0.    0.21  0.    0.    0.    0.    0.79  0.  ]]\n",
            "[[ 0.    0.    0.    0.96  0.    0.01  0.    0.    0.03  0.  ]]\n",
            "[[ 0.    0.    0.    0.99  0.    0.    0.    0.    0.01  0.  ]]\n",
            "[[ 0.    0.    0.    0.88  0.    0.    0.    0.    0.12  0.  ]]\n",
            "[[ 0.    0.    0.    0.76  0.    0.01  0.    0.    0.22  0.  ]]\n"
          ],
          "name": "stdout"
        }
      ]
    },
    {
      "metadata": {
        "id": "-t0sFGJ3Xtab",
        "colab_type": "text"
      },
      "cell_type": "markdown",
      "source": [
        "## Examples: Best network is better than ensemble\n",
        "\n",
        "Now plot examples of images that were incorrectly classified by the ensemble but correctly classified by the best single network."
      ]
    },
    {
      "metadata": {
        "id": "BwR57m8cXtac",
        "colab_type": "code",
        "colab": {},
        "outputId": "d2478bfc-e91d-43e7-cdb5-bdf52e440292"
      },
      "cell_type": "code",
      "source": [
        "plot_images_comparison(idx=best_net_better)"
      ],
      "execution_count": 0,
      "outputs": [
        {
          "output_type": "display_data",
          "data": {
            "image/png": "[encoded data removed]",
            "text/plain": [
              "<matplotlib.figure.Figure at 0x7fdddcb17710>"
            ]
          },
          "metadata": {
            "tags": []
          }
        }
      ]
    },
    {
      "metadata": {
        "id": "T5jtlKy3Xtae",
        "colab_type": "text"
      },
      "cell_type": "markdown",
      "source": [
        "The ensemble's predicted labels for the first of these images (top left image):"
      ]
    },
    {
      "metadata": {
        "id": "QynhaX_OXtae",
        "colab_type": "code",
        "colab": {},
        "outputId": "ab96a0e6-cca2-42dc-a247-c598640a8712"
      },
      "cell_type": "code",
      "source": [
        "print_labels_ensemble(idx=best_net_better, num=1)"
      ],
      "execution_count": 0,
      "outputs": [
        {
          "output_type": "stream",
          "text": [
            "[[ 0.5   0.    0.    0.    0.    0.05  0.45  0.    0.    0.  ]]\n"
          ],
          "name": "stdout"
        }
      ]
    },
    {
      "metadata": {
        "id": "a6IhQrUyXtaf",
        "colab_type": "text"
      },
      "cell_type": "markdown",
      "source": [
        "The best single network's predicted labels for the first of these images:"
      ]
    },
    {
      "metadata": {
        "id": "wtIfV9VDXtaf",
        "colab_type": "code",
        "colab": {},
        "outputId": "7208690f-f4ba-477b-fc69-582041fe3f7e"
      },
      "cell_type": "code",
      "source": [
        "print_labels_best_net(idx=best_net_better, num=1)"
      ],
      "execution_count": 0,
      "outputs": [
        {
          "output_type": "stream",
          "text": [
            "[[ 0.3   0.    0.    0.    0.    0.15  0.56  0.    0.    0.  ]]\n"
          ],
          "name": "stdout"
        }
      ]
    },
    {
      "metadata": {
        "id": "-wNstDfCXtag",
        "colab_type": "text"
      },
      "cell_type": "markdown",
      "source": [
        "The predicted labels of all the networks in the ensemble, for the first of these images:"
      ]
    },
    {
      "metadata": {
        "id": "LyH56C9dXtah",
        "colab_type": "code",
        "colab": {},
        "outputId": "918771ab-2699-47f1-8e1a-fd2895227638"
      },
      "cell_type": "code",
      "source": [
        "print_labels_all_nets(idx=best_net_better)"
      ],
      "execution_count": 0,
      "outputs": [
        {
          "output_type": "stream",
          "text": [
            "[[ 0.3   0.    0.    0.    0.    0.15  0.56  0.    0.    0.  ]]\n",
            "[[ 1.  0.  0.  0.  0.  0.  0.  0.  0.  0.]]\n",
            "[[ 0.19  0.    0.    0.    0.    0.    0.81  0.    0.    0.  ]]\n",
            "[[ 0.15  0.    0.    0.    0.    0.12  0.72  0.    0.    0.  ]]\n",
            "[[ 0.85  0.    0.    0.    0.    0.    0.14  0.    0.    0.  ]]\n"
          ],
          "name": "stdout"
        }
      ]
    },
    {
      "metadata": {
        "id": "fW3FjDpPXtai",
        "colab_type": "text"
      },
      "cell_type": "markdown",
      "source": [
        "## Close TensorFlow Session"
      ]
    },
    {
      "metadata": {
        "id": "oDrA2KPfXtai",
        "colab_type": "text"
      },
      "cell_type": "markdown",
      "source": [
        "We are now done using TensorFlow, so we close the session to release its resources."
      ]
    },
    {
      "metadata": {
        "id": "52sB_8FoXtai",
        "colab_type": "code",
        "colab": {}
      },
      "cell_type": "code",
      "source": [
        "# This has been commented out in case you want to modify and experiment\n",
        "# with the Notebook without having to restart it.\n",
        "# session.close()"
      ],
      "execution_count": 0,
      "outputs": []
    },
    {
      "metadata": {
        "id": "kG_9QpaZXtaj",
        "colab_type": "text"
      },
      "cell_type": "markdown",
      "source": [
        "## Conclusion\n",
        "\n",
        "This tutorial created an ensemble of 5 convolutional neural networks for classifying hand-written digits in the MNIST data-set. The ensemble worked by averaging the predicted class-labels of the 5 individual neural networks. This resulted in slightly improved classification accuracy on the test-set, with the ensemble having an accuracy of 99.1% compared to 98.9% for the best individual network.\n",
        "\n",
        "However, the ensemble did not always perform better than the individual neural networks, which sometimes classified images correctly while the ensemble misclassified those images. This suggests that the effect of using an ensemble of neural networks is somewhat random and may not provide a reliable way of improving the performance over a single neural network.\n",
        "\n",
        "The form of ensemble learning used here is called [bagging](https://en.wikipedia.org/wiki/Bootstrap_aggregating) (or Bootstrap Aggregating), which is mainly useful for avoiding overfitting and may not be necessary for this particular neural network and data-set. So it is still possible that ensemble learning may work in other settings.\n",
        "\n",
        "### Technical Note\n",
        "\n",
        "This implementation of ensemble learning used the TensorFlow `Saver()`-object to save and reload the variables of the neural network. But this functionality was really designed for another purpose and becomes very awkward to use for ensemble learning with different types of neural networks, or if you want to load multiple neural networks at the same time. There's an add-on package for TensorFlow called [sk-flow](https://github.com/tensorflow/tensorflow/tree/master/tensorflow/contrib/learn/python/learn) which makes this much easier, but it is still in the early stages of development as of August 2016."
      ]
    },
    {
      "metadata": {
        "id": "A54gS2QJXtaj",
        "colab_type": "text"
      },
      "cell_type": "markdown",
      "source": [
        "## Exercises\n",
        "\n",
        "These are a few suggestions for exercises that may help improve your skills with TensorFlow. It is important to get hands-on experience with TensorFlow in order to learn how to use it properly.\n",
        "\n",
        "You may want to backup this Notebook before making any changes.\n",
        "\n",
        "* Change different aspects of this program to see how it affects the performance:\n",
        "    * Use more neural networks in the ensemble.\n",
        "    * Change the size of the training-sets.\n",
        "    * Change the number of optimization iterations, try both more and less.\n",
        "* Explain to a friend how the program works.\n",
        "* Do you think Ensemble Learning is worth more research effort, or should you rather focus on improving a single neural network?"
      ]
    },
    {
      "metadata": {
        "id": "LX6Ac-x9Xtaj",
        "colab_type": "text"
      },
      "cell_type": "markdown",
      "source": [
        "## License (MIT)\n",
        "\n",
        "Copyright (c) 2016 by [Magnus Erik Hvass Pedersen](http://www.hvass-labs.org/)\n",
        "\n",
        "Permission is hereby granted, free of charge, to any person obtaining a copy of this software and associated documentation files (the \"Software\"), to deal in the Software without restriction, including without limitation the rights to use, copy, modify, merge, publish, distribute, sublicense, and/or sell copies of the Software, and to permit persons to whom the Software is furnished to do so, subject to the following conditions:\n",
        "\n",
        "The above copyright notice and this permission notice shall be included in all copies or substantial portions of the Software.\n",
        "\n",
        "THE SOFTWARE IS PROVIDED \"AS IS\", WITHOUT WARRANTY OF ANY KIND, EXPRESS OR IMPLIED, INCLUDING BUT NOT LIMITED TO THE WARRANTIES OF MERCHANTABILITY, FITNESS FOR A PARTICULAR PURPOSE AND NONINFRINGEMENT. IN NO EVENT SHALL THE AUTHORS OR COPYRIGHT HOLDERS BE LIABLE FOR ANY CLAIM, DAMAGES OR OTHER LIABILITY, WHETHER IN AN ACTION OF CONTRACT, TORT OR OTHERWISE, ARISING FROM, OUT OF OR IN CONNECTION WITH THE SOFTWARE OR THE USE OR OTHER DEALINGS IN THE SOFTWARE."
      ]
    }
  ]
}