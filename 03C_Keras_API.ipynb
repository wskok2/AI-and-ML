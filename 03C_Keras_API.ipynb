{
  "nbformat": 4,
  "nbformat_minor": 0,
  "metadata": {
    "colab": {
      "name": "03C_Keras_API.ipynb",
      "version": "0.3.2",
      "provenance": []
    },
    "kernelspec": {
      "display_name": "Python 3",
      "language": "python",
      "name": "python3"
    }
  },
  "cells": [
    {
      "metadata": {
        "id": "esRCC0zo2Oz8",
        "colab_type": "text"
      },
      "cell_type": "markdown",
      "source": [
        "# TensorFlow Tutorial #03-C\n",
        "# Keras API\n",
        "\n",
        "by [Magnus Erik Hvass Pedersen](http://www.hvass-labs.org/)\n",
        "/ [GitHub](https://github.com/Hvass-Labs/TensorFlow-Tutorials) / [Videos on YouTube](https://www.youtube.com/playlist?list=PL9Hr9sNUjfsmEu1ZniY0XpHSzl5uihcXZ)"
      ]
    },
    {
      "metadata": {
        "id": "cO6NZtsA2O0B",
        "colab_type": "text"
      },
      "cell_type": "markdown",
      "source": [
        "## Introduction\n",
        "\n",
        "Tutorial #02 showed how to implement a Convolutional Neural Network in TensorFlow. We made a few helper-functions for creating the layers in the network. It is essential to have a good high-level API because it makes it much easier to implement complex models, and it lowers the risk of errors.\n",
        "\n",
        "There are several of these builder API's available for TensorFlow: PrettyTensor (Tutorial #03), Layers API (Tutorial #03-B), and several others. But they were never really finished and now they seem to be more or less abandoned by their developers.\n",
        "\n",
        "This tutorial is about the Keras API which is already highly developed with very good documentation - and the development continues. It seems likely that Keras will be the standard API for TensorFlow in the future so it is recommended that you use it instead of the other APIs.\n",
        "\n",
        "The author of Keras has written a [blog-post](https://blog.keras.io/user-experience-design-for-apis.html) on his API design philosophy which you should read."
      ]
    },
    {
      "metadata": {
        "id": "VOeJn7AN2O0E",
        "colab_type": "text"
      },
      "cell_type": "markdown",
      "source": [
        "## Flowchart"
      ]
    },
    {
      "metadata": {
        "id": "hOlIfCZc2O0H",
        "colab_type": "text"
      },
      "cell_type": "markdown",
      "source": [
        "The following chart shows roughly how the data flows in the Convolutional Neural Network that is implemented below. See Tutorial #02 for a more detailed description of convolution.\n",
        "\n",
        "There are two convolutional layers, each followed by a down-sampling using max-pooling (not shown in this flowchart). Then there are two fully-connected layers ending in a softmax-classifier."
      ]
    },
    {
      "metadata": {
        "id": "CVnGSoZ02O0K",
        "colab_type": "text"
      },
      "cell_type": "markdown",
      "source": [
        "![Flowchart](https://github.com/Hvass-Labs/TensorFlow-Tutorials/blob/master/images/02_network_flowchart.png?raw=1)"
      ]
    },
    {
      "metadata": {
        "id": "IjVNkip42O0M",
        "colab_type": "text"
      },
      "cell_type": "markdown",
      "source": [
        "## Imports"
      ]
    },
    {
      "metadata": {
        "id": "odebPCTV2O0O",
        "colab_type": "code",
        "colab": {}
      },
      "cell_type": "code",
      "source": [
        "%matplotlib inline\n",
        "import matplotlib.pyplot as plt\n",
        "import tensorflow as tf\n",
        "import numpy as np\n",
        "import math"
      ],
      "execution_count": 0,
      "outputs": []
    },
    {
      "metadata": {
        "id": "FGx3klF62O0X",
        "colab_type": "text"
      },
      "cell_type": "markdown",
      "source": [
        "We need to import several things from Keras. Note the long import-statements. This might be a bug. Hopefully it will be possible to write shorter and more elegant lines in the future."
      ]
    },
    {
      "metadata": {
        "id": "m_3UwAJd2O0X",
        "colab_type": "code",
        "colab": {}
      },
      "cell_type": "code",
      "source": [
        "# from tf.keras.models import Sequential  # This does not work!\n",
        "from tensorflow.python.keras.models import Sequential\n",
        "from tensorflow.python.keras.layers import InputLayer, Input\n",
        "from tensorflow.python.keras.layers import Reshape, MaxPooling2D\n",
        "from tensorflow.python.keras.layers import Conv2D, Dense, Flatten"
      ],
      "execution_count": 0,
      "outputs": []
    },
    {
      "metadata": {
        "id": "gJEbO3tb2O0a",
        "colab_type": "text"
      },
      "cell_type": "markdown",
      "source": [
        "This was developed using Python 3.6 (Anaconda) and TensorFlow version:"
      ]
    },
    {
      "metadata": {
        "id": "J5-7oTPT2O0b",
        "colab_type": "code",
        "colab": {
          "base_uri": "https://localhost:8080/",
          "height": 34
        },
        "outputId": "f214bf5d-1c5f-444e-b0a6-5dbc2302b0cb"
      },
      "cell_type": "code",
      "source": [
        "tf.__version__"
      ],
      "execution_count": 4,
      "outputs": [
        {
          "output_type": "execute_result",
          "data": {
            "text/plain": [
              "'1.10.0'"
            ]
          },
          "metadata": {
            "tags": []
          },
          "execution_count": 4
        }
      ]
    },
    {
      "metadata": {
        "id": "m1pvsmhw2O0h",
        "colab_type": "text"
      },
      "cell_type": "markdown",
      "source": [
        "## Load Data"
      ]
    },
    {
      "metadata": {
        "id": "qJVrk_Qq2O0h",
        "colab_type": "text"
      },
      "cell_type": "markdown",
      "source": [
        "The MNIST data-set is about 12 MB and will be downloaded automatically if it is not located in the given path."
      ]
    },
    {
      "metadata": {
        "id": "Tyx5zrDw2O0i",
        "colab_type": "code",
        "colab": {
          "base_uri": "https://localhost:8080/",
          "height": 530
        },
        "outputId": "45d41077-49ce-4d59-e893-031171f0f70c"
      },
      "cell_type": "code",
      "source": [
        "from tensorflow.examples.tutorials.mnist import input_data\n",
        "data = input_data.read_data_sets(\"data/MNIST/\",one_hot=True)"
      ],
      "execution_count": 5,
      "outputs": [
        {
          "output_type": "stream",
          "text": [
            "WARNING:tensorflow:From <ipython-input-5-8f926a3cf57a>:2: read_data_sets (from tensorflow.contrib.learn.python.learn.datasets.mnist) is deprecated and will be removed in a future version.\n",
            "Instructions for updating:\n",
            "Please use alternatives such as official/mnist/dataset.py from tensorflow/models.\n",
            "WARNING:tensorflow:From /usr/local/lib/python3.6/dist-packages/tensorflow/contrib/learn/python/learn/datasets/mnist.py:260: maybe_download (from tensorflow.contrib.learn.python.learn.datasets.base) is deprecated and will be removed in a future version.\n",
            "Instructions for updating:\n",
            "Please write your own downloading logic.\n",
            "WARNING:tensorflow:From /usr/local/lib/python3.6/dist-packages/tensorflow/contrib/learn/python/learn/datasets/base.py:252: _internal_retry.<locals>.wrap.<locals>.wrapped_fn (from tensorflow.contrib.learn.python.learn.datasets.base) is deprecated and will be removed in a future version.\n",
            "Instructions for updating:\n",
            "Please use urllib or similar directly.\n",
            "Successfully downloaded train-images-idx3-ubyte.gz 9912422 bytes.\n",
            "WARNING:tensorflow:From /usr/local/lib/python3.6/dist-packages/tensorflow/contrib/learn/python/learn/datasets/mnist.py:262: extract_images (from tensorflow.contrib.learn.python.learn.datasets.mnist) is deprecated and will be removed in a future version.\n",
            "Instructions for updating:\n",
            "Please use tf.data to implement this functionality.\n",
            "Extracting data/MNIST/train-images-idx3-ubyte.gz\n",
            "Successfully downloaded train-labels-idx1-ubyte.gz 28881 bytes.\n",
            "WARNING:tensorflow:From /usr/local/lib/python3.6/dist-packages/tensorflow/contrib/learn/python/learn/datasets/mnist.py:267: extract_labels (from tensorflow.contrib.learn.python.learn.datasets.mnist) is deprecated and will be removed in a future version.\n",
            "Instructions for updating:\n",
            "Please use tf.data to implement this functionality.\n",
            "Extracting data/MNIST/train-labels-idx1-ubyte.gz\n",
            "WARNING:tensorflow:From /usr/local/lib/python3.6/dist-packages/tensorflow/contrib/learn/python/learn/datasets/mnist.py:110: dense_to_one_hot (from tensorflow.contrib.learn.python.learn.datasets.mnist) is deprecated and will be removed in a future version.\n",
            "Instructions for updating:\n",
            "Please use tf.one_hot on tensors.\n",
            "Successfully downloaded t10k-images-idx3-ubyte.gz 1648877 bytes.\n",
            "Extracting data/MNIST/t10k-images-idx3-ubyte.gz\n",
            "Successfully downloaded t10k-labels-idx1-ubyte.gz 4542 bytes.\n",
            "Extracting data/MNIST/t10k-labels-idx1-ubyte.gz\n",
            "WARNING:tensorflow:From /usr/local/lib/python3.6/dist-packages/tensorflow/contrib/learn/python/learn/datasets/mnist.py:290: DataSet.__init__ (from tensorflow.contrib.learn.python.learn.datasets.mnist) is deprecated and will be removed in a future version.\n",
            "Instructions for updating:\n",
            "Please use alternatives such as official/mnist/dataset.py from tensorflow/models.\n"
          ],
          "name": "stdout"
        }
      ]
    },
    {
      "metadata": {
        "id": "tnAZTYwf2O0l",
        "colab_type": "text"
      },
      "cell_type": "markdown",
      "source": [
        "The MNIST data-set has now been loaded and consists of 70.000 images and class-numbers for the images. The data-set is split into 3 mutually exclusive sub-sets. We will only use the training and test-sets in this tutorial."
      ]
    },
    {
      "metadata": {
        "id": "qIiZXB592O0l",
        "colab_type": "code",
        "colab": {
          "base_uri": "https://localhost:8080/",
          "height": 187
        },
        "outputId": "72ad4f7b-1f07-4c2a-e7af-2d3853e465f8"
      },
      "cell_type": "code",
      "source": [
        "data.test.cls = np.array([label.argmax() for label in data.test.labels])\n",
        "\n",
        "print(\"Size of:\")\n",
        "print(\"- Training-set:\\t\\t{}\".format(len(data.train.labels)))\n",
        "print(\"- Validation-set:\\t{}\".format(data.validation.labels))\n",
        "print(\"- Test-set:\\t\\t{}\".format(len(data.test.labels)))"
      ],
      "execution_count": 6,
      "outputs": [
        {
          "output_type": "stream",
          "text": [
            "Size of:\n",
            "- Training-set:\t\t55000\n",
            "- Validation-set:\t[[0. 0. 0. ... 0. 0. 0.]\n",
            " [1. 0. 0. ... 0. 0. 0.]\n",
            " [0. 0. 0. ... 0. 0. 0.]\n",
            " ...\n",
            " [0. 0. 1. ... 0. 0. 0.]\n",
            " [0. 1. 0. ... 0. 0. 0.]\n",
            " [0. 0. 1. ... 0. 0. 0.]]\n",
            "- Test-set:\t\t10000\n"
          ],
          "name": "stdout"
        }
      ]
    },
    {
      "metadata": {
        "id": "Eifp1n9X2O0p",
        "colab_type": "text"
      },
      "cell_type": "markdown",
      "source": [
        "Copy some of the data-dimensions for convenience."
      ]
    },
    {
      "metadata": {
        "id": "9DobZ48u2O0q",
        "colab_type": "code",
        "colab": {}
      },
      "cell_type": "code",
      "source": [
        "# The number of pixels in each dimension of an image.\n",
        "img_size = 28\n",
        "\n",
        "# The images are stored in one-dimensional arrays of this length.\n",
        "img_size_flat = img_size * img_size\n",
        "\n",
        "# Tuple with height and width of images used to reshape arrays.\n",
        "img_shape = (img_size, img_size)\n",
        "\n",
        "img_shape_full = (img_size, img_size,1 )\n",
        "\n",
        "# Number of classes, one class for each of 10 digits.\n",
        "num_classes = 10\n",
        "\n",
        "# Number of colour channels for the images: 1 channel for gray-scale.\n",
        "num_channels = 1"
      ],
      "execution_count": 0,
      "outputs": []
    },
    {
      "metadata": {
        "id": "dejvIoMC2O0s",
        "colab_type": "text"
      },
      "cell_type": "markdown",
      "source": [
        "### Helper-function for plotting images"
      ]
    },
    {
      "metadata": {
        "id": "FoBXc1Aq2O0t",
        "colab_type": "text"
      },
      "cell_type": "markdown",
      "source": [
        "Function used to plot 9 images in a 3x3 grid, and writing the true and predicted classes below each image."
      ]
    },
    {
      "metadata": {
        "id": "iAd6UdY32O0t",
        "colab_type": "code",
        "colab": {}
      },
      "cell_type": "code",
      "source": [
        "def plot_images(images, cls_true, cls_pred=None):\n",
        "    assert len(images) == len(cls_true) == 9\n",
        "    \n",
        "    # Create figure with 3x3 sub-plots.\n",
        "    fig, axes = plt.subplots(3, 3)\n",
        "    fig.subplots_adjust(hspace=0.3, wspace=0.3)\n",
        "\n",
        "    for i, ax in enumerate(axes.flat):\n",
        "        # Plot image.\n",
        "        ax.imshow(images[i].reshape(img_shape), cmap='binary')\n",
        "\n",
        "        # Show true and predicted classes.\n",
        "        if cls_pred is None:\n",
        "            xlabel = \"True: {0}\".format(cls_true[i])\n",
        "        else:\n",
        "            xlabel = \"True: {0}, Pred: {1}\".format(cls_true[i], cls_pred[i])\n",
        "\n",
        "        # Show the classes as the label on the x-axis.\n",
        "        ax.set_xlabel(xlabel)\n",
        "        \n",
        "        # Remove ticks from the plot.\n",
        "        ax.set_xticks([])\n",
        "        ax.set_yticks([])\n",
        "    \n",
        "    # Ensure the plot is shown correctly with multiple plots\n",
        "    # in a single Notebook cell.\n",
        "    plt.show()"
      ],
      "execution_count": 0,
      "outputs": []
    },
    {
      "metadata": {
        "id": "MyI8-v5s2O0w",
        "colab_type": "text"
      },
      "cell_type": "markdown",
      "source": [
        "### Plot a few images to see if data is correct"
      ]
    },
    {
      "metadata": {
        "id": "_mAeH_vd2O0z",
        "colab_type": "code",
        "colab": {
          "base_uri": "https://localhost:8080/",
          "height": 262
        },
        "outputId": "7ff9c3da-ff82-4a2e-b18d-815e92945691"
      },
      "cell_type": "code",
      "source": [
        "# Get the first images from the test-set.\n",
        "images = data.test.images[0:9]\n",
        "\n",
        "# Get the true classes for those images.\n",
        "cls_true = data.test.cls[0:9]\n",
        "\n",
        "# Plot the images and labels using our helper-function above.\n",
        "plot_images(images=images, cls_true=cls_true)"
      ],
      "execution_count": 9,
      "outputs": [
        {
          "output_type": "display_data",
          "data": {
            "image/png": "[encoded data removed]",
            "text/plain": [
              "<matplotlib.figure.Figure at 0x7f3fd5034978>"
            ]
          },
          "metadata": {
            "tags": []
          }
        }
      ]
    },
    {
      "metadata": {
        "id": "xRIyXBBz2O03",
        "colab_type": "text"
      },
      "cell_type": "markdown",
      "source": [
        "### Helper-function to plot example errors\n",
        "\n",
        "Function for plotting examples of images from the test-set that have been mis-classified."
      ]
    },
    {
      "metadata": {
        "id": "DFwoJHbh2O04",
        "colab_type": "code",
        "colab": {}
      },
      "cell_type": "code",
      "source": [
        "def plot_example_errors(cls_pred):\n",
        "    # cls_pred is an array of the predicted class-number for\n",
        "    # all images in the test-set.\n",
        "\n",
        "    # Boolean array whether the predicted class is incorrect.\n",
        "    incorrect = (cls_pred != data.test.cls)\n",
        "\n",
        "    # Get the images from the test-set that have been\n",
        "    # incorrectly classified.\n",
        "    images = data.test.images[incorrect]\n",
        "    \n",
        "    # Get the predicted classes for those images.\n",
        "    cls_pred = cls_pred[incorrect]\n",
        "\n",
        "    # Get the true classes for those images.\n",
        "    cls_true = data.test.cls[incorrect]\n",
        "    \n",
        "    # Plot the first 9 images.\n",
        "    plot_images(images=images[0:9],\n",
        "                cls_true=cls_true[0:9],\n",
        "                cls_pred=cls_pred[0:9])"
      ],
      "execution_count": 0,
      "outputs": []
    },
    {
      "metadata": {
        "id": "fGl9TqtV2O0-",
        "colab_type": "text"
      },
      "cell_type": "markdown",
      "source": [
        "## PrettyTensor API\n",
        "\n",
        "This is how the Convolutional Neural Network was implemented in Tutorial #03 using the PrettyTensor API. It is shown here for easy comparison to the Keras implementation below."
      ]
    },
    {
      "metadata": {
        "id": "bWRPkdGC2O1A",
        "colab_type": "code",
        "colab": {}
      },
      "cell_type": "code",
      "source": [
        "if False:\n",
        "    x_pretty = pt.wrap(x_image)\n",
        "\n",
        "    with pt.defaults_scope(activation_fn=tf.nn.relu):\n",
        "        y_pred, loss = x_pretty.\\\n",
        "            conv2d(kernel=5, depth=16, name='layer_conv1').\\\n",
        "            max_pool(kernel=2, stride=2).\\\n",
        "            conv2d(kernel=5, depth=36, name='layer_conv2').\\\n",
        "            max_pool(kernel=2, stride=2).\\\n",
        "            flatten().\\\n",
        "            fully_connected(size=128, name='layer_fc1').\\\n",
        "            softmax_classifier(num_classes=num_classes, labels=y_true)"
      ],
      "execution_count": 0,
      "outputs": []
    },
    {
      "metadata": {
        "id": "zpibvK_42O1C",
        "colab_type": "text"
      },
      "cell_type": "markdown",
      "source": [
        "## Sequential Model\n",
        "\n",
        "The Keras API has two modes of constructing Neural Networks. The simplest is the Sequential Model which only allows for the layers to be added in sequence."
      ]
    },
    {
      "metadata": {
        "id": "7Mlse0lx2O1D",
        "colab_type": "code",
        "colab": {}
      },
      "cell_type": "code",
      "source": [
        "# Start construction of the Keras Sequential model.\n",
        "model = Sequential()\n",
        "\n",
        "# Add an input layer which is similar to a feed_dict in TensorFlow.\n",
        "# Note that the input-shape must be a tuple containing the image-size.\n",
        "model.add(InputLayer(input_shape=(img_size_flat,)))\n",
        "\n",
        "# The input is a flattened array with 784 elements,\n",
        "# but the convolutional layers expect images with shape (28, 28, 1)\n",
        "model.add(Reshape(img_shape_full))\n",
        "\n",
        "# First convolutional layer with ReLU-activation and max-pooling.\n",
        "model.add(Conv2D(kernel_size=5, strides=1, filters=16, padding='same',\n",
        "                 activation='relu', name='layer_conv1'))\n",
        "model.add(MaxPooling2D(pool_size=2, strides=2))\n",
        "\n",
        "# Second convolutional layer with ReLU-activation and max-pooling.\n",
        "model.add(Conv2D(kernel_size=5, strides=1, filters=36, padding='same',\n",
        "                 activation='relu', name='layer_conv2'))\n",
        "model.add(MaxPooling2D(pool_size=2, strides=2))\n",
        "\n",
        "# Flatten the 4-rank output of the convolutional layers\n",
        "# to 2-rank that can be input to a fully-connected / dense layer.\n",
        "model.add(Flatten())\n",
        "\n",
        "# First fully-connected / dense layer with ReLU-activation.\n",
        "model.add(Dense(128, activation='relu'))\n",
        "\n",
        "# Last fully-connected / dense layer with softmax-activation\n",
        "# for use in classification.\n",
        "model.add(Dense(num_classes, activation='softmax'))"
      ],
      "execution_count": 0,
      "outputs": []
    },
    {
      "metadata": {
        "id": "sZRZDKxu2O1G",
        "colab_type": "text"
      },
      "cell_type": "markdown",
      "source": [
        "### Model Compilation\n",
        "\n",
        "The Neural Network has now been defined and must be finalized by adding a loss-function, optimizer and performance metrics. This is called model \"compilation\" in Keras.\n",
        "\n",
        "We can either define the optimizer using a string, or if we want more control of its parameters then we need to instantiate an object. For example, we can set the learning-rate."
      ]
    },
    {
      "metadata": {
        "id": "2ZdyJlVl2O1G",
        "colab_type": "code",
        "colab": {}
      },
      "cell_type": "code",
      "source": [
        "from tensorflow.python.keras.optimizers import Adam\n",
        "\n",
        "optimizer = Adam(lr=1e-3)"
      ],
      "execution_count": 0,
      "outputs": []
    },
    {
      "metadata": {
        "id": "sblv3lZo2O1M",
        "colab_type": "text"
      },
      "cell_type": "markdown",
      "source": [
        "For a classification-problem such as MNIST which has 10 possible classes, we need to use the loss-function called `categorical_crossentropy`. The performance metric we are interested in is the classification accuracy."
      ]
    },
    {
      "metadata": {
        "id": "x5Xlsq4U2O1P",
        "colab_type": "code",
        "colab": {}
      },
      "cell_type": "code",
      "source": [
        "model.compile(optimizer=optimizer,\n",
        "              loss='categorical_crossentropy',\n",
        "              metrics=['accuracy'])"
      ],
      "execution_count": 0,
      "outputs": []
    },
    {
      "metadata": {
        "id": "7nfVCYas2O1T",
        "colab_type": "text"
      },
      "cell_type": "markdown",
      "source": [
        "### Training\n",
        "\n",
        "Now that the model has been fully defined with loss-function and optimizer, we can train it. This function takes numpy-arrays and performs the given number of training epochs using the given batch-size. An epoch is one full use of the entire training-set. So for 10 epochs we would iterate randomly over the entire training-set 10 times."
      ]
    },
    {
      "metadata": {
        "id": "auCX026c2O1U",
        "colab_type": "code",
        "colab": {
          "base_uri": "https://localhost:8080/",
          "height": 68
        },
        "outputId": "c3e403d0-6399-4393-a4a9-f3a7c3903d7b"
      },
      "cell_type": "code",
      "source": [
        "model.fit(x=data.train.images,\n",
        "          y=data.train.labels,\n",
        "          epochs=1, batch_size=128)"
      ],
      "execution_count": 18,
      "outputs": [
        {
          "output_type": "stream",
          "text": [
            "Epoch 1/1\n",
            "55000/55000 [==============================] - 76s 1ms/step - loss: 0.2154 - acc: 0.9370\n"
          ],
          "name": "stdout"
        },
        {
          "output_type": "execute_result",
          "data": {
            "text/plain": [
              "<tensorflow.python.keras.callbacks.History at 0x7f3fc684ec88>"
            ]
          },
          "metadata": {
            "tags": []
          },
          "execution_count": 18
        }
      ]
    },
    {
      "metadata": {
        "id": "A9oABdxB2O1X",
        "colab_type": "text"
      },
      "cell_type": "markdown",
      "source": [
        "### Evaluation\n",
        "\n",
        "Now that the model has been trained we can test its performance on the test-set. This also uses numpy-arrays as input."
      ]
    },
    {
      "metadata": {
        "id": "Sy3khpgY2O1Y",
        "colab_type": "code",
        "colab": {
          "base_uri": "https://localhost:8080/",
          "height": 34
        },
        "outputId": "009fffc7-d460-418c-e56d-5f950dff5b77"
      },
      "cell_type": "code",
      "source": [
        "result = model.evaluate(x=data.test.images,\n",
        "                        y=data.test.labels)"
      ],
      "execution_count": 19,
      "outputs": [
        {
          "output_type": "stream",
          "text": [
            "10000/10000 [==============================] - 6s 582us/step\n"
          ],
          "name": "stdout"
        }
      ]
    },
    {
      "metadata": {
        "id": "PSwF6YCR2O1c",
        "colab_type": "text"
      },
      "cell_type": "markdown",
      "source": [
        "We can print all the performance metrics for the test-set."
      ]
    },
    {
      "metadata": {
        "id": "UB-ZOa3f2O1e",
        "colab_type": "code",
        "colab": {
          "base_uri": "https://localhost:8080/",
          "height": 51
        },
        "outputId": "02b6c4b5-1d86-470d-d38f-f77a0e374858"
      },
      "cell_type": "code",
      "source": [
        "for name, value in zip(model.metrics_names, result):\n",
        "    print(name, value)"
      ],
      "execution_count": 20,
      "outputs": [
        {
          "output_type": "stream",
          "text": [
            "loss 0.052603856712463315\n",
            "acc 0.9826\n"
          ],
          "name": "stdout"
        }
      ]
    },
    {
      "metadata": {
        "id": "HKWao8n62O1h",
        "colab_type": "text"
      },
      "cell_type": "markdown",
      "source": [
        "Or we can just print the classification accuracy."
      ]
    },
    {
      "metadata": {
        "id": "ywLuI30h2O1h",
        "colab_type": "code",
        "colab": {
          "base_uri": "https://localhost:8080/",
          "height": 34
        },
        "outputId": "3f364c36-eb57-4661-f9d3-195a7eeeda11"
      },
      "cell_type": "code",
      "source": [
        "print(\"{0}: {1:.2%}\".format(model.metrics_names[1], result[1]))"
      ],
      "execution_count": 21,
      "outputs": [
        {
          "output_type": "stream",
          "text": [
            "acc: 98.26%\n"
          ],
          "name": "stdout"
        }
      ]
    },
    {
      "metadata": {
        "id": "2eUwVNOs2O1j",
        "colab_type": "text"
      },
      "cell_type": "markdown",
      "source": [
        "### Prediction\n",
        "\n",
        "We can also predict the classification for new images. We will just use some images from the test-set but you could load your own images into numpy arrays and use those instead."
      ]
    },
    {
      "metadata": {
        "id": "vMxt5o3k2O1l",
        "colab_type": "code",
        "colab": {}
      },
      "cell_type": "code",
      "source": [
        "images = data.test.images[0:9]"
      ],
      "execution_count": 0,
      "outputs": []
    },
    {
      "metadata": {
        "id": "7jgjiq6B2O1n",
        "colab_type": "text"
      },
      "cell_type": "markdown",
      "source": [
        "These are the true class-number for those images. This is only used when plotting the images."
      ]
    },
    {
      "metadata": {
        "id": "q5xamHiQ2O1n",
        "colab_type": "code",
        "colab": {}
      },
      "cell_type": "code",
      "source": [
        "cls_true = data.test.cls[0:9]"
      ],
      "execution_count": 0,
      "outputs": []
    },
    {
      "metadata": {
        "id": "tmD1dl8F2O1q",
        "colab_type": "text"
      },
      "cell_type": "markdown",
      "source": [
        "Get the predicted classes as One-Hot encoded arrays."
      ]
    },
    {
      "metadata": {
        "id": "9HqW-P0E2O1r",
        "colab_type": "code",
        "colab": {}
      },
      "cell_type": "code",
      "source": [
        "y_pred = model.predict(x=images)"
      ],
      "execution_count": 0,
      "outputs": []
    },
    {
      "metadata": {
        "id": "AI5h-3jJ2O1t",
        "colab_type": "text"
      },
      "cell_type": "markdown",
      "source": [
        "Get the predicted classes as integers."
      ]
    },
    {
      "metadata": {
        "id": "fUzSq34s2O1t",
        "colab_type": "code",
        "colab": {}
      },
      "cell_type": "code",
      "source": [
        "cls_pred = np.argmax(y_pred, axis=1)"
      ],
      "execution_count": 0,
      "outputs": []
    },
    {
      "metadata": {
        "id": "uxz-jPlJ2O1w",
        "colab_type": "code",
        "colab": {
          "base_uri": "https://localhost:8080/",
          "height": 262
        },
        "outputId": "e071779c-0937-4035-ab5a-3c6986426dec"
      },
      "cell_type": "code",
      "source": [
        "plot_images(images=images,\n",
        "            cls_true=cls_true,\n",
        "            cls_pred=cls_pred)"
      ],
      "execution_count": 26,
      "outputs": [
        {
          "output_type": "display_data",
          "data": {
            "image/png": "[encoded data removed]",
            "text/plain": [
              "<matplotlib.figure.Figure at 0x7f3fc3929c18>"
            ]
          },
          "metadata": {
            "tags": []
          }
        }
      ]
    },
    {
      "metadata": {
        "id": "E2y3MIQz2O10",
        "colab_type": "text"
      },
      "cell_type": "markdown",
      "source": [
        "### Examples of Mis-Classified Images\n",
        "\n",
        "We can plot some examples of mis-classified images from the test-set.\n",
        "\n",
        "First we get the predicted classes for all the images in the test-set:"
      ]
    },
    {
      "metadata": {
        "id": "F_x3AlK92O11",
        "colab_type": "code",
        "colab": {}
      },
      "cell_type": "code",
      "source": [
        "y_pred = model.predict(x=data.test.images)"
      ],
      "execution_count": 0,
      "outputs": []
    },
    {
      "metadata": {
        "id": "j3nU_H7K2O12",
        "colab_type": "text"
      },
      "cell_type": "markdown",
      "source": [
        "Then we convert the predicted class-numbers from One-Hot encoded arrays to integers."
      ]
    },
    {
      "metadata": {
        "id": "-NKmzOqA2O14",
        "colab_type": "code",
        "colab": {}
      },
      "cell_type": "code",
      "source": [
        "cls_pred = np.argmax(y_pred, axis=1)"
      ],
      "execution_count": 0,
      "outputs": []
    },
    {
      "metadata": {
        "id": "m9E6pL6z2O17",
        "colab_type": "text"
      },
      "cell_type": "markdown",
      "source": [
        "Plot some of the mis-classified images."
      ]
    },
    {
      "metadata": {
        "id": "3BRcbZUc2O18",
        "colab_type": "code",
        "colab": {
          "base_uri": "https://localhost:8080/",
          "height": 262
        },
        "outputId": "97f47392-6400-461e-e6e5-5dbac8764877"
      },
      "cell_type": "code",
      "source": [
        "plot_example_errors(cls_pred)"
      ],
      "execution_count": 29,
      "outputs": [
        {
          "output_type": "display_data",
          "data": {
            "image/png": "[encoded data removed]",
            "text/plain": [
              "<matplotlib.figure.Figure at 0x7f3fc6ad9588>"
            ]
          },
          "metadata": {
            "tags": []
          }
        }
      ]
    },
    {
      "metadata": {
        "id": "9qy948eY2O2A",
        "colab_type": "text"
      },
      "cell_type": "markdown",
      "source": [
        "## Functional Model\n",
        "\n",
        "The Keras API can also be used to construct more complicated networks using the Functional Model. This may look a little confusing at first, because each call to the Keras API will create and return an instance that is itself callable. It is not clear whether it is a function or an object - but we can call it as if it is a function. This allows us to build computational graphs that are more complex than the Sequential Model allows."
      ]
    },
    {
      "metadata": {
        "id": "qNwnoB4p2O2B",
        "colab_type": "code",
        "colab": {}
      },
      "cell_type": "code",
      "source": [
        "# Create an input layer which is similar to a feed_dict in TensorFlow.\n",
        "# Note that the input-shape must be a tuple containing the image-size.\n",
        "inputs = Input(shape=(img_size_flat,))\n",
        "\n",
        "# Variable used for building the Neural Network.\n",
        "net = inputs\n",
        "\n",
        "# The input is an image as a flattened array with 784 elements.\n",
        "# But the convolutional layers expect images with shape (28, 28, 1)\n",
        "net = Reshape(img_shape_full)(net)\n",
        "\n",
        "# First convolutional layer with ReLU-activation and max-pooling.\n",
        "net = Conv2D(kernel_size=5, strides=1, filters=16, padding='same',\n",
        "             activation='relu', name='layer_conv1')(net)\n",
        "net = MaxPooling2D(pool_size=2, strides=2)(net)\n",
        "\n",
        "# Second convolutional layer with ReLU-activation and max-pooling.\n",
        "net = Conv2D(kernel_size=5, strides=1, filters=36, padding='same',\n",
        "             activation='relu', name='layer_conv2')(net)\n",
        "net = MaxPooling2D(pool_size=2, strides=2)(net)\n",
        "\n",
        "# Flatten the output of the conv-layer from 4-dim to 2-dim.\n",
        "net = Flatten()(net)\n",
        "\n",
        "# First fully-connected / dense layer with ReLU-activation.\n",
        "net = Dense(128, activation='relu')(net)\n",
        "\n",
        "# Last fully-connected / dense layer with softmax-activation\n",
        "# so it can be used for classification.\n",
        "net = Dense(num_classes, activation='softmax')(net)\n",
        "\n",
        "# Output of the Neural Network.\n",
        "outputs = net"
      ],
      "execution_count": 0,
      "outputs": []
    },
    {
      "metadata": {
        "id": "7qB0WHbX2O2D",
        "colab_type": "text"
      },
      "cell_type": "markdown",
      "source": [
        "### Model Compilation\n",
        "\n",
        "We have now defined the architecture of the model with its input and output. We now have to create a Keras model and compile it with a loss-function and optimizer, so it is ready for training."
      ]
    },
    {
      "metadata": {
        "id": "1fmQLX6f2O2E",
        "colab_type": "code",
        "colab": {}
      },
      "cell_type": "code",
      "source": [
        "from tensorflow.python.keras.models import Model"
      ],
      "execution_count": 0,
      "outputs": []
    },
    {
      "metadata": {
        "id": "y_Zq4ttW2O2G",
        "colab_type": "text"
      },
      "cell_type": "markdown",
      "source": [
        "Create a new instance of the Keras Functional Model. We give it the inputs and outputs of the Convolutional Neural Network that we constructed above."
      ]
    },
    {
      "metadata": {
        "id": "PxTrRQVN2O2G",
        "colab_type": "code",
        "colab": {}
      },
      "cell_type": "code",
      "source": [
        "model2 = Model(inputs=inputs, outputs=outputs)"
      ],
      "execution_count": 0,
      "outputs": []
    },
    {
      "metadata": {
        "id": "DkcLfYsF2O2J",
        "colab_type": "text"
      },
      "cell_type": "markdown",
      "source": [
        "Compile the Keras model using the RMSprop optimizer and with a loss-function for multiple categories. The only performance metric we are interested in is the classification accuracy, but you could use a list of metrics here."
      ]
    },
    {
      "metadata": {
        "id": "xwdJocXF2O2J",
        "colab_type": "code",
        "colab": {}
      },
      "cell_type": "code",
      "source": [
        "model2.compile(optimizer='rmsprop',\n",
        "               loss='categorical_crossentropy',\n",
        "               metrics=['accuracy'])"
      ],
      "execution_count": 0,
      "outputs": []
    },
    {
      "metadata": {
        "id": "yfX7oGRR2O2L",
        "colab_type": "text"
      },
      "cell_type": "markdown",
      "source": [
        "### Training\n",
        "\n",
        "The model has now been defined and compiled so it can be trained using the same `fit()` function as used in the Sequential Model above. This also takes numpy-arrays as input."
      ]
    },
    {
      "metadata": {
        "id": "SUqDpXVU2O2L",
        "colab_type": "code",
        "colab": {}
      },
      "cell_type": "code",
      "source": [
        "model2.fit(x=data.x_train,\n",
        "           y=data.y_train,\n",
        "           epochs=1, batch_size=128)"
      ],
      "execution_count": 0,
      "outputs": []
    },
    {
      "metadata": {
        "id": "IcQnevZf2O2S",
        "colab_type": "text"
      },
      "cell_type": "markdown",
      "source": [
        "### Evaluation\n",
        "\n",
        "Once the model has been trained we can evaluate its performance on the test-set. This is the same syntax as for the Sequential Model."
      ]
    },
    {
      "metadata": {
        "id": "w1S2OfeE2O2T",
        "colab_type": "code",
        "colab": {}
      },
      "cell_type": "code",
      "source": [
        "result = model2.evaluate(x=data.x_test,\n",
        "                         y=data.y_test)"
      ],
      "execution_count": 0,
      "outputs": []
    },
    {
      "metadata": {
        "id": "A5OBc4gn2O2X",
        "colab_type": "text"
      },
      "cell_type": "markdown",
      "source": [
        "The result is a list of values, containing the loss-value and all the metrics we defined when we compiled the model. Note that 'accuracy' is now called 'acc' which is a small inconsistency."
      ]
    },
    {
      "metadata": {
        "id": "om1svbRL2O2Z",
        "colab_type": "code",
        "colab": {}
      },
      "cell_type": "code",
      "source": [
        "for name, value in zip(model2.metrics_names, result):\n",
        "    print(name, value)"
      ],
      "execution_count": 0,
      "outputs": []
    },
    {
      "metadata": {
        "id": "OxFmYOGT2O2g",
        "colab_type": "text"
      },
      "cell_type": "markdown",
      "source": [
        "We can also print the classification accuracy as a percentage:"
      ]
    },
    {
      "metadata": {
        "id": "frNygsYQ2O2i",
        "colab_type": "code",
        "colab": {}
      },
      "cell_type": "code",
      "source": [
        "print(\"{0}: {1:.2%}\".format(model2.metrics_names[1], result[1]))"
      ],
      "execution_count": 0,
      "outputs": []
    },
    {
      "metadata": {
        "id": "ZfHKReUs2O2o",
        "colab_type": "text"
      },
      "cell_type": "markdown",
      "source": [
        "### Examples of Mis-Classified Images\n",
        "\n",
        "We can plot some examples of mis-classified images from the test-set.\n",
        "\n",
        "First we get the predicted classes for all the images in the test-set:"
      ]
    },
    {
      "metadata": {
        "id": "1Mx-cqJI2O2q",
        "colab_type": "code",
        "colab": {}
      },
      "cell_type": "code",
      "source": [
        "y_pred = model2.predict(x=data.x_test)"
      ],
      "execution_count": 0,
      "outputs": []
    },
    {
      "metadata": {
        "id": "tD7Vln-T2O2u",
        "colab_type": "text"
      },
      "cell_type": "markdown",
      "source": [
        "Then we convert the predicted class-numbers from One-Hot encoded arrays to integers."
      ]
    },
    {
      "metadata": {
        "id": "BL-I_sg62O2v",
        "colab_type": "code",
        "colab": {}
      },
      "cell_type": "code",
      "source": [
        "cls_pred = np.argmax(y_pred, axis=1)"
      ],
      "execution_count": 0,
      "outputs": []
    },
    {
      "metadata": {
        "id": "bwRwCXyx2O2x",
        "colab_type": "text"
      },
      "cell_type": "markdown",
      "source": [
        "Plot some of the mis-classified images."
      ]
    },
    {
      "metadata": {
        "id": "0t0MBJm62O2y",
        "colab_type": "code",
        "colab": {}
      },
      "cell_type": "code",
      "source": [
        "plot_example_errors(cls_pred)"
      ],
      "execution_count": 0,
      "outputs": []
    },
    {
      "metadata": {
        "id": "s0nYc_kt2O22",
        "colab_type": "text"
      },
      "cell_type": "markdown",
      "source": [
        "## Save & Load Model\n",
        "\n",
        "NOTE: You need to install `h5py` for this to work!\n",
        "\n",
        "Tutorial #04 was about saving and restoring the weights of a model using native TensorFlow code. It was an absolutely horrible API! Fortunately, Keras makes this very easy.\n",
        "\n",
        "This is the file-path where we want to save the Keras model."
      ]
    },
    {
      "metadata": {
        "id": "PtZfchNg2O22",
        "colab_type": "code",
        "colab": {}
      },
      "cell_type": "code",
      "source": [
        "path_model = 'model.keras'"
      ],
      "execution_count": 0,
      "outputs": []
    },
    {
      "metadata": {
        "id": "4Ego7kq12O27",
        "colab_type": "text"
      },
      "cell_type": "markdown",
      "source": [
        "Saving a Keras model with the trained weights is then just a single function call, as it should be."
      ]
    },
    {
      "metadata": {
        "id": "P7vMJ-st2O28",
        "colab_type": "code",
        "colab": {}
      },
      "cell_type": "code",
      "source": [
        "model2.save(path_model)"
      ],
      "execution_count": 0,
      "outputs": []
    },
    {
      "metadata": {
        "id": "Qlkwuxmn2O3A",
        "colab_type": "text"
      },
      "cell_type": "markdown",
      "source": [
        "Delete the model from memory so we are sure it is no longer used."
      ]
    },
    {
      "metadata": {
        "id": "FOjRkmOS2O3B",
        "colab_type": "code",
        "colab": {}
      },
      "cell_type": "code",
      "source": [
        "del model2"
      ],
      "execution_count": 0,
      "outputs": []
    },
    {
      "metadata": {
        "id": "kZ-VjIeZ2O3D",
        "colab_type": "text"
      },
      "cell_type": "markdown",
      "source": [
        "We need to import this Keras function for loading the model."
      ]
    },
    {
      "metadata": {
        "id": "MndeP-2G2O3E",
        "colab_type": "code",
        "colab": {}
      },
      "cell_type": "code",
      "source": [
        "from tensorflow.python.keras.models import load_model"
      ],
      "execution_count": 0,
      "outputs": []
    },
    {
      "metadata": {
        "id": "yTgTKB9p2O3I",
        "colab_type": "text"
      },
      "cell_type": "markdown",
      "source": [
        "Loading the model is then just a single function-call, as it should be."
      ]
    },
    {
      "metadata": {
        "id": "a_GSaLxw2O3L",
        "colab_type": "code",
        "colab": {}
      },
      "cell_type": "code",
      "source": [
        "model3 = load_model(path_model)"
      ],
      "execution_count": 0,
      "outputs": []
    },
    {
      "metadata": {
        "id": "6Md1X2zM2O3O",
        "colab_type": "text"
      },
      "cell_type": "markdown",
      "source": [
        "We can then use the model again e.g. to make predictions. We get the first 9 images from the test-set and their true class-numbers."
      ]
    },
    {
      "metadata": {
        "id": "0YYRySSC2O3O",
        "colab_type": "code",
        "colab": {}
      },
      "cell_type": "code",
      "source": [
        "images = data.x_test[0:9]"
      ],
      "execution_count": 0,
      "outputs": []
    },
    {
      "metadata": {
        "id": "0Zprpgkr2O3T",
        "colab_type": "code",
        "colab": {}
      },
      "cell_type": "code",
      "source": [
        "cls_true = data.y_test_cls[0:9]"
      ],
      "execution_count": 0,
      "outputs": []
    },
    {
      "metadata": {
        "id": "7RDjI1NC2O3V",
        "colab_type": "text"
      },
      "cell_type": "markdown",
      "source": [
        "We then use the restored model to predict the class-numbers for those images."
      ]
    },
    {
      "metadata": {
        "id": "OGP6pXHB2O3V",
        "colab_type": "code",
        "colab": {}
      },
      "cell_type": "code",
      "source": [
        "y_pred = model3.predict(x=images)"
      ],
      "execution_count": 0,
      "outputs": []
    },
    {
      "metadata": {
        "id": "cwsCsguj2O3X",
        "colab_type": "text"
      },
      "cell_type": "markdown",
      "source": [
        "Get the class-numbers as integers."
      ]
    },
    {
      "metadata": {
        "id": "IrUHqXns2O3Y",
        "colab_type": "code",
        "colab": {}
      },
      "cell_type": "code",
      "source": [
        "cls_pred = np.argmax(y_pred, axis=1)"
      ],
      "execution_count": 0,
      "outputs": []
    },
    {
      "metadata": {
        "id": "kbXD_f902O3a",
        "colab_type": "text"
      },
      "cell_type": "markdown",
      "source": [
        "Plot the images with their true and predicted class-numbers."
      ]
    },
    {
      "metadata": {
        "id": "LVTj90IB2O3a",
        "colab_type": "code",
        "colab": {}
      },
      "cell_type": "code",
      "source": [
        "plot_images(images=images,\n",
        "            cls_pred=cls_pred,\n",
        "            cls_true=cls_true)"
      ],
      "execution_count": 0,
      "outputs": []
    },
    {
      "metadata": {
        "id": "dKz0-hRb2O3c",
        "colab_type": "text"
      },
      "cell_type": "markdown",
      "source": [
        "## Visualization of Layer Weights and Outputs"
      ]
    },
    {
      "metadata": {
        "id": "mB_Jj9sF2O3d",
        "colab_type": "text"
      },
      "cell_type": "markdown",
      "source": [
        "### Helper-function for plotting convolutional weights"
      ]
    },
    {
      "metadata": {
        "id": "Ns2IVIb92O3e",
        "colab_type": "code",
        "colab": {}
      },
      "cell_type": "code",
      "source": [
        "def plot_conv_weights(weights, input_channel=0):\n",
        "    # Get the lowest and highest values for the weights.\n",
        "    # This is used to correct the colour intensity across\n",
        "    # the images so they can be compared with each other.\n",
        "    w_min = np.min(weights)\n",
        "    w_max = np.max(weights)\n",
        "\n",
        "    # Number of filters used in the conv. layer.\n",
        "    num_filters = weights.shape[3]\n",
        "\n",
        "    # Number of grids to plot.\n",
        "    # Rounded-up, square-root of the number of filters.\n",
        "    num_grids = math.ceil(math.sqrt(num_filters))\n",
        "    \n",
        "    # Create figure with a grid of sub-plots.\n",
        "    fig, axes = plt.subplots(num_grids, num_grids)\n",
        "\n",
        "    # Plot all the filter-weights.\n",
        "    for i, ax in enumerate(axes.flat):\n",
        "        # Only plot the valid filter-weights.\n",
        "        if i<num_filters:\n",
        "            # Get the weights for the i'th filter of the input channel.\n",
        "            # See new_conv_layer() for details on the format\n",
        "            # of this 4-dim tensor.\n",
        "            img = weights[:, :, input_channel, i]\n",
        "\n",
        "            # Plot image.\n",
        "            ax.imshow(img, vmin=w_min, vmax=w_max,\n",
        "                      interpolation='nearest', cmap='seismic')\n",
        "        \n",
        "        # Remove ticks from the plot.\n",
        "        ax.set_xticks([])\n",
        "        ax.set_yticks([])\n",
        "    \n",
        "    # Ensure the plot is shown correctly with multiple plots\n",
        "    # in a single Notebook cell.\n",
        "    plt.show()"
      ],
      "execution_count": 0,
      "outputs": []
    },
    {
      "metadata": {
        "id": "jwv-QZOH2O3g",
        "colab_type": "text"
      },
      "cell_type": "markdown",
      "source": [
        "### Get Layers\n",
        "\n",
        "Keras has a simple way of listing the layers in the model."
      ]
    },
    {
      "metadata": {
        "id": "NjeYr5VO2O3g",
        "colab_type": "code",
        "colab": {}
      },
      "cell_type": "code",
      "source": [
        "model3.summary()"
      ],
      "execution_count": 0,
      "outputs": []
    },
    {
      "metadata": {
        "id": "hipdXZ4h2O3i",
        "colab_type": "text"
      },
      "cell_type": "markdown",
      "source": [
        "We count the indices to get the layers we want.\n",
        "\n",
        "The input-layer has index 0."
      ]
    },
    {
      "metadata": {
        "id": "jW73DNaE2O3j",
        "colab_type": "code",
        "colab": {}
      },
      "cell_type": "code",
      "source": [
        "layer_input = model3.layers[0]"
      ],
      "execution_count": 0,
      "outputs": []
    },
    {
      "metadata": {
        "id": "XdGuoKns2O3k",
        "colab_type": "text"
      },
      "cell_type": "markdown",
      "source": [
        "The first convolutional layer has index 2."
      ]
    },
    {
      "metadata": {
        "id": "8JaahCgM2O3l",
        "colab_type": "code",
        "colab": {}
      },
      "cell_type": "code",
      "source": [
        "layer_conv1 = model3.layers[2]\n",
        "layer_conv1"
      ],
      "execution_count": 0,
      "outputs": []
    },
    {
      "metadata": {
        "id": "0379Bsw72O3n",
        "colab_type": "text"
      },
      "cell_type": "markdown",
      "source": [
        "The second convolutional layer has index 4."
      ]
    },
    {
      "metadata": {
        "id": "kEbOslOz2O3o",
        "colab_type": "code",
        "colab": {}
      },
      "cell_type": "code",
      "source": [
        "layer_conv2 = model3.layers[4]"
      ],
      "execution_count": 0,
      "outputs": []
    },
    {
      "metadata": {
        "id": "QYGTvWzt2O3q",
        "colab_type": "text"
      },
      "cell_type": "markdown",
      "source": [
        "### Convolutional Weights\n",
        "\n",
        "Now that we have the layers we can easily get their weights."
      ]
    },
    {
      "metadata": {
        "id": "S7gqVLi32O3r",
        "colab_type": "code",
        "colab": {}
      },
      "cell_type": "code",
      "source": [
        "weights_conv1 = layer_conv1.get_weights()[0]"
      ],
      "execution_count": 0,
      "outputs": []
    },
    {
      "metadata": {
        "id": "17__eWt32O3u",
        "colab_type": "text"
      },
      "cell_type": "markdown",
      "source": [
        "This gives us a 4-rank tensor."
      ]
    },
    {
      "metadata": {
        "id": "IftbY83T2O3u",
        "colab_type": "code",
        "colab": {}
      },
      "cell_type": "code",
      "source": [
        "weights_conv1.shape"
      ],
      "execution_count": 0,
      "outputs": []
    },
    {
      "metadata": {
        "id": "MiQe1-2E2O3y",
        "colab_type": "text"
      },
      "cell_type": "markdown",
      "source": [
        "Plot the weights using the helper-function from above."
      ]
    },
    {
      "metadata": {
        "id": "Wv35qE-12O3z",
        "colab_type": "code",
        "colab": {}
      },
      "cell_type": "code",
      "source": [
        "plot_conv_weights(weights=weights_conv1, input_channel=0)"
      ],
      "execution_count": 0,
      "outputs": []
    },
    {
      "metadata": {
        "id": "t_da7rBe2O32",
        "colab_type": "text"
      },
      "cell_type": "markdown",
      "source": [
        "We can also get the weights for the second convolutional layer and plot them."
      ]
    },
    {
      "metadata": {
        "id": "G6225Etw2O33",
        "colab_type": "code",
        "colab": {}
      },
      "cell_type": "code",
      "source": [
        "weights_conv2 = layer_conv2.get_weights()[0]"
      ],
      "execution_count": 0,
      "outputs": []
    },
    {
      "metadata": {
        "id": "mH5JBP2l2O38",
        "colab_type": "code",
        "colab": {}
      },
      "cell_type": "code",
      "source": [
        "plot_conv_weights(weights=weights_conv2, input_channel=0)"
      ],
      "execution_count": 0,
      "outputs": []
    },
    {
      "metadata": {
        "id": "xr8KD0fV2O4E",
        "colab_type": "text"
      },
      "cell_type": "markdown",
      "source": [
        "### Helper-function for plotting the output of a convolutional layer"
      ]
    },
    {
      "metadata": {
        "id": "4nQcAwp_2O4F",
        "colab_type": "code",
        "colab": {}
      },
      "cell_type": "code",
      "source": [
        "def plot_conv_output(values):\n",
        "    # Number of filters used in the conv. layer.\n",
        "    num_filters = values.shape[3]\n",
        "\n",
        "    # Number of grids to plot.\n",
        "    # Rounded-up, square-root of the number of filters.\n",
        "    num_grids = math.ceil(math.sqrt(num_filters))\n",
        "    \n",
        "    # Create figure with a grid of sub-plots.\n",
        "    fig, axes = plt.subplots(num_grids, num_grids)\n",
        "\n",
        "    # Plot the output images of all the filters.\n",
        "    for i, ax in enumerate(axes.flat):\n",
        "        # Only plot the images for valid filters.\n",
        "        if i<num_filters:\n",
        "            # Get the output image of using the i'th filter.\n",
        "            img = values[0, :, :, i]\n",
        "\n",
        "            # Plot image.\n",
        "            ax.imshow(img, interpolation='nearest', cmap='binary')\n",
        "        \n",
        "        # Remove ticks from the plot.\n",
        "        ax.set_xticks([])\n",
        "        ax.set_yticks([])\n",
        "    \n",
        "    # Ensure the plot is shown correctly with multiple plots\n",
        "    # in a single Notebook cell.\n",
        "    plt.show()"
      ],
      "execution_count": 0,
      "outputs": []
    },
    {
      "metadata": {
        "id": "S_kq6Nnk2O4L",
        "colab_type": "text"
      },
      "cell_type": "markdown",
      "source": [
        "### Input Image\n",
        "\n",
        "Helper-function for plotting a single image."
      ]
    },
    {
      "metadata": {
        "id": "0j9dkR4x2O4O",
        "colab_type": "code",
        "colab": {}
      },
      "cell_type": "code",
      "source": [
        "def plot_image(image):\n",
        "    plt.imshow(image.reshape(img_shape),\n",
        "               interpolation='nearest',\n",
        "               cmap='binary')\n",
        "\n",
        "    plt.show()"
      ],
      "execution_count": 0,
      "outputs": []
    },
    {
      "metadata": {
        "id": "UrViXd7Z2O4S",
        "colab_type": "text"
      },
      "cell_type": "markdown",
      "source": [
        "Plot an image from the test-set which will be used as an example below."
      ]
    },
    {
      "metadata": {
        "id": "sYXmdmZ92O4S",
        "colab_type": "code",
        "colab": {}
      },
      "cell_type": "code",
      "source": [
        "image1 = data.x_test[0]\n",
        "plot_image(image1)"
      ],
      "execution_count": 0,
      "outputs": []
    },
    {
      "metadata": {
        "id": "9F1zNLKA2O4Z",
        "colab_type": "text"
      },
      "cell_type": "markdown",
      "source": [
        "### Output of Convolutional Layer - Method 1\n",
        "\n",
        "There are different ways of getting the output of a layer in a Keras model. This method uses a so-called K-function which turns a part of the Keras model into a function."
      ]
    },
    {
      "metadata": {
        "id": "unoW_cTB2O4a",
        "colab_type": "code",
        "colab": {}
      },
      "cell_type": "code",
      "source": [
        "from tensorflow.python.keras import backend as K"
      ],
      "execution_count": 0,
      "outputs": []
    },
    {
      "metadata": {
        "id": "UOv5PO2j2O4c",
        "colab_type": "code",
        "colab": {}
      },
      "cell_type": "code",
      "source": [
        "output_conv1 = K.function(inputs=[layer_input.input],\n",
        "                          outputs=[layer_conv1.output])"
      ],
      "execution_count": 0,
      "outputs": []
    },
    {
      "metadata": {
        "id": "ZBHIRgvq2O4e",
        "colab_type": "text"
      },
      "cell_type": "markdown",
      "source": [
        "We can then call this function with the input image. Note that the image is wrapped in two lists because the function expects an array of that dimensionality. Likewise, the function returns an array with one more dimensionality than we want so we just take the first element."
      ]
    },
    {
      "metadata": {
        "id": "bw8k6Xqt2O4f",
        "colab_type": "code",
        "colab": {}
      },
      "cell_type": "code",
      "source": [
        "layer_output1 = output_conv1([[image1]])[0]\n",
        "layer_output1.shape"
      ],
      "execution_count": 0,
      "outputs": []
    },
    {
      "metadata": {
        "id": "em4n41Ps2O4m",
        "colab_type": "text"
      },
      "cell_type": "markdown",
      "source": [
        "We can then plot the output of all 16 channels of the convolutional layer."
      ]
    },
    {
      "metadata": {
        "id": "2XQ63iR92O4n",
        "colab_type": "code",
        "colab": {}
      },
      "cell_type": "code",
      "source": [
        "plot_conv_output(values=layer_output1)"
      ],
      "execution_count": 0,
      "outputs": []
    },
    {
      "metadata": {
        "id": "HTcnRsFz2O4r",
        "colab_type": "text"
      },
      "cell_type": "markdown",
      "source": [
        "### Output of Convolutional Layer - Method 2\n",
        "\n",
        "Keras also has another method for getting the output of a layer inside the model. This creates another Functional Model using the same input as the original model, but the output is now taken from the convolutional layer that we are interested in."
      ]
    },
    {
      "metadata": {
        "id": "K_ip0-O62O4r",
        "colab_type": "code",
        "colab": {}
      },
      "cell_type": "code",
      "source": [
        "output_conv2 = Model(inputs=layer_input.input,\n",
        "                     outputs=layer_conv2.output)"
      ],
      "execution_count": 0,
      "outputs": []
    },
    {
      "metadata": {
        "id": "9Lt4CWSU2O4u",
        "colab_type": "text"
      },
      "cell_type": "markdown",
      "source": [
        "This creates a new model-object where we can call the typical Keras functions. To get the output of the convoloutional layer we call the `predict()` function with the input image."
      ]
    },
    {
      "metadata": {
        "id": "vJYSLlhB2O4u",
        "colab_type": "code",
        "colab": {}
      },
      "cell_type": "code",
      "source": [
        "layer_output2 = output_conv2.predict(np.array([image1]))\n",
        "layer_output2.shape"
      ],
      "execution_count": 0,
      "outputs": []
    },
    {
      "metadata": {
        "id": "50FZ3xZ02O40",
        "colab_type": "text"
      },
      "cell_type": "markdown",
      "source": [
        "We can then plot the images for all 36 channels."
      ]
    },
    {
      "metadata": {
        "id": "Y3u6CbD72O41",
        "colab_type": "code",
        "colab": {}
      },
      "cell_type": "code",
      "source": [
        "plot_conv_output(values=layer_output2)"
      ],
      "execution_count": 0,
      "outputs": []
    },
    {
      "metadata": {
        "id": "iDB7IWXQ2O45",
        "colab_type": "text"
      },
      "cell_type": "markdown",
      "source": [
        "## Conclusion\n",
        "\n",
        "This tutorial showed how to use the so-called *Keras API* for easily building Convolutional Neural Networks in TensorFlow. Keras is by far the most complete and best designed API for TensorFlow.\n",
        "\n",
        "This tutorial also showed how to use Keras to save and load a model, as well as getting the weights and outputs of convolutional layers.\n",
        "\n",
        "It seems likely that Keras will be the standard API for TensorFlow in the future, for the simple reason that is already very good and it is constantly being improved. So it is recommended that you use Keras."
      ]
    },
    {
      "metadata": {
        "id": "eCAPAkgw2O45",
        "colab_type": "text"
      },
      "cell_type": "markdown",
      "source": [
        "## Exercises\n",
        "\n",
        "These are a few suggestions for exercises that may help improve your skills with TensorFlow. It is important to get hands-on experience with TensorFlow in order to learn how to use it properly.\n",
        "\n",
        "You may want to backup this Notebook before making any changes.\n",
        "\n",
        "* Train for more epochs. Does it improve the classification accuracy?\n",
        "* Change the activation function to sigmoid for some of the layers.\n",
        "* Can you find a simple way of changing the activation function for all the layers?\n",
        "* Plot the output of the max-pooling layers instead of the conv-layers.\n",
        "* Replace the 2x2 max-pooling layers with stride=2 in the convolutional layers. Is there a difference in classification accuracy? What if you optimize it again and again? The difference is random, so how would you measure if there really is a difference? What are the pros and cons of using max-pooling vs. stride in the conv-layer?\n",
        "* Change the parameters for the layers, e.g. the kernel, depth, size, etc. What is the difference in time usage and classification accuracy?\n",
        "* Add and remove some convolutional and fully-connected layers.\n",
        "* What is the simplest network you can design that still performs well?\n",
        "* Change the Functional Model so it has another convolutional layer that connects in parallel to the existing conv-layers before going into the dense layers.\n",
        "* Change the Functional Model so it outputs the predicted class both as a One-Hot encoded array and as an integer, so we don't have to use `numpy.argmax()` afterwards.\n",
        "* Remake the program yourself without looking too much at this source-code.\n",
        "* Explain to a friend how the program works."
      ]
    },
    {
      "metadata": {
        "id": "1vNACIT02O46",
        "colab_type": "text"
      },
      "cell_type": "markdown",
      "source": [
        "## License (MIT)\n",
        "\n",
        "Copyright (c) 2016-2017 by [Magnus Erik Hvass Pedersen](http://www.hvass-labs.org/)\n",
        "\n",
        "Permission is hereby granted, free of charge, to any person obtaining a copy of this software and associated documentation files (the \"Software\"), to deal in the Software without restriction, including without limitation the rights to use, copy, modify, merge, publish, distribute, sublicense, and/or sell copies of the Software, and to permit persons to whom the Software is furnished to do so, subject to the following conditions:\n",
        "\n",
        "The above copyright notice and this permission notice shall be included in all copies or substantial portions of the Software.\n",
        "\n",
        "THE SOFTWARE IS PROVIDED \"AS IS\", WITHOUT WARRANTY OF ANY KIND, EXPRESS OR IMPLIED, INCLUDING BUT NOT LIMITED TO THE WARRANTIES OF MERCHANTABILITY, FITNESS FOR A PARTICULAR PURPOSE AND NONINFRINGEMENT. IN NO EVENT SHALL THE AUTHORS OR COPYRIGHT HOLDERS BE LIABLE FOR ANY CLAIM, DAMAGES OR OTHER LIABILITY, WHETHER IN AN ACTION OF CONTRACT, TORT OR OTHERWISE, ARISING FROM, OUT OF OR IN CONNECTION WITH THE SOFTWARE OR THE USE OR OTHER DEALINGS IN THE SOFTWARE."
      ]
    }
  ]
}