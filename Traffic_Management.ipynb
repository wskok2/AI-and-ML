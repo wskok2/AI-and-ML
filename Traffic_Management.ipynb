{
  "nbformat": 4,
  "nbformat_minor": 0,
  "metadata": {
    "colab": {
      "name": "Traffic_Management.ipynb",
      "version": "0.3.2",
      "provenance": [],
      "collapsed_sections": [],
      "toc_visible": true,
      "include_colab_link": true
    },
    "kernelspec": {
      "name": "python3",
      "display_name": "Python 3"
    },
    "accelerator": "GPU"
  },
  "cells": [
    {
      "cell_type": "markdown",
      "metadata": {
        "id": "view-in-github",
        "colab_type": "text"
      },
      "source": [
        "<a href=\"https://colab.research.google.com/github/wskok2/AI-and-ML/blob/master/Traffic_Management.ipynb\" target=\"_parent\"><img src=\"https://colab.research.google.com/assets/colab-badge.svg\" alt=\"Open In Colab\"/></a>"
      ]
    },
    {
      "cell_type": "code",
      "metadata": {
        "id": "3f9YbkBPJWRi",
        "colab_type": "code",
        "outputId": "91e39582-e9bd-4ec5-8206-db773d01850f",
        "colab": {
          "base_uri": "https://localhost:8080/",
          "height": 34
        }
      },
      "source": [
        "!pip install python-geohash"
      ],
      "execution_count": 0,
      "outputs": [
        {
          "output_type": "stream",
          "text": [
            "Requirement already satisfied: python-geohash in /usr/local/lib/python3.6/dist-packages (0.8.5)\n"
          ],
          "name": "stdout"
        }
      ]
    },
    {
      "cell_type": "code",
      "metadata": {
        "id": "XOatJ2qqYW8y",
        "colab_type": "code",
        "outputId": "963b4242-ab10-4c9a-cdf3-3450aded300f",
        "colab": {
          "base_uri": "https://localhost:8080/",
          "height": 34
        }
      },
      "source": [
        "import tensorflow as tf\n",
        "device_name = tf.test.gpu_device_name()\n",
        "if device_name != '/device:GPU:0':\n",
        "  raise SystemError('GPU device not found')\n",
        "print('Found GPU at: {}'.format(device_name))"
      ],
      "execution_count": 0,
      "outputs": [
        {
          "output_type": "stream",
          "text": [
            "Found GPU at: /device:GPU:0\n"
          ],
          "name": "stdout"
        }
      ]
    },
    {
      "cell_type": "code",
      "metadata": {
        "id": "RmohRuQKmsIY",
        "colab_type": "code",
        "colab": {}
      },
      "source": [
        "%matplotlib inline\n",
        "import pandas as pd\n",
        "from sklearn.preprocessing import MinMaxScaler\n",
        "import numpy as np\n",
        "import datetime as dt\n",
        "import time\n",
        "import geohash as gh\n",
        "import matplotlib.pyplot as plt\n",
        "import tensorflow as tf\n",
        "from sklearn.cluster import OPTICS"
      ],
      "execution_count": 0,
      "outputs": []
    },
    {
      "cell_type": "markdown",
      "metadata": {
        "id": "1MJpPQzvm20S",
        "colab_type": "text"
      },
      "source": [
        "###Keras declaration"
      ]
    },
    {
      "cell_type": "code",
      "metadata": {
        "id": "HUmqTdMEmz34",
        "colab_type": "code",
        "colab": {}
      },
      "source": [
        "#Keras tensorflow declare\n",
        "from tensorflow.python.keras.models import Sequential\n",
        "from tensorflow.python.keras.layers import Input, Dense, GRU, Embedding\n",
        "from tensorflow.python.keras.optimizers import RMSprop\n",
        "from tensorflow.python.keras.callbacks import EarlyStopping, ModelCheckpoint, TensorBoard, ReduceLROnPlateau"
      ],
      "execution_count": 0,
      "outputs": []
    },
    {
      "cell_type": "markdown",
      "metadata": {
        "id": "wcVf54-VnDG3",
        "colab_type": "text"
      },
      "source": [
        "###Hyper Parameter"
      ]
    },
    {
      "cell_type": "code",
      "metadata": {
        "id": "onBzXE0JnGBP",
        "colab_type": "code",
        "colab": {}
      },
      "source": [
        "shift_days = 2\n",
        "shift_steps = shift_days * 24 * 4\n",
        "train_split = 0.9\n",
        "batch_size = 32\n",
        "sequence_length = 4 * 24 * 14\n",
        "warmup_steps = 50"
      ],
      "execution_count": 0,
      "outputs": []
    },
    {
      "cell_type": "markdown",
      "metadata": {
        "id": "KlJtC4ZrnKZb",
        "colab_type": "text"
      },
      "source": [
        "###Shape input function\n"
      ]
    },
    {
      "cell_type": "code",
      "metadata": {
        "id": "Ry6POJNpnN0Q",
        "colab_type": "code",
        "colab": {}
      },
      "source": [
        "def shape_input(df):\n",
        "    \n",
        "    \n",
        "    #insert index\n",
        "    df['inx'] = df['day'] +' ' +df['timestamp']\n",
        "    df['inx']=pd.to_datetime(df['inx'], format='%j %H:%M', errors='coerce')\n",
        "    \n",
        "    \n",
        "    df.drop(['day','timestamp'], axis=1)\n",
        "    \n",
        "    geoloc = df['geohash6'].unique().tolist()\n",
        "    \n",
        "    #decode lat long\n",
        "    dgeo=pd.DataFrame(df['geohash6'].apply(lambda x: gh.decode(x)).tolist(), index=df.index,columns={'lat','long'})\n",
        "    \n",
        "    #sort before insert to main dataframe\n",
        "    df.sort_index(inplace=True)\n",
        "    dgeo.sort_index(inplace=True)\n",
        "    \n",
        "    #insert the lat long to main pd frame\n",
        "    df.insert(1,'lat',dgeo['lat'])\n",
        "    df.insert(2,'long',dgeo['long'])\n",
        "    \n",
        "    #drop string column day and timestamp\n",
        "    df=df.drop(columns=['day','timestamp'])\n",
        "    \n",
        "    #set date as index \n",
        "    df.set_index(['geohash6','inx'], inplace=True)\n",
        "    \n",
        "    #transform into pivot like table\n",
        "    dfgeoloc = [ df.xs(loc) for loc in geoloc ]     \n",
        "    df = pd.concat(dfgeoloc, keys=geoloc,axis=1)\n",
        "    \n",
        "    #put back the day and timestamps\n",
        "    df['extra','day'] = df.index.dayofyear\n",
        "    df['extra','hour'] = df.index.hour\n",
        "    df['extra','minute'] = df.index.minute\n",
        "    \n",
        "    #fill in blank\n",
        "    for loc in geoloc:\n",
        "        print(loc)\n",
        "        df[loc]=df[loc].fillna(0)\n",
        "\n",
        "        \n",
        "    return dgeo, df  "
      ],
      "execution_count": 0,
      "outputs": []
    },
    {
      "cell_type": "markdown",
      "metadata": {
        "id": "jgwfvy0_nZt5",
        "colab_type": "text"
      },
      "source": [
        "###Lost Function"
      ]
    },
    {
      "cell_type": "code",
      "metadata": {
        "id": "Q_OxSSL9nZND",
        "colab_type": "code",
        "colab": {}
      },
      "source": [
        "def loss_mse_warmup(y_true, y_pred):\n",
        "\n",
        "\n",
        "    # The shape of both input tensors are:\n",
        "    # [batch_size, sequence_length, num_y_signals].\n",
        "\n",
        "    y_true_slice = y_true[:, warmup_steps:, :]\n",
        "    y_pred_slice = y_pred[:, warmup_steps:, :]\n",
        "\n",
        "\n",
        "    # [batch_size, sequence_length - warmup_steps, num_y_signals]\n",
        "\n",
        "    # Calculate the MSE loss for each value in these tensors.\n",
        "    # This outputs a 3-rank tensor of the same shape.\n",
        "    loss = tf.losses.mean_squared_error(labels=y_true_slice,\n",
        "                                        predictions=y_pred_slice)\n",
        "\n",
        "    loss_mean = tf.reduce_mean(loss)\n",
        "\n",
        "    return loss_mean"
      ],
      "execution_count": 0,
      "outputs": []
    },
    {
      "cell_type": "markdown",
      "metadata": {
        "id": "GAP7NKclnlKf",
        "colab_type": "text"
      },
      "source": [
        "###Plotting Function"
      ]
    },
    {
      "cell_type": "code",
      "metadata": {
        "id": "GQLJ9JH9npQi",
        "colab_type": "code",
        "colab": {}
      },
      "source": [
        "def plot_comparison(start_idx, length=100, train=True):\n",
        "\n",
        "    if train:\n",
        "        # Use training-data.\n",
        "        x = x_train_scaled\n",
        "        y_true = y_train\n",
        "    else:\n",
        "        # Use test-data.\n",
        "        x = x_test_scaled\n",
        "        y_true = y_test\n",
        "    \n",
        "    # End-index for the sequences.\n",
        "    end_idx = start_idx + length\n",
        "    \n",
        "    # Select the sequences from the given start-index and\n",
        "    # of the given length.\n",
        "    x = x[start_idx:end_idx]\n",
        "    y_true = y_true[start_idx:end_idx]\n",
        "    \n",
        "    # Input-signals for the model.\n",
        "    x = np.expand_dims(x, axis=0)\n",
        "\n",
        "    # Use the model to predict the output-signals.\n",
        "    y_pred = model.predict(x)\n",
        "    \n",
        "    # The output of the model is between 0 and 1.\n",
        "    # Do an inverse map to get it back to the scale\n",
        "    # of the original data-set.\n",
        "    y_pred_rescaled = y_scaler.inverse_transform(y_pred[0])\n",
        "    \n",
        "    # For each output-signal.\n",
        "    for signal in range(len(target_names)):\n",
        "        # Get the output-signal predicted by the model.\n",
        "        signal_pred = y_pred_rescaled[:, signal]\n",
        "        \n",
        "        # Get the true output-signal from the data-set.\n",
        "        signal_true = y_true[:, signal]\n",
        "\n",
        "        # Make the plotting-canvas bigger.\n",
        "        plt.figure(figsize=(15,5))\n",
        "        \n",
        "        # Plot and compare the two signals.\n",
        "        plt.plot(signal_true, label='true')\n",
        "        plt.plot(signal_pred, label='pred')\n",
        "        \n",
        "        # Plot grey box for warmup-period.\n",
        "        p = plt.axvspan(0, warmup_steps, facecolor='black', alpha=0.15)\n",
        "        \n",
        "        # Plot labels etc.\n",
        "        plt.ylabel(target_names[signal])\n",
        "        plt.legend()\n",
        "        plt.show()"
      ],
      "execution_count": 0,
      "outputs": []
    },
    {
      "cell_type": "markdown",
      "metadata": {
        "id": "RlIZkaD-ntTf",
        "colab_type": "text"
      },
      "source": [
        "###Batch generating function"
      ]
    },
    {
      "cell_type": "code",
      "metadata": {
        "id": "K8TbdaLUnsrW",
        "colab_type": "code",
        "colab": {}
      },
      "source": [
        "def batch_generator(batch_size, sequence_length):\n",
        "\n",
        "    # Infinite loop.\n",
        "    while True:\n",
        "        # Allocate a new array for the batch of input-signals.\n",
        "        x_shape = (batch_size, sequence_length, num_x_signals)\n",
        "        print(x_shape)\n",
        "        x_batch = np.zeros(shape=x_shape, dtype=np.float16)\n",
        "\n",
        "        # Allocate a new array for the batch of output-signals.\n",
        "        y_shape = (batch_size, sequence_length, num_y_signals)\n",
        "        y_batch = np.zeros(shape=y_shape, dtype=np.float16)\n",
        "\n",
        "        # Fill the batch with random sequences of data.\n",
        "        for i in range(batch_size):\n",
        "            # Get a random start-index.\n",
        "\n",
        "            idx = np.random.randint(num_train - sequence_length)\n",
        "            \n",
        "            # Copy the sequences of data starting at this index.\n",
        "            x_batch[i] = x_train_scaled[idx:idx+sequence_length]\n",
        "            y_batch[i] = y_train_scaled[idx:idx+sequence_length]\n",
        "        \n",
        "        yield (x_batch, y_batch)    \n",
        "    "
      ],
      "execution_count": 0,
      "outputs": []
    },
    {
      "cell_type": "markdown",
      "metadata": {
        "id": "gSwJgVayn7S2",
        "colab_type": "text"
      },
      "source": [
        "##Main functions"
      ]
    },
    {
      "cell_type": "code",
      "metadata": {
        "id": "15rjryvnn6l6",
        "colab_type": "code",
        "colab": {}
      },
      "source": [
        "df= pd.read_csv('training.csv',dtype={'geohash6' : str,'day':str, 'timestamp':str,'demand':float})\n",
        "\n",
        "#temporary disable\n",
        "dgeo, df = shape_input(df)\n",
        "\n"
      ],
      "execution_count": 0,
      "outputs": []
    },
    {
      "cell_type": "code",
      "metadata": {
        "id": "fX5Zf-xgnyZm",
        "colab_type": "code",
        "colab": {}
      },
      "source": [
        "geoX=df['geohash6']"
      ],
      "execution_count": 0,
      "outputs": []
    },
    {
      "cell_type": "markdown",
      "metadata": {
        "id": "bQfYGzeGoHz1",
        "colab_type": "text"
      },
      "source": [
        "Target predictions"
      ]
    },
    {
      "cell_type": "code",
      "metadata": {
        "id": "nWJB9SLwoK4o",
        "colab_type": "code",
        "colab": {}
      },
      "source": [
        "target_loc='qp03wc'\n",
        "target_names=['demand']"
      ],
      "execution_count": 0,
      "outputs": []
    },
    {
      "cell_type": "code",
      "metadata": {
        "id": "zROxwjvfoMoE",
        "colab_type": "code",
        "colab": {}
      },
      "source": [
        "df_targets = df[target_loc][target_names].shift(-shift_steps)\n"
      ],
      "execution_count": 0,
      "outputs": []
    },
    {
      "cell_type": "markdown",
      "metadata": {
        "id": "_sfNTRLzoTtU",
        "colab_type": "text"
      },
      "source": [
        "Prepare test and validation set"
      ]
    },
    {
      "cell_type": "code",
      "metadata": {
        "id": "AhJgslY3oXZu",
        "colab_type": "code",
        "colab": {}
      },
      "source": [
        "x_data = df.values[0:-shift_steps]\n",
        "y_data = df_targets.values[:-shift_steps]\n",
        "\n",
        "#Change the shape of tuple from (x,) to (x,1)\n",
        "\n",
        "y_data.shape=(y_data.shape[0],1)\n",
        "\n",
        "num_data=len(x_data)\n",
        "\n",
        "num_train = int(train_split * num_data)\n",
        "num_test = num_data - num_train\n",
        "\n",
        "\n",
        "x_train = x_data[0:num_train]\n",
        "x_test = x_data[num_train:]\n",
        "\n",
        "y_train = y_data[0:num_train]\n",
        "y_test = y_data[num_train:]\n",
        "\n",
        "num_x_signals = x_data.shape[1]\n",
        "num_y_signals = 1"
      ],
      "execution_count": 0,
      "outputs": []
    },
    {
      "cell_type": "markdown",
      "metadata": {
        "id": "kFRSGSuboarG",
        "colab_type": "text"
      },
      "source": [
        "Scale data"
      ]
    },
    {
      "cell_type": "code",
      "metadata": {
        "id": "vaZMcrWMob4v",
        "colab_type": "code",
        "colab": {}
      },
      "source": [
        "x_scaler = MinMaxScaler()\n",
        "x_train_scaled = x_scaler.fit_transform(x_train)\n",
        "x_test_scaled = x_scaler.transform(x_test)\n",
        "\n",
        "y_scaler = MinMaxScaler()\n",
        "y_train_scaled = y_scaler.fit_transform(y_train)\n",
        "y_test_scaled = y_scaler.transform(y_test)\n"
      ],
      "execution_count": 0,
      "outputs": []
    },
    {
      "cell_type": "markdown",
      "metadata": {
        "id": "bEmlHom4IhVR",
        "colab_type": "text"
      },
      "source": [
        "Generating batch"
      ]
    },
    {
      "cell_type": "code",
      "metadata": {
        "id": "PHjJkiEuIk6e",
        "colab_type": "code",
        "outputId": "114555fa-1d2c-4e49-c029-98379e89a2cc",
        "colab": {
          "base_uri": "https://localhost:8080/",
          "height": 34
        }
      },
      "source": [
        "generator = batch_generator(batch_size=batch_size,\n",
        "                            sequence_length=sequence_length)\n",
        "\n",
        "x_batch, y_batch = next(generator)\n",
        "\n",
        "validation_data = (np.expand_dims(x_test_scaled, axis=0),\n",
        "                   np.expand_dims(y_test_scaled, axis=0))\n"
      ],
      "execution_count": 0,
      "outputs": [
        {
          "output_type": "stream",
          "text": [
            "(32, 1344, 3990)\n"
          ],
          "name": "stdout"
        }
      ]
    },
    {
      "cell_type": "markdown",
      "metadata": {
        "id": "1wQ8JdHzIr4T",
        "colab_type": "text"
      },
      "source": [
        "RNN model"
      ]
    },
    {
      "cell_type": "code",
      "metadata": {
        "id": "Rjk12qdnIqfU",
        "colab_type": "code",
        "outputId": "d72a2ea6-70de-499e-bc0f-a08ae5d20d61",
        "colab": {
          "base_uri": "https://localhost:8080/",
          "height": 322
        }
      },
      "source": [
        "\n",
        "model = Sequential()\n",
        "model.add(GRU(units=128,\n",
        "              return_sequences=True,\n",
        "              input_shape=(None, num_x_signals,)))\n",
        "\n",
        "model.add(Dense(num_y_signals, activation='sigmoid'))\n",
        "\n",
        "if False:\n",
        "    from tensorflow.python.keras.initializers import RandomUniform\n",
        "\n",
        "    # Maybe use lower init-ranges.\n",
        "    init = RandomUniform(minval=-0.05, maxval=0.05)\n",
        "\n",
        "    model.add(Dense(num_y_signals,\n",
        "                    activation='linear',\n",
        "                    kernel_initializer=init))\n",
        "\n",
        "optimizer = RMSprop(lr=1e-3)\n",
        "model.compile(loss=loss_mse_warmup, optimizer=optimizer)\n",
        "\n",
        "model.summary()"
      ],
      "execution_count": 0,
      "outputs": [
        {
          "output_type": "stream",
          "text": [
            "WARNING:tensorflow:From /usr/local/lib/python3.6/dist-packages/tensorflow/python/ops/resource_variable_ops.py:435: colocate_with (from tensorflow.python.framework.ops) is deprecated and will be removed in a future version.\n",
            "Instructions for updating:\n",
            "Colocations handled automatically by placer.\n",
            "WARNING:tensorflow:From /usr/local/lib/python3.6/dist-packages/tensorflow/python/ops/losses/losses_impl.py:667: to_float (from tensorflow.python.ops.math_ops) is deprecated and will be removed in a future version.\n",
            "Instructions for updating:\n",
            "Use tf.cast instead.\n",
            "_________________________________________________________________\n",
            "Layer (type)                 Output Shape              Param #   \n",
            "=================================================================\n",
            "gru (GRU)                    (None, None, 128)         1512576   \n",
            "_________________________________________________________________\n",
            "dense (Dense)                (None, None, 1)           129       \n",
            "=================================================================\n",
            "Total params: 1,512,705\n",
            "Trainable params: 1,512,705\n",
            "Non-trainable params: 0\n",
            "_________________________________________________________________\n"
          ],
          "name": "stdout"
        }
      ]
    },
    {
      "cell_type": "markdown",
      "metadata": {
        "id": "wn76LJxFhr1Y",
        "colab_type": "text"
      },
      "source": [
        "GPU version of RNN"
      ]
    },
    {
      "cell_type": "code",
      "metadata": {
        "id": "KB5k7UVbhq-V",
        "colab_type": "code",
        "outputId": "3f6ca520-7a5c-4244-e241-931f71362c84",
        "colab": {
          "base_uri": "https://localhost:8080/",
          "height": 202
        }
      },
      "source": [
        "with tf.device('/gpu:0'):\n",
        "  \n",
        "  model = Sequential()\n",
        "  model.add(GRU(units=128,\n",
        "                return_sequences=True,\n",
        "                input_shape=(None, num_x_signals,)))\n",
        "\n",
        "  model.add(Dense(num_y_signals, activation='sigmoid'))\n",
        "\n",
        "  if False:\n",
        "      from tensorflow.python.keras.initializers import RandomUniform\n",
        "\n",
        "      # Maybe use lower init-ranges.\n",
        "      init = RandomUniform(minval=-0.05, maxval=0.05)\n",
        "\n",
        "      model.add(Dense(num_y_signals,\n",
        "                      activation='linear',\n",
        "                      kernel_initializer=init))\n",
        "\n",
        "  optimizer = RMSprop(lr=1e-3)\n",
        "  model.compile(loss=loss_mse_warmup, optimizer=optimizer)\n",
        "\n",
        "  model.summary()"
      ],
      "execution_count": 0,
      "outputs": [
        {
          "output_type": "stream",
          "text": [
            "_________________________________________________________________\n",
            "Layer (type)                 Output Shape              Param #   \n",
            "=================================================================\n",
            "gru_3 (GRU)                  (None, None, 128)         1581696   \n",
            "_________________________________________________________________\n",
            "dense_3 (Dense)              (None, None, 1)           129       \n",
            "=================================================================\n",
            "Total params: 1,581,825\n",
            "Trainable params: 1,581,825\n",
            "Non-trainable params: 0\n",
            "_________________________________________________________________\n"
          ],
          "name": "stdout"
        }
      ]
    },
    {
      "cell_type": "markdown",
      "metadata": {
        "id": "NODRqPNeI3uV",
        "colab_type": "text"
      },
      "source": [
        "Call back"
      ]
    },
    {
      "cell_type": "code",
      "metadata": {
        "id": "boKxgG_FI5Ia",
        "colab_type": "code",
        "colab": {}
      },
      "source": [
        "path_checkpoint = 'trafficdemand_checkpoint.keras'\n",
        "callback_checkpoint = ModelCheckpoint(filepath=path_checkpoint,\n",
        "                                      monitor='val_loss',\n",
        "                                      verbose=1,\n",
        "                                      save_weights_only=True,\n",
        "                                      save_best_only=True)\n",
        "callback_early_stopping = EarlyStopping(monitor='val_loss',\n",
        "                                        patience=5, verbose=1)\n",
        "callback_tensorboard = TensorBoard(log_dir='./23_logs/',\n",
        "                                   histogram_freq=0,\n",
        "                                   write_graph=False)\n",
        "callback_reduce_lr = ReduceLROnPlateau(monitor='val_loss',\n",
        "                                       factor=0.1,\n",
        "                                       min_lr=1e-4,\n",
        "                                       patience=0,\n",
        "                                       verbose=1)\n",
        "                                       \n",
        "callbacks = [callback_early_stopping,\n",
        "             callback_checkpoint,\n",
        "             callback_tensorboard,\n",
        "             callback_reduce_lr]"
      ],
      "execution_count": 0,
      "outputs": []
    },
    {
      "cell_type": "markdown",
      "metadata": {
        "id": "JJE7wLJeI8tH",
        "colab_type": "text"
      },
      "source": [
        "Model training"
      ]
    },
    {
      "cell_type": "code",
      "metadata": {
        "id": "6qDyYoMaI-O1",
        "colab_type": "code",
        "outputId": "73218c4a-8172-4c08-bcf1-16ca960ed7fd",
        "colab": {
          "base_uri": "https://localhost:8080/",
          "height": 4704
        }
      },
      "source": [
        "print(\"Start Time: \" + str(time.time()))\n",
        "model.fit_generator(generator=generator,\n",
        "                    epochs=5,\n",
        "                    steps_per_epoch=50,\n",
        "                    validation_data=validation_data,\n",
        "                    callbacks=callbacks)      \n",
        "\n",
        "try:\n",
        "    model.load_weights(path_checkpoint)\n",
        "except Exception as error:\n",
        "    print(\"Error trying to load checkpoint.\")\n",
        "    print(error)                          \n"
      ],
      "execution_count": 0,
      "outputs": [
        {
          "output_type": "stream",
          "text": [
            "Start Time: 1560397700.2830787\n",
            "Epoch 1/5(32, 1344, 3990)\n",
            "\n",
            "(32, 1344, 3990)\n",
            " 1/50 [..............................] - ETA: 8:04 - loss: 0.2164(32, 1344, 3990)\n",
            " 2/50 [>.............................] - ETA: 5:38 - loss: 0.1800(32, 1344, 3990)\n",
            " 3/50 [>.............................] - ETA: 5:07 - loss: 0.1688(32, 1344, 3990)\n",
            " 4/50 [=>............................] - ETA: 4:50 - loss: 0.1629(32, 1344, 3990)\n",
            " 5/50 [==>...........................] - ETA: 4:30 - loss: 0.1597(32, 1344, 3990)\n",
            " 6/50 [==>...........................] - ETA: 4:25 - loss: 0.1573(32, 1344, 3990)\n",
            " 7/50 [===>..........................] - ETA: 4:14 - loss: 0.1558(32, 1344, 3990)\n",
            " 8/50 [===>..........................] - ETA: 4:02 - loss: 0.1544(32, 1344, 3990)\n",
            " 9/50 [====>.........................] - ETA: 3:58 - loss: 0.1533(32, 1344, 3990)\n",
            "10/50 [=====>........................] - ETA: 3:48 - loss: 0.1523(32, 1344, 3990)\n",
            "11/50 [=====>........................] - ETA: 3:42 - loss: 0.1518(32, 1344, 3990)\n",
            "12/50 [======>.......................] - ETA: 3:36 - loss: 0.1515(32, 1344, 3990)\n",
            "13/50 [======>.......................] - ETA: 3:30 - loss: 0.1510(32, 1344, 3990)\n",
            "14/50 [=======>......................] - ETA: 3:22 - loss: 0.1507(32, 1344, 3990)\n",
            "15/50 [========>.....................] - ETA: 3:16 - loss: 0.1504(32, 1344, 3990)\n",
            "16/50 [========>.....................] - ETA: 3:10 - loss: 0.1501(32, 1344, 3990)\n",
            "17/50 [=========>....................] - ETA: 3:05 - loss: 0.1499(32, 1344, 3990)\n",
            "18/50 [=========>....................] - ETA: 2:59 - loss: 0.1497(32, 1344, 3990)\n",
            "19/50 [==========>...................] - ETA: 2:53 - loss: 0.1494(32, 1344, 3990)\n",
            "20/50 [===========>..................] - ETA: 2:46 - loss: 0.1491(32, 1344, 3990)\n",
            "21/50 [===========>..................] - ETA: 2:40 - loss: 0.1489(32, 1344, 3990)\n",
            "22/50 [============>.................] - ETA: 2:35 - loss: 0.1488(32, 1344, 3990)\n",
            "23/50 [============>.................] - ETA: 2:29 - loss: 0.1486(32, 1344, 3990)\n",
            "24/50 [=============>................] - ETA: 2:23 - loss: 0.1485(32, 1344, 3990)\n",
            "25/50 [==============>...............] - ETA: 2:18 - loss: 0.1485(32, 1344, 3990)\n",
            "26/50 [==============>...............] - ETA: 2:13 - loss: 0.1483(32, 1344, 3990)\n",
            "27/50 [===============>..............] - ETA: 2:07 - loss: 0.1483(32, 1344, 3990)\n",
            "28/50 [===============>..............] - ETA: 2:01 - loss: 0.1482(32, 1344, 3990)\n",
            "29/50 [================>.............] - ETA: 1:55 - loss: 0.1481(32, 1344, 3990)\n",
            "30/50 [=================>............] - ETA: 1:50 - loss: 0.1479(32, 1344, 3990)\n",
            "31/50 [=================>............] - ETA: 1:44 - loss: 0.1478(32, 1344, 3990)\n",
            "32/50 [==================>...........] - ETA: 1:38 - loss: 0.1478(32, 1344, 3990)\n",
            "33/50 [==================>...........] - ETA: 1:33 - loss: 0.1477(32, 1344, 3990)\n",
            "34/50 [===================>..........] - ETA: 1:28 - loss: 0.1476(32, 1344, 3990)\n",
            "35/50 [====================>.........] - ETA: 1:22 - loss: 0.1475(32, 1344, 3990)\n",
            "36/50 [====================>.........] - ETA: 1:17 - loss: 0.1474(32, 1344, 3990)\n",
            "37/50 [=====================>........] - ETA: 1:11 - loss: 0.1473(32, 1344, 3990)\n",
            "38/50 [=====================>........] - ETA: 1:05 - loss: 0.1472(32, 1344, 3990)\n",
            "39/50 [======================>.......] - ETA: 1:00 - loss: 0.1471(32, 1344, 3990)\n",
            "40/50 [=======================>......] - ETA: 54s - loss: 0.1471 (32, 1344, 3990)\n",
            "41/50 [=======================>......] - ETA: 49s - loss: 0.1471(32, 1344, 3990)\n",
            "42/50 [========================>.....] - ETA: 43s - loss: 0.1471(32, 1344, 3990)\n",
            "43/50 [========================>.....] - ETA: 38s - loss: 0.1470(32, 1344, 3990)\n",
            "44/50 [=========================>....] - ETA: 32s - loss: 0.1470(32, 1344, 3990)\n",
            "45/50 [==========================>...] - ETA: 27s - loss: 0.1469(32, 1344, 3990)\n",
            "46/50 [==========================>...] - ETA: 21s - loss: 0.1469(32, 1344, 3990)\n",
            "47/50 [===========================>..] - ETA: 16s - loss: 0.1469(32, 1344, 3990)\n",
            "48/50 [===========================>..] - ETA: 10s - loss: 0.1469(32, 1344, 3990)\n",
            "49/50 [============================>.] - ETA: 5s - loss: 0.1468 (32, 1344, 3990)\n",
            "1/1 [==============================] - 0s 355ms/sample - loss: 0.1594\n",
            "\n",
            "Epoch 00001: val_loss improved from inf to 0.15936, saving model to trafficdemand_checkpoint.keras\n",
            "50/50 [==============================] - 274s 5s/step - loss: 0.1468 - val_loss: 0.1594\n",
            "Epoch 2/5\n",
            "(32, 1344, 3990)\n",
            " 1/50 [..............................] - ETA: 4:13 - loss: 0.1466(32, 1344, 3990)\n",
            " 2/50 [>.............................] - ETA: 4:09 - loss: 0.1462(32, 1344, 3990)\n",
            " 3/50 [>.............................] - ETA: 4:08 - loss: 0.1458(32, 1344, 3990)\n",
            " 4/50 [=>............................] - ETA: 4:04 - loss: 0.1456(32, 1344, 3990)\n",
            " 5/50 [==>...........................] - ETA: 3:57 - loss: 0.1456(32, 1344, 3990)\n",
            " 6/50 [==>...........................] - ETA: 3:55 - loss: 0.1455(32, 1344, 3990)\n",
            " 7/50 [===>..........................] - ETA: 3:49 - loss: 0.1454(32, 1344, 3990)\n",
            " 8/50 [===>..........................] - ETA: 3:42 - loss: 0.1455(32, 1344, 3990)\n",
            " 9/50 [====>.........................] - ETA: 3:39 - loss: 0.1450(32, 1344, 3990)\n",
            "10/50 [=====>........................] - ETA: 3:30 - loss: 0.1452(32, 1344, 3990)\n",
            "11/50 [=====>........................] - ETA: 3:28 - loss: 0.1453(32, 1344, 3990)\n",
            "12/50 [======>.......................] - ETA: 3:23 - loss: 0.1453(32, 1344, 3990)\n",
            "13/50 [======>.......................] - ETA: 3:16 - loss: 0.1453(32, 1344, 3990)\n",
            "14/50 [=======>......................] - ETA: 3:11 - loss: 0.1451(32, 1344, 3990)\n",
            "15/50 [========>.....................] - ETA: 3:05 - loss: 0.1452(32, 1344, 3990)\n",
            "16/50 [========>.....................] - ETA: 3:01 - loss: 0.1452(32, 1344, 3990)\n",
            "17/50 [=========>....................] - ETA: 2:55 - loss: 0.1452(32, 1344, 3990)\n",
            "18/50 [=========>....................] - ETA: 2:50 - loss: 0.1451(32, 1344, 3990)\n",
            "19/50 [==========>...................] - ETA: 2:45 - loss: 0.1451(32, 1344, 3990)\n",
            "20/50 [===========>..................] - ETA: 2:41 - loss: 0.1450(32, 1344, 3990)\n",
            "21/50 [===========>..................] - ETA: 2:35 - loss: 0.1451(32, 1344, 3990)\n",
            "22/50 [============>.................] - ETA: 2:30 - loss: 0.1450(32, 1344, 3990)\n",
            "23/50 [============>.................] - ETA: 2:25 - loss: 0.1451(32, 1344, 3990)\n",
            "24/50 [=============>................] - ETA: 2:19 - loss: 0.1451(32, 1344, 3990)\n",
            "25/50 [==============>...............] - ETA: 2:13 - loss: 0.1452(32, 1344, 3990)\n",
            "26/50 [==============>...............] - ETA: 2:08 - loss: 0.1453(32, 1344, 3990)\n",
            "27/50 [===============>..............] - ETA: 2:03 - loss: 0.1452(32, 1344, 3990)\n",
            "28/50 [===============>..............] - ETA: 1:58 - loss: 0.1452(32, 1344, 3990)\n",
            "29/50 [================>.............] - ETA: 1:52 - loss: 0.1452(32, 1344, 3990)\n",
            "30/50 [=================>............] - ETA: 1:47 - loss: 0.1453(32, 1344, 3990)\n",
            "31/50 [=================>............] - ETA: 1:42 - loss: 0.1452(32, 1344, 3990)\n",
            "32/50 [==================>...........] - ETA: 1:36 - loss: 0.1452(32, 1344, 3990)\n",
            "33/50 [==================>...........] - ETA: 1:31 - loss: 0.1452(32, 1344, 3990)\n",
            "34/50 [===================>..........] - ETA: 1:26 - loss: 0.1452(32, 1344, 3990)\n",
            "35/50 [====================>.........] - ETA: 1:20 - loss: 0.1452(32, 1344, 3990)\n",
            "36/50 [====================>.........] - ETA: 1:15 - loss: 0.1452(32, 1344, 3990)\n",
            "37/50 [=====================>........] - ETA: 1:09 - loss: 0.1452(32, 1344, 3990)\n",
            "38/50 [=====================>........] - ETA: 1:04 - loss: 0.1452(32, 1344, 3990)\n",
            "39/50 [======================>.......] - ETA: 59s - loss: 0.1452 (32, 1344, 3990)\n",
            "40/50 [=======================>......] - ETA: 53s - loss: 0.1452(32, 1344, 3990)\n",
            "41/50 [=======================>......] - ETA: 48s - loss: 0.1452(32, 1344, 3990)\n",
            "42/50 [========================>.....] - ETA: 43s - loss: 0.1451(32, 1344, 3990)\n",
            "43/50 [========================>.....] - ETA: 37s - loss: 0.1450(32, 1344, 3990)\n",
            "44/50 [=========================>....] - ETA: 32s - loss: 0.1448(32, 1344, 3990)\n",
            "45/50 [==========================>...] - ETA: 26s - loss: 0.1445(32, 1344, 3990)\n",
            "46/50 [==========================>...] - ETA: 21s - loss: 0.1439(32, 1344, 3990)\n",
            "47/50 [===========================>..] - ETA: 16s - loss: 0.1428(32, 1344, 3990)\n",
            "48/50 [===========================>..] - ETA: 10s - loss: 0.1411(32, 1344, 3990)\n",
            "49/50 [============================>.] - ETA: 5s - loss: 0.1393 (32, 1344, 3990)\n",
            "1/1 [==============================] - 0s 248ms/sample - loss: 0.0518\n",
            "\n",
            "Epoch 00002: val_loss improved from 0.15936 to 0.05185, saving model to trafficdemand_checkpoint.keras\n",
            "50/50 [==============================] - 270s 5s/step - loss: 0.1380 - val_loss: 0.0518\n",
            "Epoch 3/5\n",
            "(32, 1344, 3990)\n",
            " 1/50 [..............................] - ETA: 4:18 - loss: 0.0466(32, 1344, 3990)\n",
            " 2/50 [>.............................] - ETA: 4:14 - loss: 0.0468(32, 1344, 3990)\n",
            " 3/50 [>.............................] - ETA: 4:04 - loss: 0.0430(32, 1344, 3990)\n",
            " 4/50 [=>............................] - ETA: 3:59 - loss: 0.0412(32, 1344, 3990)\n",
            " 5/50 [==>...........................] - ETA: 3:56 - loss: 0.0398(32, 1344, 3990)\n",
            " 6/50 [==>...........................] - ETA: 3:57 - loss: 0.0390(32, 1344, 3990)\n",
            " 7/50 [===>..........................] - ETA: 3:48 - loss: 0.0389(32, 1344, 3990)\n",
            " 8/50 [===>..........................] - ETA: 3:40 - loss: 0.0397(32, 1344, 3990)\n",
            " 9/50 [====>.........................] - ETA: 3:40 - loss: 0.0400(32, 1344, 3990)\n",
            "10/50 [=====>........................] - ETA: 3:31 - loss: 0.0395(32, 1344, 3990)\n",
            "11/50 [=====>........................] - ETA: 3:27 - loss: 0.0389(32, 1344, 3990)\n",
            "12/50 [======>.......................] - ETA: 3:22 - loss: 0.0395(32, 1344, 3990)\n",
            "13/50 [======>.......................] - ETA: 3:19 - loss: 0.0393(32, 1344, 3990)\n",
            "14/50 [=======>......................] - ETA: 3:12 - loss: 0.0389(32, 1344, 3990)\n",
            "15/50 [========>.....................] - ETA: 3:07 - loss: 0.0386(32, 1344, 3990)\n",
            "16/50 [========>.....................] - ETA: 3:01 - loss: 0.0384(32, 1344, 3990)\n",
            "17/50 [=========>....................] - ETA: 2:57 - loss: 0.0379(32, 1344, 3990)\n",
            "18/50 [=========>....................] - ETA: 2:50 - loss: 0.0373(32, 1344, 3990)\n",
            "19/50 [==========>...................] - ETA: 2:46 - loss: 0.0368(32, 1344, 3990)\n",
            "20/50 [===========>..................] - ETA: 2:40 - loss: 0.0365(32, 1344, 3990)\n",
            "21/50 [===========>..................] - ETA: 2:36 - loss: 0.0361(32, 1344, 3990)\n",
            "22/50 [============>.................] - ETA: 2:30 - loss: 0.0358(32, 1344, 3990)\n",
            "23/50 [============>.................] - ETA: 2:24 - loss: 0.0377(32, 1344, 3990)\n",
            "24/50 [=============>................] - ETA: 2:19 - loss: 0.0380(32, 1344, 3990)\n",
            "25/50 [==============>...............] - ETA: 2:14 - loss: 0.0390(32, 1344, 3990)\n",
            "26/50 [==============>...............] - ETA: 2:08 - loss: 0.0385(32, 1344, 3990)\n",
            "27/50 [===============>..............] - ETA: 2:03 - loss: 0.0383(32, 1344, 3990)\n",
            "28/50 [===============>..............] - ETA: 1:58 - loss: 0.0381(32, 1344, 3990)\n",
            "29/50 [================>.............] - ETA: 1:53 - loss: 0.0377(32, 1344, 3990)\n",
            "30/50 [=================>............] - ETA: 1:47 - loss: 0.0373(32, 1344, 3990)\n",
            "31/50 [=================>............] - ETA: 1:42 - loss: 0.0369(32, 1344, 3990)\n",
            "32/50 [==================>...........] - ETA: 1:36 - loss: 0.0367(32, 1344, 3990)\n",
            "33/50 [==================>...........] - ETA: 1:31 - loss: 0.0363(32, 1344, 3990)\n",
            "34/50 [===================>..........] - ETA: 1:26 - loss: 0.0360(32, 1344, 3990)\n",
            "35/50 [====================>.........] - ETA: 1:20 - loss: 0.0356(32, 1344, 3990)\n",
            "36/50 [====================>.........] - ETA: 1:15 - loss: 0.0353(32, 1344, 3990)\n",
            "37/50 [=====================>........] - ETA: 1:10 - loss: 0.0351(32, 1344, 3990)\n",
            "38/50 [=====================>........] - ETA: 1:04 - loss: 0.0350(32, 1344, 3990)\n",
            "39/50 [======================>.......] - ETA: 59s - loss: 0.0348 (32, 1344, 3990)\n",
            "40/50 [=======================>......] - ETA: 53s - loss: 0.0344(32, 1344, 3990)\n",
            "41/50 [=======================>......] - ETA: 48s - loss: 0.0342(32, 1344, 3990)\n",
            "42/50 [========================>.....] - ETA: 43s - loss: 0.0341(32, 1344, 3990)\n",
            "43/50 [========================>.....] - ETA: 37s - loss: 0.0339(32, 1344, 3990)\n",
            "44/50 [=========================>....] - ETA: 32s - loss: 0.0338(32, 1344, 3990)\n",
            "45/50 [==========================>...] - ETA: 26s - loss: 0.0335(32, 1344, 3990)\n",
            "46/50 [==========================>...] - ETA: 21s - loss: 0.0333(32, 1344, 3990)\n",
            "47/50 [===========================>..] - ETA: 16s - loss: 0.0331(32, 1344, 3990)\n",
            "48/50 [===========================>..] - ETA: 10s - loss: 0.0329(32, 1344, 3990)\n",
            "49/50 [============================>.] - ETA: 5s - loss: 0.0327 (32, 1344, 3990)\n",
            "1/1 [==============================] - 0s 227ms/sample - loss: 0.0252\n",
            "\n",
            "Epoch 00003: val_loss improved from 0.05185 to 0.02523, saving model to trafficdemand_checkpoint.keras\n",
            "50/50 [==============================] - 270s 5s/step - loss: 0.0326 - val_loss: 0.0252\n",
            "Epoch 4/5\n",
            "(32, 1344, 3990)\n",
            " 1/50 [..............................] - ETA: 4:46 - loss: 0.0254(32, 1344, 3990)\n",
            " 2/50 [>.............................] - ETA: 4:23 - loss: 0.0250(32, 1344, 3990)\n",
            " 3/50 [>.............................] - ETA: 4:10 - loss: 0.0242(32, 1344, 3990)\n",
            " 4/50 [=>............................] - ETA: 4:00 - loss: 0.0271(32, 1344, 3990)\n",
            " 5/50 [==>...........................] - ETA: 3:58 - loss: 0.0285(32, 1344, 3990)\n",
            " 6/50 [==>...........................] - ETA: 3:54 - loss: 0.0289(32, 1344, 3990)\n",
            " 7/50 [===>..........................] - ETA: 3:50 - loss: 0.0283(32, 1344, 3990)\n",
            " 8/50 [===>..........................] - ETA: 3:42 - loss: 0.0273(32, 1344, 3990)\n",
            " 9/50 [====>.........................] - ETA: 3:42 - loss: 0.0262(32, 1344, 3990)\n",
            "10/50 [=====>........................] - ETA: 3:36 - loss: 0.0253(32, 1344, 3990)\n",
            "11/50 [=====>........................] - ETA: 3:30 - loss: 0.0246(32, 1344, 3990)\n",
            "12/50 [======>.......................] - ETA: 3:25 - loss: 0.0242(32, 1344, 3990)\n",
            "13/50 [======>.......................] - ETA: 3:21 - loss: 0.0238(32, 1344, 3990)\n",
            "14/50 [=======>......................] - ETA: 3:15 - loss: 0.0236(32, 1344, 3990)\n",
            "15/50 [========>.....................] - ETA: 3:09 - loss: 0.0233(32, 1344, 3990)\n",
            "16/50 [========>.....................] - ETA: 3:04 - loss: 0.0232(32, 1344, 3990)\n",
            "17/50 [=========>....................] - ETA: 2:57 - loss: 0.0230(32, 1344, 3990)\n",
            "18/50 [=========>....................] - ETA: 2:51 - loss: 0.0229(32, 1344, 3990)\n",
            "19/50 [==========>...................] - ETA: 2:47 - loss: 0.0227(32, 1344, 3990)\n",
            "20/50 [===========>..................] - ETA: 2:42 - loss: 0.0227(32, 1344, 3990)\n",
            "21/50 [===========>..................] - ETA: 2:37 - loss: 0.0228(32, 1344, 3990)\n",
            "22/50 [============>.................] - ETA: 2:31 - loss: 0.0228(32, 1344, 3990)\n",
            "23/50 [============>.................] - ETA: 2:25 - loss: 0.0226(32, 1344, 3990)\n",
            "24/50 [=============>................] - ETA: 2:20 - loss: 0.0224(32, 1344, 3990)\n",
            "25/50 [==============>...............] - ETA: 2:15 - loss: 0.0221(32, 1344, 3990)\n",
            "26/50 [==============>...............] - ETA: 2:09 - loss: 0.0219(32, 1344, 3990)\n",
            "27/50 [===============>..............] - ETA: 2:04 - loss: 0.0217(32, 1344, 3990)\n",
            "28/50 [===============>..............] - ETA: 1:59 - loss: 0.0218(32, 1344, 3990)\n",
            "29/50 [================>.............] - ETA: 1:53 - loss: 0.0223(32, 1344, 3990)\n",
            "30/50 [=================>............] - ETA: 1:48 - loss: 0.0224(32, 1344, 3990)\n",
            "31/50 [=================>............] - ETA: 1:42 - loss: 0.0222(32, 1344, 3990)\n",
            "32/50 [==================>...........] - ETA: 1:37 - loss: 0.0220(32, 1344, 3990)\n",
            "33/50 [==================>...........] - ETA: 1:31 - loss: 0.0219(32, 1344, 3990)\n",
            "34/50 [===================>..........] - ETA: 1:26 - loss: 0.0219(32, 1344, 3990)\n",
            "35/50 [====================>.........] - ETA: 1:21 - loss: 0.0217(32, 1344, 3990)\n",
            "36/50 [====================>.........] - ETA: 1:15 - loss: 0.0216(32, 1344, 3990)\n",
            "37/50 [=====================>........] - ETA: 1:10 - loss: 0.0215(32, 1344, 3990)\n",
            "38/50 [=====================>........] - ETA: 1:04 - loss: 0.0214(32, 1344, 3990)\n",
            "39/50 [======================>.......] - ETA: 59s - loss: 0.0213 (32, 1344, 3990)\n",
            "40/50 [=======================>......] - ETA: 53s - loss: 0.0212(32, 1344, 3990)\n",
            "41/50 [=======================>......] - ETA: 48s - loss: 0.0211(32, 1344, 3990)\n",
            "42/50 [========================>.....] - ETA: 43s - loss: 0.0210(32, 1344, 3990)\n",
            "43/50 [========================>.....] - ETA: 37s - loss: 0.0210(32, 1344, 3990)\n",
            "44/50 [=========================>....] - ETA: 32s - loss: 0.0209(32, 1344, 3990)\n",
            "45/50 [==========================>...] - ETA: 27s - loss: 0.0208(32, 1344, 3990)\n",
            "46/50 [==========================>...] - ETA: 21s - loss: 0.0208(32, 1344, 3990)\n",
            "47/50 [===========================>..] - ETA: 16s - loss: 0.0207(32, 1344, 3990)\n",
            "48/50 [===========================>..] - ETA: 10s - loss: 0.0206(32, 1344, 3990)\n",
            "49/50 [============================>.] - ETA: 5s - loss: 0.0205 (32, 1344, 3990)\n",
            "1/1 [==============================] - 0s 228ms/sample - loss: 0.0147\n",
            "\n",
            "Epoch 00004: val_loss improved from 0.02523 to 0.01469, saving model to trafficdemand_checkpoint.keras\n",
            "50/50 [==============================] - 271s 5s/step - loss: 0.0205 - val_loss: 0.0147\n",
            "Epoch 5/5\n",
            "(32, 1344, 3990)\n",
            " 1/50 [..............................] - ETA: 4:00 - loss: 0.0164(32, 1344, 3990)\n",
            " 2/50 [>.............................] - ETA: 4:10 - loss: 0.0175(32, 1344, 3990)\n",
            " 3/50 [>.............................] - ETA: 4:20 - loss: 0.0173(32, 1344, 3990)\n",
            " 4/50 [=>............................] - ETA: 4:15 - loss: 0.0172(32, 1344, 3990)\n",
            " 5/50 [==>...........................] - ETA: 4:01 - loss: 0.0171(32, 1344, 3990)\n",
            " 6/50 [==>...........................] - ETA: 4:00 - loss: 0.0167(32, 1344, 3990)\n",
            " 7/50 [===>..........................] - ETA: 3:56 - loss: 0.0163(32, 1344, 3990)\n",
            " 8/50 [===>..........................] - ETA: 3:47 - loss: 0.0161(32, 1344, 3990)\n",
            " 9/50 [====>.........................] - ETA: 3:43 - loss: 0.0159(32, 1344, 3990)\n",
            "10/50 [=====>........................] - ETA: 3:37 - loss: 0.0159(32, 1344, 3990)\n",
            "11/50 [=====>........................] - ETA: 3:34 - loss: 0.0161(32, 1344, 3990)\n",
            "12/50 [======>.......................] - ETA: 3:26 - loss: 0.0167(32, 1344, 3990)\n",
            "13/50 [======>.......................] - ETA: 3:21 - loss: 0.0170(32, 1344, 3990)\n",
            "14/50 [=======>......................] - ETA: 3:17 - loss: 0.0172(32, 1344, 3990)\n",
            "15/50 [========>.....................] - ETA: 3:10 - loss: 0.0173(32, 1344, 3990)\n",
            "16/50 [========>.....................] - ETA: 3:05 - loss: 0.0172(32, 1344, 3990)\n",
            "17/50 [=========>....................] - ETA: 2:59 - loss: 0.0170(32, 1344, 3990)\n",
            "18/50 [=========>....................] - ETA: 2:55 - loss: 0.0168(32, 1344, 3990)\n",
            "19/50 [==========>...................] - ETA: 2:48 - loss: 0.0166(32, 1344, 3990)\n",
            "20/50 [===========>..................] - ETA: 2:43 - loss: 0.0164(32, 1344, 3990)\n",
            "21/50 [===========>..................] - ETA: 2:38 - loss: 0.0163(32, 1344, 3990)\n",
            "22/50 [============>.................] - ETA: 2:32 - loss: 0.0165(32, 1344, 3990)\n",
            "23/50 [============>.................] - ETA: 2:27 - loss: 0.0168(32, 1344, 3990)\n",
            "24/50 [=============>................] - ETA: 2:21 - loss: 0.0171(32, 1344, 3990)\n",
            "25/50 [==============>...............] - ETA: 2:16 - loss: 0.0171(32, 1344, 3990)\n",
            "26/50 [==============>...............] - ETA: 2:10 - loss: 0.0170(32, 1344, 3990)\n",
            "27/50 [===============>..............] - ETA: 2:05 - loss: 0.0169(32, 1344, 3990)\n",
            "28/50 [===============>..............] - ETA: 2:00 - loss: 0.0168(32, 1344, 3990)\n",
            "29/50 [================>.............] - ETA: 1:54 - loss: 0.0167(32, 1344, 3990)\n",
            "30/50 [=================>............] - ETA: 1:49 - loss: 0.0166(32, 1344, 3990)\n",
            "31/50 [=================>............] - ETA: 1:43 - loss: 0.0165(32, 1344, 3990)\n",
            "32/50 [==================>...........] - ETA: 1:38 - loss: 0.0164(32, 1344, 3990)\n",
            "33/50 [==================>...........] - ETA: 1:32 - loss: 0.0165(32, 1344, 3990)\n",
            "34/50 [===================>..........] - ETA: 1:27 - loss: 0.0168(32, 1344, 3990)\n",
            "35/50 [====================>.........] - ETA: 1:21 - loss: 0.0169(32, 1344, 3990)\n",
            "36/50 [====================>.........] - ETA: 1:16 - loss: 0.0171(32, 1344, 3990)\n",
            "37/50 [=====================>........] - ETA: 1:10 - loss: 0.0172(32, 1344, 3990)\n",
            "38/50 [=====================>........] - ETA: 1:05 - loss: 0.0173(32, 1344, 3990)\n",
            "39/50 [======================>.......] - ETA: 59s - loss: 0.0173 (32, 1344, 3990)\n",
            "40/50 [=======================>......] - ETA: 54s - loss: 0.0172(32, 1344, 3990)\n",
            "41/50 [=======================>......] - ETA: 49s - loss: 0.0172(32, 1344, 3990)\n",
            "42/50 [========================>.....] - ETA: 43s - loss: 0.0171(32, 1344, 3990)\n",
            "43/50 [========================>.....] - ETA: 38s - loss: 0.0171(32, 1344, 3990)\n",
            "44/50 [=========================>....] - ETA: 32s - loss: 0.0171(32, 1344, 3990)\n",
            "45/50 [==========================>...] - ETA: 27s - loss: 0.0171(32, 1344, 3990)\n",
            "46/50 [==========================>...] - ETA: 21s - loss: 0.0171(32, 1344, 3990)\n",
            "47/50 [===========================>..] - ETA: 16s - loss: 0.0170(32, 1344, 3990)\n",
            "48/50 [===========================>..] - ETA: 10s - loss: 0.0170(32, 1344, 3990)\n",
            "49/50 [============================>.] - ETA: 5s - loss: 0.0170 (32, 1344, 3990)\n",
            "1/1 [==============================] - 0s 225ms/sample - loss: 0.0194\n",
            "\n",
            "Epoch 00005: val_loss did not improve from 0.01469\n",
            "\n",
            "Epoch 00005: ReduceLROnPlateau reducing learning rate to 0.00010000000474974513.\n",
            "50/50 [==============================] - 272s 5s/step - loss: 0.0169 - val_loss: 0.0194\n"
          ],
          "name": "stdout"
        }
      ]
    },
    {
      "cell_type": "markdown",
      "metadata": {
        "id": "h4AizbrtJCZp",
        "colab_type": "text"
      },
      "source": [
        "Validation"
      ]
    },
    {
      "cell_type": "code",
      "metadata": {
        "id": "h-ZyWILdJD0e",
        "colab_type": "code",
        "outputId": "27819fff-e100-40f8-e20f-abe12834243a",
        "colab": {
          "base_uri": "https://localhost:8080/",
          "height": 357
        }
      },
      "source": [
        "#Performance on test set\n",
        "result = model.evaluate(x=np.expand_dims(x_test_scaled, axis=0),\n",
        "                        y=np.expand_dims(y_test_scaled, axis=0))\n",
        "print(\"loss (test-set):\", result)\n",
        "\n",
        "plot_comparison(start_idx=10, length=960, train=False)"
      ],
      "execution_count": 0,
      "outputs": [
        {
          "output_type": "stream",
          "text": [
            "\r1/1 [==============================] - 0s 369ms/sample - loss: 0.0147\n",
            "loss (test-set): 0.014692483469843864\n"
          ],
          "name": "stdout"
        },
        {
          "output_type": "display_data",
          "data": {
            "image/png": "[encoded data removed]",
            "text/plain": [
              "<Figure size 1080x360 with 1 Axes>"
            ]
          },
          "metadata": {
            "tags": []
          }
        }
      ]
    },
    {
      "cell_type": "code",
      "metadata": {
        "id": "ob5oOXH1wltc",
        "colab_type": "code",
        "outputId": "eed84355-c233-4162-bccc-8d808ce3c3a9",
        "colab": {
          "base_uri": "https://localhost:8080/",
          "height": 235
        }
      },
      "source": [
        "#predict(x, batch_size=None, verbose=0, steps=None, callbacks=None)\n",
        "\n",
        "x = x_train_scaled\n",
        "y_true = y_train\n",
        "\n",
        "x = np.expand_dims(x, axis=0)\n",
        "x"
      ],
      "execution_count": 0,
      "outputs": [
        {
          "output_type": "execute_result",
          "data": {
            "text/plain": [
              "array([[[0.        , 1.        , 0.05485798, ..., 0.        ,\n",
              "         0.        , 0.        ],\n",
              "        [0.        , 1.        , 0.08620924, ..., 0.        ,\n",
              "         0.        , 0.33333333],\n",
              "        [0.        , 1.        , 0.05073921, ..., 0.        ,\n",
              "         0.        , 0.66666667],\n",
              "        ...,\n",
              "        [0.        , 1.        , 0.11911306, ..., 1.        ,\n",
              "         0.04347826, 1.        ],\n",
              "        [0.        , 1.        , 0.13947777, ..., 1.        ,\n",
              "         0.08695652, 0.        ],\n",
              "        [0.        , 1.        , 0.15842315, ..., 1.        ,\n",
              "         0.08695652, 0.33333333]]])"
            ]
          },
          "metadata": {
            "tags": []
          },
          "execution_count": 63
        }
      ]
    },
    {
      "cell_type": "code",
      "metadata": {
        "id": "b581J_bEx9Hd",
        "colab_type": "code",
        "outputId": "19fc240c-0a32-44c5-b5e7-e80b4c35ee90",
        "colab": {
          "base_uri": "https://localhost:8080/",
          "height": 134
        }
      },
      "source": [
        "y_pred = model.predict(x)\n",
        "y_pred_rescaled = y_scaler.inverse_transform(y_pred[0])\n",
        "\n",
        "y_pred_rescaled"
      ],
      "execution_count": 0,
      "outputs": [
        {
          "output_type": "execute_result",
          "data": {
            "text/plain": [
              "array([[0.02664465],\n",
              "       [0.01736993],\n",
              "       [0.01550019],\n",
              "       ...,\n",
              "       [0.01110308],\n",
              "       [0.01146328],\n",
              "       [0.01084023]], dtype=float32)"
            ]
          },
          "metadata": {
            "tags": []
          },
          "execution_count": 44
        }
      ]
    },
    {
      "cell_type": "code",
      "metadata": {
        "id": "CvWmoOhEyfFp",
        "colab_type": "code",
        "outputId": "66950166-cfaf-4b50-e520-1b2fee9b2f24",
        "colab": {
          "base_uri": "https://localhost:8080/",
          "height": 168
        }
      },
      "source": [
        "print(y_train)\n",
        "print(y_true[:,0])\n",
        "print(y_pred_rescaled[:,0])"
      ],
      "execution_count": 0,
      "outputs": [
        {
          "output_type": "stream",
          "text": [
            "[[0.2533157 ]\n",
            " [0.25419566]\n",
            " [0.26014047]\n",
            " ...\n",
            " [0.12623627]\n",
            " [0.13883799]\n",
            " [0.19021915]]\n",
            "[0.2533157  0.25419566 0.26014047 ... 0.12623627 0.13883799 0.19021915]\n",
            "[0.17961705 0.18149605 0.18630084 ... 0.10167597 0.11900426 0.13477384]\n"
          ],
          "name": "stdout"
        }
      ]
    }
  ]
}